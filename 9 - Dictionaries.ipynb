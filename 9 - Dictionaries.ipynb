{
 "cells": [
  {
   "cell_type": "markdown",
   "metadata": {},
   "source": [
    "# Dictionaries"
   ]
  },
  {
   "cell_type": "markdown",
   "metadata": {},
   "source": [
    "It is a built-in data type that allows you to store and retrieve data in a key-value pair format. Dictionaries are also known as associative arrays or hash maps in other programming languages. Unlike sequences such as lists or tuples, dictionaries do not have an inherent order among the elements. Instead, each element is accessed by a unique key.\n",
    "\n",
    "They are muteable, meaning you can modify, add, or remove key-value pairs after the dictionary is created. Each key in a dictionary must be unique. If you try to add a key-value pair with an existing key, it will overwrite the existing value."
   ]
  },
  {
   "cell_type": "markdown",
   "metadata": {},
   "source": [
    "**Use Cases**\n",
    "\n",
    "Fast Lookup: Dictionaries are highly efficient for lookups. If you have a key, you can quickly retrieve its associated value without iterating through the entire collection.\n",
    "\n",
    "Associative Data: Dictionaries are great for representing data where there is an association between keys and values, such as representing a person's attributes (name, age, etc.) or a set of configuration parameters.\n",
    "\n",
    "Counting and Frequency: Dictionaries are useful for counting occurrences of items in a collection. For example, counting the frequency of words in a text.\n",
    "\n",
    "Configuration Settings: Dictionaries are often used to store configuration settings in applications."
   ]
  },
  {
   "cell_type": "markdown",
   "metadata": {},
   "source": [
    "**Big O Notation for Dictionary Operations**\n",
    "\n",
    "Insertion: O(1) - Constant time complexity for average and amortized cases. In rare cases, it can be O(n) in the worst case when the hash table needs to be resized.\n",
    "\n",
    "Deletion: O(1) - Constant time complexity for average and amortized cases. In rare cases, it can be O(n) in the worst case when the hash table needs to be resized.\n",
    "\n",
    "Access: O(1) - Constant time complexity on average. However, it can degrade to O(n) in the worst case if there are many hash collisions.\n",
    "\n",
    "Search: O(1) - Constant time complexity on average. However, it can degrade to O(n) in the worst case if there are many hash collisions."
   ]
  },
  {
   "cell_type": "code",
   "execution_count": 11,
   "metadata": {},
   "outputs": [
    {
     "name": "stdout",
     "output_type": "stream",
     "text": [
      "{'name': 'Alice', 'age': 25, 'city': 'London'}\n",
      "Alice\n",
      "26\n",
      "{'name': 'Alice', 'age': 26, 'city': 'London', 'occupation': 'Engineer'}\n",
      "{'name': 'Alice', 'age': 26, 'occupation': 'Engineer'}\n",
      "True\n",
      "name Alice\n",
      "age 26\n",
      "occupation Engineer\n",
      "name\n",
      "age\n",
      "occupation\n",
      "Alice\n",
      "26\n",
      "Engineer\n"
     ]
    }
   ],
   "source": [
    "# Creating a dictionary\n",
    "\n",
    "person = {'name': 'Alice', 'age': 25, 'city': 'London'}\n",
    "\n",
    "print(person) # Output: {'name': 'Alice', 'age': 25, 'city': 'London'}\n",
    "\n",
    "\n",
    "# Accessing values\n",
    "\n",
    "print(person['name'])  # Output: 'Alice'\n",
    "\n",
    "\n",
    "# Modifying a value\n",
    "\n",
    "person['age'] = 26\n",
    "\n",
    "print(person['age']) # Output: 26\n",
    "\n",
    "\n",
    "# Adding a new key-value pair\n",
    "\n",
    "person['occupation'] = 'Engineer'\n",
    "\n",
    "print(person) # Output: {'name': 'Alice', 'age': 26, 'city': 'London', 'occupation': 'Engineer'}\n",
    "\n",
    "\n",
    "# Removing a key-value pair\n",
    "\n",
    "del person['city']\n",
    "\n",
    "print(person) # Output: {'name': 'Alice', 'age': 26, 'occupation': 'Engineer'}\n",
    "\n",
    "\n",
    "# Checking if a key is present\n",
    "\n",
    "print('name' in person)  #Output: True\n",
    "\n",
    "\n",
    "# Iterating through keys and values\n",
    "\n",
    "for key, value in person.items():\n",
    "    print(key, value)\n",
    "\n",
    "\n",
    "#Printing only the keys\n",
    "\n",
    "for key in person:\n",
    "    print(key)\n",
    "\n",
    "\n",
    "# Printing only the values\n",
    "\n",
    "for value in person.values():\n",
    "    print(value)\n"
   ]
  },
  {
   "cell_type": "code",
   "execution_count": 4,
   "metadata": {},
   "outputs": [
    {
     "name": "stdout",
     "output_type": "stream",
     "text": [
      "{'name': 'Alice', 'age': 25, 'city': 'London'}\n",
      "['name', 'age', 'city']\n",
      "['Alice', 25, 'London']\n",
      "{'name': 'Alice', 'age': 25, 'city': 'London'}\n",
      "{'name': 'Alice', 'age': 25, 'city': 'London', 'object': 'banana'}\n",
      "\n",
      "Jen's favorite languages are:\n",
      "\tPython\n",
      "\tRuby\n",
      "\n",
      "Sarah's favorite languages are:\n",
      "\tC\n",
      "\n",
      "Edward's favorite languages are:\n",
      "\tRuby\n",
      "\tGo\n",
      "\n",
      "Phil's favorite languages are:\n",
      "\tPython\n",
      "\tHaskell\n"
     ]
    }
   ],
   "source": [
    "person = {'name': 'Alice', 'age': 25, 'city': 'London'}\n",
    "\n",
    "print(person) # Output: {'name': 'Alice', 'age': 25, 'city': 'London'}\n",
    "\n",
    "\n",
    "# Getting a List of Keys or Values\n",
    "\n",
    "keys = list(person.keys())\n",
    "\n",
    "print(keys) # Output: ['name', 'age', 'city']\n",
    "\n",
    "\n",
    "values = list(person.values())\n",
    "\n",
    "print(values) # Output: ['Alice', 25, 'London']\n",
    "\n",
    "\n",
    "# Copying a Dictionary\n",
    "\n",
    "person2 = person.copy()\n",
    "\n",
    "print(person2) # Output: {'name': 'Alice', 'age': 25, 'city': 'London'}\n",
    "\n",
    "\n",
    "# Merging Dictionaries (Python 3.9 and later)\n",
    "\n",
    "new_dict = {'object': 'banana'}\n",
    "\n",
    "merged_dict = {**person, **new_dict}\n",
    "\n",
    "print(merged_dict) # Output: {'name': 'Alice', 'age': 25, 'city': 'London', 'object': 'banana'}\n",
    "\n",
    "\n",
    "# Example usage\n",
    "\n",
    "favorite_languages = {\n",
    "    'jen': ['python', 'ruby'],\n",
    "    'sarah': 'c',\n",
    "    'edward': ['ruby', 'go'],\n",
    "    'phil': ['python', 'haskell'],\n",
    "}\n",
    "for name, languages in favorite_languages.items():\n",
    "    print(\"\\n\" + name.title() + \"'s favorite languages are:\")\n",
    "    for language in languages:\n",
    "        print(\"\\t\" + language.title())\n"
   ]
  }
 ],
 "metadata": {
  "kernelspec": {
   "display_name": "Python 3",
   "language": "python",
   "name": "python3"
  },
  "language_info": {
   "codemirror_mode": {
    "name": "ipython",
    "version": 3
   },
   "file_extension": ".py",
   "mimetype": "text/x-python",
   "name": "python",
   "nbconvert_exporter": "python",
   "pygments_lexer": "ipython3",
   "version": "3.11.5"
  }
 },
 "nbformat": 4,
 "nbformat_minor": 2
}
