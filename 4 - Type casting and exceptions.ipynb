{
 "cells": [
  {
   "cell_type": "markdown",
   "metadata": {},
   "source": [
    "# Type casting and exceptions"
   ]
  },
  {
   "cell_type": "markdown",
   "metadata": {},
   "source": [
    "**Implicit Type Conversion (Coercion):**\n",
    "\n",
    "Python performs automatic type conversion in certain situations, known as implicit type conversion or coercion. This happens when an operation involves operands of different types, and Python automatically converts one or more of them to a common type."
   ]
  },
  {
   "cell_type": "code",
   "execution_count": 2,
   "metadata": {},
   "outputs": [
    {
     "name": "stdout",
     "output_type": "stream",
     "text": [
      "<class 'int'>\n",
      "<class 'float'>\n",
      "<class 'float'>\n"
     ]
    }
   ],
   "source": [
    "x = 5 # integer\n",
    "print(type(x))\n",
    "\n",
    "y = 2.0 # float\n",
    "print(type(y))\n",
    "\n",
    "result = x + y  # The result is a float (implicit conversion)\n",
    "print(type(result))"
   ]
  },
  {
   "cell_type": "markdown",
   "metadata": {},
   "source": [
    "**Explicit Type Conversion (Casting):**\n",
    "\n",
    "You can explicitly convert a variable from one type to another using built-in functions. The most common functions for type conversion are int(), float(), str()."
   ]
  },
  {
   "cell_type": "code",
   "execution_count": 11,
   "metadata": {},
   "outputs": [
    {
     "name": "stdout",
     "output_type": "stream",
     "text": [
      "3\n",
      "<class 'int'>\n",
      "5.0\n",
      "<class 'float'>\n",
      "5\n",
      "<class 'int'>\n",
      "5.2\n",
      "<class 'float'>\n",
      "42\n",
      "<class 'str'>\n",
      "42.5\n",
      "<class 'str'>\n"
     ]
    }
   ],
   "source": [
    "# Convert float to integer\n",
    "float_to_int = int(3.14)\n",
    "print(float_to_int) #Output: 3\n",
    "print(type(float_to_int))\n",
    "\n",
    "# Convert integer to float\n",
    "int_to_float = float(5)\n",
    "print(int_to_float) #Output: 5.0\n",
    "print(type(int_to_float))\n",
    "\n",
    "# Convert string to integer\n",
    "str_to_int = int(\"5\")\n",
    "print(str_to_int) #Output: 5\n",
    "print(type(str_to_int))\n",
    "\n",
    "# Convert string to float\n",
    "str_to_float = float(\"5.2\")\n",
    "print(str_to_float) #Output: 5.2\n",
    "print(type(str_to_float))\n",
    "\n",
    "# Convert integer to string\n",
    "int_to_str = str(42)\n",
    "print(int_to_str) #Output: 42\n",
    "print(type(int_to_str))\n",
    "\n",
    "# Convert float to string\n",
    "float_to_str = str(42.5)\n",
    "print(float_to_str) #Output: 42.5\n",
    "print(type(float_to_str))"
   ]
  },
  {
   "cell_type": "markdown",
   "metadata": {},
   "source": [
    "**Type-Specific Methods:**\n",
    "\n",
    "Some data types have methods for converting to other types. For example, the list(), tuple(), and set() methods can be used to convert sequences."
   ]
  },
  {
   "cell_type": "code",
   "execution_count": 33,
   "metadata": {},
   "outputs": [
    {
     "name": "stdout",
     "output_type": "stream",
     "text": [
      "['1', '2', '3', 'a', 'b', 'c']\n",
      "('1', '2', '3', 'a', 'b', 'c')\n",
      "{'c', '3', 'b', 'a', '2', '1'}\n",
      "('1', '2', '3', 'a', 'b', 'c')\n",
      "{'c', '3', 'b', 'a', '2', '1'}\n",
      "['1', '2', '3', 'a', 'b', 'c']\n",
      "{'c', '3', 'b', 'a', '2', '1'}\n",
      "['c', '3', 'b', 'a', '2', '1']\n",
      "('c', '3', 'b', 'a', '2', '1')\n",
      "{'a': 1, 'b': 2, 'c': 3}\n",
      "{'a': 1, 'b': 2, 'c': 3}\n",
      "{'a': 2, 2: 'b'}\n"
     ]
    }
   ],
   "source": [
    "my_string = \"123abc\"\n",
    "\n",
    "str_to_list = list(my_string) # Convert string to list\n",
    "print(str_to_list) #Output: ['1', '2', '3', 'a', 'b', 'c']\n",
    "\n",
    "str_to_tuple = tuple(my_string) # Convert string to tuple\n",
    "print(str_to_tuple) #Output: ('1', '2', '3', 'a', 'b', 'c')\n",
    "\n",
    "str_to_set = set(my_string) # Convert srting to set\n",
    "print(str_to_set) #Output: {'c', '3', 'b', 'a', '2', '1'}\n",
    "\n",
    "list_to_tuple = tuple(str_to_list) # Convert list to tuple\n",
    "print(list_to_tuple) #Output: ('1', '2', '3', 'a', 'b', 'c')\n",
    "\n",
    "list_to_set = set(str_to_list) # Convert list to set\n",
    "print(list_to_set) #Output: {'c', '3', 'b', 'a', '2', '1'}\n",
    "\n",
    "tuple_to_list = list(str_to_tuple) # Convert tuple to list\n",
    "print(tuple_to_list) #Output: ['1', '2', '3', 'a', 'b', 'c']\n",
    "\n",
    "tuple_to_set = set(str_to_tuple) # Convert tuple to set\n",
    "print(tuple_to_set) #Output: {'c', '3', 'b', 'a', '2', '1'}\n",
    "\n",
    "set_to_list = list(str_to_set) # Convert set to list\n",
    "print(set_to_list) #Output: ['c', '3', 'b', 'a', '2', '1']\n",
    "\n",
    "set_to_tuple = tuple(str_to_set) # Convert set to tuple\n",
    "print(set_to_tuple) #Output: ('c', '3', 'b', 'a', '2', '1')\n",
    "\n",
    "my_list_of_tuples = [('a', 1), ('b', 2), ('c', 3)]\n",
    "my_dict = dict(my_list_of_tuples)  # Convert list of tuples to dictionary\n",
    "print(my_dict) #Output: {'a': 1, 'b': 2, 'c': 3}\n",
    "\n",
    "my_list = [['a', 1], ['b', 2], ['c', 3]]\n",
    "my_dict2 = dict(my_list)  # Convert a list, which contains lists to dictionary\n",
    "print(my_dict2) #Output: {'a': 1, 'b': 2, 'c': 3}\n",
    "\n",
    "x = {'a':2, 2:'b'}\n",
    "print(x)"
   ]
  },
  {
   "cell_type": "markdown",
   "metadata": {},
   "source": [
    "**Exceptions**\n",
    "\n",
    "In Python, exceptions are events that occur during the execution of a program that disrupt the normal flow of instructions. When an exceptional situation arises, Python raises an exception, and the normal flow of the program is interrupted. To handle these exceptions and prevent the program from crashing, you can use try-except blocks."
   ]
  },
  {
   "cell_type": "markdown",
   "metadata": {},
   "source": [
    "**TypeError:** Raised when an operation is performed on an object of an inappropriate type."
   ]
  },
  {
   "cell_type": "code",
   "execution_count": 34,
   "metadata": {},
   "outputs": [
    {
     "ename": "TypeError",
     "evalue": "can only concatenate str (not \"int\") to str",
     "output_type": "error",
     "traceback": [
      "\u001b[0;31m---------------------------------------------------------------------------\u001b[0m",
      "\u001b[0;31mTypeError\u001b[0m                                 Traceback (most recent call last)",
      "\u001b[1;32m/Users/kristongabor/Desktop/Python training/4 - Type casting and exceptions.ipynb Cell 9\u001b[0m line \u001b[0;36m3\n\u001b[1;32m      <a href='vscode-notebook-cell:/Users/kristongabor/Desktop/Python%20training/4%20-%20Type%20casting%20and%20exceptions.ipynb#X14sZmlsZQ%3D%3D?line=0'>1</a>\u001b[0m x \u001b[39m=\u001b[39m \u001b[39m\"\u001b[39m\u001b[39mHello\u001b[39m\u001b[39m\"\u001b[39m\n\u001b[1;32m      <a href='vscode-notebook-cell:/Users/kristongabor/Desktop/Python%20training/4%20-%20Type%20casting%20and%20exceptions.ipynb#X14sZmlsZQ%3D%3D?line=1'>2</a>\u001b[0m y \u001b[39m=\u001b[39m \u001b[39m5\u001b[39m\n\u001b[0;32m----> <a href='vscode-notebook-cell:/Users/kristongabor/Desktop/Python%20training/4%20-%20Type%20casting%20and%20exceptions.ipynb#X14sZmlsZQ%3D%3D?line=2'>3</a>\u001b[0m result \u001b[39m=\u001b[39m x \u001b[39m+\u001b[39;49m y  \u001b[39m# Raises a TypeError\u001b[39;00m\n",
      "\u001b[0;31mTypeError\u001b[0m: can only concatenate str (not \"int\") to str"
     ]
    }
   ],
   "source": [
    "x = \"Hello\"\n",
    "y = 5\n",
    "\n",
    "result = x + y  # Raises a TypeError"
   ]
  },
  {
   "cell_type": "markdown",
   "metadata": {},
   "source": [
    "**ValueError:** Raised when a built-in operation or function receives an argument with the right type but an inappropriate value."
   ]
  },
  {
   "cell_type": "code",
   "execution_count": 36,
   "metadata": {},
   "outputs": [
    {
     "ename": "ValueError",
     "evalue": "invalid literal for int() with base 10: 'asd'",
     "output_type": "error",
     "traceback": [
      "\u001b[0;31m---------------------------------------------------------------------------\u001b[0m",
      "\u001b[0;31mValueError\u001b[0m                                Traceback (most recent call last)",
      "\u001b[1;32m/Users/kristongabor/Desktop/Python training/4 - Type casting and exceptions.ipynb Cell 12\u001b[0m line \u001b[0;36m3\n\u001b[1;32m      <a href='vscode-notebook-cell:/Users/kristongabor/Desktop/Python%20training/4%20-%20Type%20casting%20and%20exceptions.ipynb#X20sZmlsZQ%3D%3D?line=0'>1</a>\u001b[0m x \u001b[39m=\u001b[39m \u001b[39m\"\u001b[39m\u001b[39masd\u001b[39m\u001b[39m\"\u001b[39m\n\u001b[0;32m----> <a href='vscode-notebook-cell:/Users/kristongabor/Desktop/Python%20training/4%20-%20Type%20casting%20and%20exceptions.ipynb#X20sZmlsZQ%3D%3D?line=2'>3</a>\u001b[0m y \u001b[39m=\u001b[39m \u001b[39mint\u001b[39;49m(x)  \u001b[39m# Raises a ValueError\u001b[39;00m\n",
      "\u001b[0;31mValueError\u001b[0m: invalid literal for int() with base 10: 'asd'"
     ]
    }
   ],
   "source": [
    "x = \"asd\"\n",
    "\n",
    "y = int(x)  # Raises a ValueError"
   ]
  },
  {
   "cell_type": "markdown",
   "metadata": {},
   "source": [
    "**NameError:** Raised when a local or global name is not found."
   ]
  },
  {
   "cell_type": "code",
   "execution_count": 37,
   "metadata": {},
   "outputs": [
    {
     "ename": "NameError",
     "evalue": "name 'nonexistent_variable' is not defined",
     "output_type": "error",
     "traceback": [
      "\u001b[0;31m---------------------------------------------------------------------------\u001b[0m",
      "\u001b[0;31mNameError\u001b[0m                                 Traceback (most recent call last)",
      "\u001b[1;32m/Users/kristongabor/Desktop/Python training/4 - Type casting and exceptions.ipynb Cell 14\u001b[0m line \u001b[0;36m1\n\u001b[0;32m----> <a href='vscode-notebook-cell:/Users/kristongabor/Desktop/Python%20training/4%20-%20Type%20casting%20and%20exceptions.ipynb#X23sZmlsZQ%3D%3D?line=0'>1</a>\u001b[0m \u001b[39mprint\u001b[39m(nonexistent_variable)  \u001b[39m# Raises a NameError\u001b[39;00m\n",
      "\u001b[0;31mNameError\u001b[0m: name 'nonexistent_variable' is not defined"
     ]
    }
   ],
   "source": [
    "print(nonexistent_variable)  # Raises a NameError"
   ]
  },
  {
   "cell_type": "markdown",
   "metadata": {},
   "source": [
    "**ZeroDivisionError:** Raised when the second operand of a division or modulo operation is zero."
   ]
  },
  {
   "cell_type": "code",
   "execution_count": 38,
   "metadata": {},
   "outputs": [
    {
     "ename": "ZeroDivisionError",
     "evalue": "division by zero",
     "output_type": "error",
     "traceback": [
      "\u001b[0;31m---------------------------------------------------------------------------\u001b[0m",
      "\u001b[0;31mZeroDivisionError\u001b[0m                         Traceback (most recent call last)",
      "\u001b[1;32m/Users/kristongabor/Desktop/Python training/4 - Type casting and exceptions.ipynb Cell 16\u001b[0m line \u001b[0;36m1\n\u001b[0;32m----> <a href='vscode-notebook-cell:/Users/kristongabor/Desktop/Python%20training/4%20-%20Type%20casting%20and%20exceptions.ipynb#X24sZmlsZQ%3D%3D?line=0'>1</a>\u001b[0m result \u001b[39m=\u001b[39m \u001b[39m10\u001b[39;49m \u001b[39m/\u001b[39;49m \u001b[39m0\u001b[39;49m  \u001b[39m# Raises a ZeroDivisionError\u001b[39;00m\n",
      "\u001b[0;31mZeroDivisionError\u001b[0m: division by zero"
     ]
    }
   ],
   "source": [
    "result = 10 / 0  # Raises a ZeroDivisionError"
   ]
  },
  {
   "cell_type": "markdown",
   "metadata": {},
   "source": [
    "**FileNotFoundError:** Raised when a file or directory is requested but cannot be found."
   ]
  },
  {
   "cell_type": "code",
   "execution_count": 39,
   "metadata": {},
   "outputs": [
    {
     "ename": "FileNotFoundError",
     "evalue": "[Errno 2] No such file or directory: 'nonexistent_file.txt'",
     "output_type": "error",
     "traceback": [
      "\u001b[0;31m---------------------------------------------------------------------------\u001b[0m",
      "\u001b[0;31mFileNotFoundError\u001b[0m                         Traceback (most recent call last)",
      "\u001b[1;32m/Users/kristongabor/Desktop/Python training/4 - Type casting and exceptions.ipynb Cell 18\u001b[0m line \u001b[0;36m1\n\u001b[0;32m----> <a href='vscode-notebook-cell:/Users/kristongabor/Desktop/Python%20training/4%20-%20Type%20casting%20and%20exceptions.ipynb#X26sZmlsZQ%3D%3D?line=0'>1</a>\u001b[0m \u001b[39mwith\u001b[39;00m \u001b[39mopen\u001b[39;49m(\u001b[39m\"\u001b[39;49m\u001b[39mnonexistent_file.txt\u001b[39;49m\u001b[39m\"\u001b[39;49m, \u001b[39m\"\u001b[39;49m\u001b[39mr\u001b[39;49m\u001b[39m\"\u001b[39;49m) \u001b[39mas\u001b[39;00m file:\n\u001b[1;32m      <a href='vscode-notebook-cell:/Users/kristongabor/Desktop/Python%20training/4%20-%20Type%20casting%20and%20exceptions.ipynb#X26sZmlsZQ%3D%3D?line=1'>2</a>\u001b[0m     content \u001b[39m=\u001b[39m file\u001b[39m.\u001b[39mread()  \u001b[39m# Raises a FileNotFoundError\u001b[39;00m\n",
      "File \u001b[0;32m~/Library/Python/3.11/lib/python/site-packages/IPython/core/interactiveshell.py:308\u001b[0m, in \u001b[0;36m_modified_open\u001b[0;34m(file, *args, **kwargs)\u001b[0m\n\u001b[1;32m    301\u001b[0m \u001b[39mif\u001b[39;00m file \u001b[39min\u001b[39;00m {\u001b[39m0\u001b[39m, \u001b[39m1\u001b[39m, \u001b[39m2\u001b[39m}:\n\u001b[1;32m    302\u001b[0m     \u001b[39mraise\u001b[39;00m \u001b[39mValueError\u001b[39;00m(\n\u001b[1;32m    303\u001b[0m         \u001b[39mf\u001b[39m\u001b[39m\"\u001b[39m\u001b[39mIPython won\u001b[39m\u001b[39m'\u001b[39m\u001b[39mt let you open fd=\u001b[39m\u001b[39m{\u001b[39;00mfile\u001b[39m}\u001b[39;00m\u001b[39m by default \u001b[39m\u001b[39m\"\u001b[39m\n\u001b[1;32m    304\u001b[0m         \u001b[39m\"\u001b[39m\u001b[39mas it is likely to crash IPython. If you know what you are doing, \u001b[39m\u001b[39m\"\u001b[39m\n\u001b[1;32m    305\u001b[0m         \u001b[39m\"\u001b[39m\u001b[39myou can use builtins\u001b[39m\u001b[39m'\u001b[39m\u001b[39m open.\u001b[39m\u001b[39m\"\u001b[39m\n\u001b[1;32m    306\u001b[0m     )\n\u001b[0;32m--> 308\u001b[0m \u001b[39mreturn\u001b[39;00m io_open(file, \u001b[39m*\u001b[39;49margs, \u001b[39m*\u001b[39;49m\u001b[39m*\u001b[39;49mkwargs)\n",
      "\u001b[0;31mFileNotFoundError\u001b[0m: [Errno 2] No such file or directory: 'nonexistent_file.txt'"
     ]
    }
   ],
   "source": [
    "with open(\"nonexistent_file.txt\", \"r\") as file:\n",
    "    content = file.read()  # Raises a FileNotFoundError"
   ]
  },
  {
   "cell_type": "markdown",
   "metadata": {},
   "source": [
    "**Handling Exceptions with try and except:**\n",
    "\n",
    "You can use a try block to enclose code that might raise an exception, and an except block to handle specific exception types or a general Exception block to catch any exception."
   ]
  },
  {
   "cell_type": "code",
   "execution_count": 41,
   "metadata": {},
   "outputs": [
    {
     "name": "stdout",
     "output_type": "stream",
     "text": [
      "Error: can only concatenate str (not \"int\") to str\n"
     ]
    }
   ],
   "source": [
    "x = \"Hello\"\n",
    "y = 5\n",
    "\n",
    "try:\n",
    "    # Code that might raise an exception\n",
    "    result = x + y\n",
    "except TypeError as e:\n",
    "    # Handle a specific exception\n",
    "    print(f\"Error: {e}\")\n",
    "except Exception as e:\n",
    "    # Handle any other exceptions\n",
    "    print(f\"Unexpected Error: {e}\")"
   ]
  },
  {
   "cell_type": "markdown",
   "metadata": {},
   "source": [
    "**You can use an else block after except to specify code that should be executed if no exceptions are raised in the try block.**"
   ]
  },
  {
   "cell_type": "code",
   "execution_count": 3,
   "metadata": {},
   "outputs": [
    {
     "name": "stdout",
     "output_type": "stream",
     "text": [
      "Error: can only concatenate str (not \"int\") to str\n"
     ]
    }
   ],
   "source": [
    "x = \"Hello\"\n",
    "y = 5\n",
    "\n",
    "try:\n",
    "    result = x + y\n",
    "except TypeError as e:\n",
    "    print(f\"Error: {e}\")\n",
    "else:\n",
    "    print(\"No exceptions were raised.\")"
   ]
  },
  {
   "cell_type": "markdown",
   "metadata": {},
   "source": [
    "**The finally block is executed regardless of whether an exception is raised or not. It's commonly used for cleanup operations.**"
   ]
  },
  {
   "cell_type": "code",
   "execution_count": 45,
   "metadata": {},
   "outputs": [
    {
     "name": "stdout",
     "output_type": "stream",
     "text": [
      "Error: can only concatenate str (not \"int\") to str\n",
      "This will be executed no matter what.\n"
     ]
    }
   ],
   "source": [
    "x = \"Hello\"\n",
    "y = 5\n",
    "\n",
    "try:\n",
    "    result = x + y\n",
    "except TypeError as e:\n",
    "    print(f\"Error: {e}\")\n",
    "finally:\n",
    "    print(\"This will be executed no matter what.\")"
   ]
  },
  {
   "cell_type": "markdown",
   "metadata": {},
   "source": [
    "**You can use the raise statement to explicitly raise an exception in your code.**"
   ]
  },
  {
   "cell_type": "code",
   "execution_count": 53,
   "metadata": {},
   "outputs": [
    {
     "ename": "FileNotFoundError",
     "evalue": "Cannot divide by zero",
     "output_type": "error",
     "traceback": [
      "\u001b[0;31m---------------------------------------------------------------------------\u001b[0m",
      "\u001b[0;31mFileNotFoundError\u001b[0m                         Traceback (most recent call last)",
      "\u001b[1;32m/Users/kristongabor/Desktop/Python training/4 - Type casting and exceptions.ipynb Cell 26\u001b[0m line \u001b[0;36m6\n\u001b[1;32m      <a href='vscode-notebook-cell:/Users/kristongabor/Desktop/Python%20training/4%20-%20Type%20casting%20and%20exceptions.ipynb#X40sZmlsZQ%3D%3D?line=2'>3</a>\u001b[0m         \u001b[39mraise\u001b[39;00m \u001b[39mFileNotFoundError\u001b[39;00m(\u001b[39m\"\u001b[39m\u001b[39mCannot divide by zero\u001b[39m\u001b[39m\"\u001b[39m)\n\u001b[1;32m      <a href='vscode-notebook-cell:/Users/kristongabor/Desktop/Python%20training/4%20-%20Type%20casting%20and%20exceptions.ipynb#X40sZmlsZQ%3D%3D?line=3'>4</a>\u001b[0m     \u001b[39mreturn\u001b[39;00m x \u001b[39m/\u001b[39m y\n\u001b[0;32m----> <a href='vscode-notebook-cell:/Users/kristongabor/Desktop/Python%20training/4%20-%20Type%20casting%20and%20exceptions.ipynb#X40sZmlsZQ%3D%3D?line=5'>6</a>\u001b[0m result \u001b[39m=\u001b[39m divide(\u001b[39m10\u001b[39;49m, \u001b[39m0\u001b[39;49m)  \u001b[39m# Raises a FileNotFoundError, although by default it would be a ZeroDivisionError\u001b[39;00m\n\u001b[1;32m      <a href='vscode-notebook-cell:/Users/kristongabor/Desktop/Python%20training/4%20-%20Type%20casting%20and%20exceptions.ipynb#X40sZmlsZQ%3D%3D?line=6'>7</a>\u001b[0m \u001b[39mprint\u001b[39m(result)\n",
      "\u001b[1;32m/Users/kristongabor/Desktop/Python training/4 - Type casting and exceptions.ipynb Cell 26\u001b[0m line \u001b[0;36m3\n\u001b[1;32m      <a href='vscode-notebook-cell:/Users/kristongabor/Desktop/Python%20training/4%20-%20Type%20casting%20and%20exceptions.ipynb#X40sZmlsZQ%3D%3D?line=0'>1</a>\u001b[0m \u001b[39mdef\u001b[39;00m \u001b[39mdivide\u001b[39m(x, y):\n\u001b[1;32m      <a href='vscode-notebook-cell:/Users/kristongabor/Desktop/Python%20training/4%20-%20Type%20casting%20and%20exceptions.ipynb#X40sZmlsZQ%3D%3D?line=1'>2</a>\u001b[0m     \u001b[39mif\u001b[39;00m y \u001b[39m==\u001b[39m \u001b[39m0\u001b[39m:\n\u001b[0;32m----> <a href='vscode-notebook-cell:/Users/kristongabor/Desktop/Python%20training/4%20-%20Type%20casting%20and%20exceptions.ipynb#X40sZmlsZQ%3D%3D?line=2'>3</a>\u001b[0m         \u001b[39mraise\u001b[39;00m \u001b[39mFileNotFoundError\u001b[39;00m(\u001b[39m\"\u001b[39m\u001b[39mCannot divide by zero\u001b[39m\u001b[39m\"\u001b[39m)\n\u001b[1;32m      <a href='vscode-notebook-cell:/Users/kristongabor/Desktop/Python%20training/4%20-%20Type%20casting%20and%20exceptions.ipynb#X40sZmlsZQ%3D%3D?line=3'>4</a>\u001b[0m     \u001b[39mreturn\u001b[39;00m x \u001b[39m/\u001b[39m y\n",
      "\u001b[0;31mFileNotFoundError\u001b[0m: Cannot divide by zero"
     ]
    }
   ],
   "source": [
    "def divide(x, y):\n",
    "    if y == 0:\n",
    "        raise FileNotFoundError(\"Cannot divide by zero\")\n",
    "    return x / y\n",
    "\n",
    "result = divide(10, 0)  # Raises a FileNotFoundError, although by default it would be a ZeroDivisionError\n",
    "print(result)"
   ]
  }
 ],
 "metadata": {
  "kernelspec": {
   "display_name": "Python 3",
   "language": "python",
   "name": "python3"
  },
  "language_info": {
   "codemirror_mode": {
    "name": "ipython",
    "version": 3
   },
   "file_extension": ".py",
   "mimetype": "text/x-python",
   "name": "python",
   "nbconvert_exporter": "python",
   "pygments_lexer": "ipython3",
   "version": "3.11.5"
  }
 },
 "nbformat": 4,
 "nbformat_minor": 2
}
