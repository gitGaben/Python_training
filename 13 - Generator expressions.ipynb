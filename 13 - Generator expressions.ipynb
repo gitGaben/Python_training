{
 "cells": [
  {
   "cell_type": "markdown",
   "metadata": {},
   "source": [
    "# Generator expressions"
   ]
  },
  {
   "cell_type": "markdown",
   "metadata": {},
   "source": [
    "In Python, to create iterators, we can use both regular functions and generators. Generators are written just like a normal function but we use yield() instead of return() for returning a result. It is more powerful as a tool to implement iterators. It is easy and more convenient to implement because it offers the evaluation of elements on demand. Unlike regular functions which on encountering a return statement terminates entirely, generators use a yield statement in which the state of the function is saved from the last call and can be picked up or resumed the next time we call a generator function. Another great advantage of the generator over a list is that it takes much less memory. "
   ]
  },
  {
   "cell_type": "markdown",
   "metadata": {},
   "source": [
    "**Yield Statement:**\n",
    "\n",
    "Context: Used in generator functions or generator expressions.\n",
    "\n",
    "A generator function is a special kind of function that allows you to iterate over a potentially large sequence of data efficiently, generating values on-the-fly rather than storing them all in memory. When a function contains the yield statement, it turns the function into a generator. \n",
    "\n",
    "Function Termination: When a yield statement is encountered, the function is temporarily suspended, and the yielded value is returned to the caller. The function's state is retained, allowing it to be resumed later.\n",
    "\n",
    "State: The state of the function is maintained between calls, and local variables retain their values."
   ]
  },
  {
   "cell_type": "code",
   "execution_count": 1,
   "metadata": {},
   "outputs": [
    {
     "name": "stdout",
     "output_type": "stream",
     "text": [
      "1\n",
      "1\n",
      "2\n"
     ]
    }
   ],
   "source": [
    "# Using return\n",
    "def simple_function():\n",
    "    return 1\n",
    "    # The function terminates after the return statement, and state is discarded\n",
    "\n",
    "result = simple_function()\n",
    "print(result)  # Output: 1\n",
    "\n",
    "# Using yield\n",
    "def generator_function():\n",
    "    yield 1\n",
    "    yield 2\n",
    "    # The function retains its state between calls\n",
    "\n",
    "gen = generator_function()\n",
    "print(next(gen))  # Output: 1\n",
    "print(next(gen))  # Output: 2"
   ]
  },
  {
   "cell_type": "markdown",
   "metadata": {},
   "source": [
    "Generator expressions are a concise way to create generators in Python. They have a similar syntax to list comprehensions but use parentheses () instead of square brackets []. The primary difference between list comprehensions and generator expressions is that generator expressions produce values on-the-fly and do not store the entire list in memory.\n",
    "\n",
    "Here's the basic syntax of a generator expression:\n",
    "\n",
    "gen = (expression for item in iterable if condition)\n",
    "\n",
    "expression: The value to be produced by the generator.\n",
    "\n",
    "item: Variable representing each element in the iterable.\n",
    "\n",
    "iterable: The sequence of elements you are iterating over (e.g., a list, tuple, string, etc.).\n",
    "\n",
    "condition (optional): An expression that filters the elements. The item is included in the generator only if the condition is True."
   ]
  },
  {
   "cell_type": "markdown",
   "metadata": {},
   "source": [
    "Basic example:"
   ]
  },
  {
   "cell_type": "code",
   "execution_count": 2,
   "metadata": {},
   "outputs": [
    {
     "name": "stdout",
     "output_type": "stream",
     "text": [
      "0\n",
      "1\n",
      "4\n",
      "9\n",
      "16\n"
     ]
    }
   ],
   "source": [
    "# Create a generator of squares of numbers from 0 to 4\n",
    "\n",
    "square_gen = (x**2 for x in range(5))\n",
    "\n",
    "for _ in range(5):\n",
    "    print(next(square_gen)) # Output 0 1 4 9 16"
   ]
  },
  {
   "cell_type": "code",
   "execution_count": 1,
   "metadata": {},
   "outputs": [
    {
     "name": "stdout",
     "output_type": "stream",
     "text": [
      "0\n",
      "1\n",
      "4\n",
      "9\n",
      "16\n"
     ]
    }
   ],
   "source": [
    "# Create a generator of squares of numbers from 0 to 4\n",
    "\n",
    "square_gen = (x**2 for x in range(5))\n",
    "\n",
    "for _ in square_gen:\n",
    "    print(_)"
   ]
  },
  {
   "cell_type": "markdown",
   "metadata": {},
   "source": [
    "Generator expression with a condition:"
   ]
  },
  {
   "cell_type": "code",
   "execution_count": 7,
   "metadata": {},
   "outputs": [
    {
     "name": "stdout",
     "output_type": "stream",
     "text": [
      "0\n",
      "2\n",
      "4\n",
      "6\n",
      "8\n"
     ]
    }
   ],
   "source": [
    "# Create a generator of even numbers from 0 to 9\n",
    "\n",
    "even_gen = (x for x in range(10) if x % 2 == 0)\n",
    "\n",
    "for _ in range(5):\n",
    "    print(next(even_gen)) # Output 0 2 4 6 8"
   ]
  },
  {
   "cell_type": "markdown",
   "metadata": {},
   "source": [
    "Using generator expressions in functions like sum or max:"
   ]
  },
  {
   "cell_type": "code",
   "execution_count": 9,
   "metadata": {},
   "outputs": [
    {
     "name": "stdout",
     "output_type": "stream",
     "text": [
      "30\n"
     ]
    }
   ],
   "source": [
    "# Calculate the sum of squares using a generator expression\n",
    "\n",
    "sum_of_squares = sum(x**2 for x in range(5))\n",
    "\n",
    "print(sum_of_squares)"
   ]
  }
 ],
 "metadata": {
  "kernelspec": {
   "display_name": "Python 3",
   "language": "python",
   "name": "python3"
  },
  "language_info": {
   "codemirror_mode": {
    "name": "ipython",
    "version": 3
   },
   "file_extension": ".py",
   "mimetype": "text/x-python",
   "name": "python",
   "nbconvert_exporter": "python",
   "pygments_lexer": "ipython3",
   "version": "3.11.5"
  }
 },
 "nbformat": 4,
 "nbformat_minor": 2
}
