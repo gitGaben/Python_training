{
 "cells": [
  {
   "cell_type": "markdown",
   "metadata": {},
   "source": [
    "# Creating variables in Python"
   ]
  },
  {
   "cell_type": "markdown",
   "metadata": {},
   "source": [
    "You can create variables with the '=' sign.\n",
    "\n",
    "Print function - It simply writes out the requested results. \n",
    "\n",
    "If I put the text into \"\" then it will write that out respectively. But I can write out variables as well, regardless of its data type."
   ]
  },
  {
   "cell_type": "code",
   "execution_count": 1,
   "metadata": {},
   "outputs": [
    {
     "name": "stdout",
     "output_type": "stream",
     "text": [
      "message\n",
      "Hello python\n"
     ]
    }
   ],
   "source": [
    "message = \"Hello python\"\n",
    "\n",
    "print(\"message\")\n",
    "print(message)"
   ]
  },
  {
   "cell_type": "markdown",
   "metadata": {},
   "source": [
    "If you would like to use \"\" in the text itself and you want to make it visible, then you can combine \"\" and '' in the same text.\n",
    "\n",
    "If you write '\\n' in front of a word, then it will begin a new line."
   ]
  },
  {
   "cell_type": "code",
   "execution_count": 8,
   "metadata": {},
   "outputs": [
    {
     "name": "stdout",
     "output_type": "stream",
     "text": [
      "Testing: \n",
      "I told my friend, \"Python is my favorite language!\"\n",
      "The language 'Python' is named after Monty Python, not the snake.\n"
     ]
    }
   ],
   "source": [
    "print('Testing: \\nI told my friend, \"Python is my favorite language!\"')\n",
    "print(\"The language 'Python' is named after Monty Python, not the snake.\")"
   ]
  },
  {
   "cell_type": "markdown",
   "metadata": {},
   "source": [
    "Upper and lower functions:\n",
    "\n",
    "Upper will write out the results in CAPITAL and the lower with small letters."
   ]
  },
  {
   "cell_type": "code",
   "execution_count": 3,
   "metadata": {},
   "outputs": [
    {
     "name": "stdout",
     "output_type": "stream",
     "text": [
      "ADA LOVELACE\n",
      "ada lovelace\n",
      "Random Word\n",
      "ASD\n"
     ]
    }
   ],
   "source": [
    "name = \"Ada Lovelace\"\n",
    "\n",
    "print(name.upper())\n",
    "print(name.lower())\n",
    "\n",
    "name2 = \"random word\"\n",
    "\n",
    "print(name2.title())\n",
    "\n",
    "print(str.upper(\"asd\"))"
   ]
  },
  {
   "cell_type": "markdown",
   "metadata": {},
   "source": [
    "These functions (methods) belong to the string class, that is why I am able to write str.upper(\"\")."
   ]
  },
  {
   "cell_type": "markdown",
   "metadata": {},
   "source": [
    "We can concatenate the strings with the + sign, or we can use the f'' option. In the latter case, we can use variables with the {} sign."
   ]
  },
  {
   "cell_type": "code",
   "execution_count": 14,
   "metadata": {},
   "outputs": [
    {
     "name": "stdout",
     "output_type": "stream",
     "text": [
      "Hello world hello python test\n",
      "Hello world hello python test\n"
     ]
    }
   ],
   "source": [
    "print(\"Hello world \" + message.lower() + \" test\")\n",
    "print(f'Hello world {message.lower()} test')"
   ]
  },
  {
   "cell_type": "markdown",
   "metadata": {},
   "source": [
    "We can use tab with the following command: '\\t'"
   ]
  },
  {
   "cell_type": "code",
   "execution_count": 16,
   "metadata": {},
   "outputs": [
    {
     "name": "stdout",
     "output_type": "stream",
     "text": [
      "Ez\n",
      "1\n",
      "\tteszt\n"
     ]
    }
   ],
   "source": [
    "print(\"Ez\\n1\\n\\tteszt\")"
   ]
  },
  {
   "cell_type": "markdown",
   "metadata": {},
   "source": [
    "It is possible that there are unintended spaces in front of the text or at the end. We can get rid of them like this:"
   ]
  },
  {
   "cell_type": "code",
   "execution_count": 17,
   "metadata": {},
   "outputs": [
    {
     "name": "stdout",
     "output_type": "stream",
     "text": [
      "\n",
      " the python\n",
      "the python\n",
      "a python\n"
     ]
    }
   ],
   "source": [
    "favourite_language = \" the python\"\n",
    "\n",
    "print('\\n'+favourite_language)\n",
    "print(favourite_language.lstrip())\n",
    "\n",
    "favourite_language = \"a python  \"\n",
    "print(favourite_language.rstrip())"
   ]
  },
  {
   "cell_type": "markdown",
   "metadata": {},
   "source": [
    "If I would like to overwrite the original variable then I can simply use the '=' sign.\n"
   ]
  },
  {
   "cell_type": "code",
   "execution_count": 19,
   "metadata": {},
   "outputs": [
    {
     "name": "stdout",
     "output_type": "stream",
     "text": [
      "a python\n"
     ]
    }
   ],
   "source": [
    "favourite_language = favourite_language.rstrip()\n",
    "print(favourite_language)"
   ]
  },
  {
   "cell_type": "markdown",
   "metadata": {},
   "source": [
    "Statements in Python typically end with a new line. Python does, however, allow the use of the line continuation character '\\\\' to denote that the line should continue."
   ]
  },
  {
   "cell_type": "code",
   "execution_count": 22,
   "metadata": {},
   "outputs": [
    {
     "name": "stdout",
     "output_type": "stream",
     "text": [
      "6\n"
     ]
    }
   ],
   "source": [
    "item_one = 1\n",
    "item_two = 2\n",
    "item_three = 3\n",
    "\n",
    "total = item_one + \\\n",
    "        item_two + \\\n",
    "        item_three\n",
    "\n",
    "print(total)"
   ]
  },
  {
   "cell_type": "markdown",
   "metadata": {},
   "source": [
    "Statements contained within the [], {}, or () brackets do not need to use the line continuation character."
   ]
  },
  {
   "cell_type": "code",
   "execution_count": 4,
   "metadata": {},
   "outputs": [
    {
     "name": "stdout",
     "output_type": "stream",
     "text": [
      "['Monday', 'Tuesday', 'Wednesday', 'Thursday', 'Friday']\n"
     ]
    }
   ],
   "source": [
    "days = ['Monday', 'Tuesday', 'Wednesday',\n",
    "        'Thursday', 'Friday']\n",
    "\n",
    "print(days)"
   ]
  },
  {
   "cell_type": "markdown",
   "metadata": {},
   "source": [
    "How can we create comments?\n",
    "\n",
    "Either we use the # sign in front of each affected lines. Ctrl+Ü can abbreviate this process.\n",
    "\n",
    "Otherwise we can use ''' ''', but it seems that it is not working that well in Jupyter notebook."
   ]
  },
  {
   "cell_type": "code",
   "execution_count": 29,
   "metadata": {},
   "outputs": [
    {
     "data": {
      "text/plain": [
       "'\\nThis is a multiline\\ncomment.\\n'"
      ]
     },
     "execution_count": 29,
     "metadata": {},
     "output_type": "execute_result"
    }
   ],
   "source": [
    "#Comment\n",
    "\n",
    "'''\n",
    "This is a multiline\n",
    "comment.\n",
    "'''"
   ]
  },
  {
   "cell_type": "markdown",
   "metadata": {},
   "source": [
    "If you want to create several variables in the same line, then the following syntax can be used:"
   ]
  },
  {
   "cell_type": "code",
   "execution_count": 1,
   "metadata": {},
   "outputs": [
    {
     "name": "stdout",
     "output_type": "stream",
     "text": [
      "8\n",
      "9\n"
     ]
    }
   ],
   "source": [
    "x,y = 8,9\n",
    "\n",
    "print(x)\n",
    "print(y)"
   ]
  }
 ],
 "metadata": {
  "kernelspec": {
   "display_name": "Python 3",
   "language": "python",
   "name": "python3"
  },
  "language_info": {
   "codemirror_mode": {
    "name": "ipython",
    "version": 3
   },
   "file_extension": ".py",
   "mimetype": "text/x-python",
   "name": "python",
   "nbconvert_exporter": "python",
   "pygments_lexer": "ipython3",
   "version": "3.11.5"
  }
 },
 "nbformat": 4,
 "nbformat_minor": 2
}
