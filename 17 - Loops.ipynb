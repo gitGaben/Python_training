{
 "cells": [
  {
   "cell_type": "markdown",
   "metadata": {},
   "source": [
    "# Loops"
   ]
  },
  {
   "cell_type": "markdown",
   "metadata": {},
   "source": [
    "    For loop\n",
    "\n",
    "The for loop is used for iterating over a sequence (such as a list, tuple, string) or other iterable objects."
   ]
  },
  {
   "cell_type": "code",
   "execution_count": 16,
   "metadata": {},
   "outputs": [
    {
     "name": "stdout",
     "output_type": "stream",
     "text": [
      "apple\n",
      "banana\n",
      "cherry\n",
      "P\n",
      "y\n",
      "t\n",
      "h\n",
      "o\n",
      "n\n",
      "1\n",
      "2\n",
      "3\n",
      "4\n",
      "name\n",
      "age\n",
      "city\n",
      "Alice\n",
      "30\n",
      "Wonderland\n",
      "name: Alice\n",
      "age: 30\n",
      "city: Wonderland\n",
      "red apple\n",
      "red banana\n",
      "red cherry\n",
      "big apple\n",
      "big banana\n",
      "big cherry\n",
      "tasty apple\n",
      "tasty banana\n",
      "tasty cherry\n"
     ]
    }
   ],
   "source": [
    "# 1. Iterating over a List:\n",
    "\n",
    "fruits = [\"apple\", \"banana\", \"cherry\"]\n",
    "for fruit in fruits:\n",
    "    print(fruit) # Output: apple banana cherry\n",
    "\n",
    "\n",
    "# 2. Iterating over a String:\n",
    "\n",
    "word = \"Python\"\n",
    "for char in word:\n",
    "    print(char) # Output: P y t h o n\n",
    "\n",
    "\n",
    "# 3. Using range for Numeric Ranges:\n",
    "\n",
    "for number in range(1, 5):\n",
    "    print(number) # Output: 1 2 3 4\n",
    "\n",
    "\n",
    "# 4. Iterating over a Dictionary:\n",
    "\n",
    "person = {\"name\": \"Alice\", \"age\": 30, \"city\": \"Wonderland\"}\n",
    "\n",
    "# Printing only the keys\n",
    "\n",
    "for key in person:\n",
    "    print(key) # Output: name age city\n",
    "\n",
    "# Printing only the values\n",
    "\n",
    "for value in person.values():\n",
    "    print(value) # Output: Alice 30 Wonderland\n",
    "\n",
    "# Printing the keys and values\n",
    "\n",
    "for key, value in person.items():\n",
    "    print(f\"{key}: {value}\") # Output: name: Alice age: 30 city: Wonderland\n",
    "\n"
   ]
  },
  {
   "cell_type": "markdown",
   "metadata": {},
   "source": [
    "**Control Statements in for Loops:**\n",
    "\n",
    "break Statement: It terminates the loop prematurely if a certain condition is met.\n",
    "\n",
    "continue Statement: It skips the rest of the code inside the loop for the current iteration if a certain condition is met and continues to the next iteration.\n",
    "\n",
    "else Clause: The else clause is executed when the loop condition becomes False. It is not executed if the loop is terminated by a break statement."
   ]
  },
  {
   "cell_type": "code",
   "execution_count": 1,
   "metadata": {},
   "outputs": [
    {
     "name": "stdout",
     "output_type": "stream",
     "text": [
      "1\n",
      "2\n",
      "3\n",
      "4\n",
      "1\n",
      "2\n",
      "4\n",
      "5\n",
      "0\n",
      "1\n",
      "2\n",
      "3\n",
      "4\n",
      "Loop completed\n",
      "asd\n",
      "asd2\n",
      "vege\n"
     ]
    }
   ],
   "source": [
    "# break Statement\n",
    "\n",
    "for number in range(1, 10):\n",
    "    if number == 5:\n",
    "        break\n",
    "    print(number) # Output: 1 2 3 4\n",
    "\n",
    "\n",
    "# continue Statement\n",
    "\n",
    "for number in range(1, 6):\n",
    "    if number == 3:\n",
    "        continue\n",
    "    print(number) # Output: 1 2 4 5\n",
    "\n",
    "\n",
    "# else Clause\n",
    "\n",
    "for number in range(5):\n",
    "    print(number)\n",
    "else:\n",
    "    print(\"Loop completed\")\n",
    "\n",
    "\n",
    "\n",
    "x = ['asd', 'asd2']\n",
    "\n",
    "for y in x:\n",
    "    print(y)\n",
    "else:\n",
    "    print(\"vege\")\n",
    "\n",
    "# Tehát ha van egy else a függvényben és a fv. kiértékelése False, akkor az még lefut."
   ]
  },
  {
   "cell_type": "code",
   "execution_count": 22,
   "metadata": {},
   "outputs": [
    {
     "name": "stdout",
     "output_type": "stream",
     "text": [
      "[1, 4, 9, 16, 25, 36, 49, 64, 81, 100]\n",
      "red apple\n",
      "red banana\n",
      "red cherry\n",
      "big apple\n",
      "big banana\n",
      "big cherry\n",
      "tasty apple\n",
      "tasty banana\n",
      "tasty cherry\n",
      "Fruit: apple, Price: $1.0\n",
      "Fruit: banana, Price: $0.75\n",
      "Fruit: cherry, Price: $1.5\n",
      "Index: 0, Value: apple\n",
      "Index: 1, Value: banana\n",
      "Index: 2, Value: cherry\n"
     ]
    }
   ],
   "source": [
    "# List comprehension\n",
    "\n",
    "squares = [value ** 2 for value in range(1, 11)]\n",
    "\n",
    "print(squares)\n",
    "\n",
    "\n",
    "# Nested for loops\n",
    "\n",
    "adj = [\"red\", \"big\", \"tasty\"]\n",
    "fruits = [\"apple\", \"banana\", \"cherry\"]\n",
    "\n",
    "for x in adj:\n",
    "  for y in fruits:\n",
    "    print(x, y)\n",
    "\n",
    "\n",
    "# zip is a built-in function that combines two or more iterables element-wise.\n",
    "\n",
    "fruits = [\"apple\", \"banana\", \"cherry\"]\n",
    "prices = [1.00, 0.75, 1.50]\n",
    "for fruit, price in zip(fruits, prices):\n",
    "    print(f\"Fruit: {fruit}, Price: ${price}\")\n",
    "\n",
    "\n",
    "# enumerate is a built-in function that returns both the index and the value of items in an iterable.\n",
    "\n",
    "fruits = [\"apple\", \"banana\", \"cherry\"]\n",
    "for index, value in enumerate(fruits):\n",
    "    print(f\"Index: {index}, Value: {value}\")"
   ]
  },
  {
   "cell_type": "markdown",
   "metadata": {},
   "source": [
    "The while loop is used to repeatedly execute a block of code as long as a specified condition is True."
   ]
  },
  {
   "cell_type": "code",
   "execution_count": 23,
   "metadata": {},
   "outputs": [
    {
     "name": "stdout",
     "output_type": "stream",
     "text": [
      "Count: 0\n",
      "Count: 1\n",
      "Count: 2\n",
      "Count: 3\n",
      "Count: 4\n"
     ]
    }
   ],
   "source": [
    "# Simple while loop\n",
    "count = 0\n",
    "while count < 5:\n",
    "    print(f\"Count: {count}\")\n",
    "    count += 1"
   ]
  },
  {
   "cell_type": "code",
   "execution_count": 28,
   "metadata": {},
   "outputs": [
    {
     "name": "stdout",
     "output_type": "stream",
     "text": [
      "asd\n"
     ]
    }
   ],
   "source": [
    "prompt = \"Tell me something, and I will repeat it back to you:\"\n",
    "\n",
    "active = True\n",
    "\n",
    "while active:\n",
    "    message = input(prompt)\n",
    "    if message == 'quit':\n",
    "        active = False\n",
    "    else:\n",
    "        print(message)"
   ]
  },
  {
   "cell_type": "markdown",
   "metadata": {},
   "source": [
    "While for loops are suitable for iterating over a known sequence, while loops are useful when the number of iterations is not known beforehand, or when the loop should continue until a specific condition is met."
   ]
  }
 ],
 "metadata": {
  "kernelspec": {
   "display_name": "Python 3",
   "language": "python",
   "name": "python3"
  },
  "language_info": {
   "codemirror_mode": {
    "name": "ipython",
    "version": 3
   },
   "file_extension": ".py",
   "mimetype": "text/x-python",
   "name": "python",
   "nbconvert_exporter": "python",
   "pygments_lexer": "ipython3",
   "version": "3.11.5"
  }
 },
 "nbformat": 4,
 "nbformat_minor": 2
}
