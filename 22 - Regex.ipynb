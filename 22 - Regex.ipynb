{
 "cells": [
  {
   "cell_type": "markdown",
   "metadata": {},
   "source": [
    "# Regex"
   ]
  },
  {
   "cell_type": "markdown",
   "metadata": {},
   "source": [
    "Regular expressions, often abbreviated as regex or regexp, are sequences of characters that define a search pattern. They are widely used in computer science and programming for string manipulation, pattern matching, and text processing. In Python, the re module provides support for regular expressions."
   ]
  },
  {
   "cell_type": "markdown",
   "metadata": {},
   "source": [
    "Regular expressions use the backslash character ('\\') to indicate special forms or to allow special characters to be used without invoking their special meaning. Python on the other hand uses the same character as escape character. Hence Python uses the raw string notation.\n",
    "\n",
    "<br>\n",
    "\n",
    "A string become a raw string if it is prefixed with r or R before the quotation symbols. Hence 'Hello World' is a normal string and r'Hello World' is a raw string.\n",
    "\n",
    "In normal circumstances, there is no difference between the two. However, when the escape character is embedded in the string, the normal string actually interprets the escape sequence, where as the raw string doesn't process the escape character."
   ]
  },
  {
   "cell_type": "code",
   "execution_count": 4,
   "metadata": {},
   "outputs": [
    {
     "name": "stdout",
     "output_type": "stream",
     "text": [
      "Hello\n",
      "World\n",
      "Hello\\nWorld\n"
     ]
    }
   ],
   "source": [
    "normal=\"Hello\\nWorld\"\n",
    "\n",
    "print(normal) \n",
    "\n",
    "# Output: \n",
    "# Hello\n",
    "# World\n",
    "\n",
    "raw=r\"Hello\\nWorld\"\n",
    "\n",
    "print(raw) # Output: Hello\\nWorld\n",
    "\n",
    "\n"
   ]
  },
  {
   "cell_type": "markdown",
   "metadata": {},
   "source": [
    "**Metacharacters**\n",
    "\n",
    "Most letters and characters will simply match themselves. However, some characters are special metacharacters, and don't match themselves. Meta characters are characters having a special meaning, similar to * in wild card.\n",
    "\n",
    "Here's a complete list of the metacharacters:"
   ]
  },
  {
   "cell_type": "markdown",
   "metadata": {},
   "source": [
    ". ^ $ * + ? { } [ ] \\ | ( )"
   ]
  },
  {
   "cell_type": "markdown",
   "metadata": {},
   "source": [
    "The square bracket symbols[] indicate a set of characters that you wish to match. Characters can be listed individually, or as a range of characters separating them by a '-'.\n",
    "\n",
    "[abc]: match any of the characters a, b, or c\n",
    "\n",
    "[a-c]: match any of the characters, which uses a range to express the same set of characters.\n",
    "\n",
    "[a-z]: match only lowercase letters.\n",
    "\n",
    "[0-9]: match only digits.\n",
    "\n",
    "'^': complements the character set in []. [^5] will match any character except '5'.\n"
   ]
  },
  {
   "cell_type": "markdown",
   "metadata": {},
   "source": [
    "'\\'is an escaping metacharacter. When followed by various characters it forms various special sequences. If you need to match a [ or \\, you can precede them with a backslash to remove their special meaning: \\\\[ or \\\\\\\\."
   ]
  },
  {
   "cell_type": "markdown",
   "metadata": {},
   "source": [
    "\\d : Matches any decimal digit; this is equivalent to the class [0-9]\n",
    "\n",
    "\\D : Matches any non-digit character; this is equivalent to the class [^0-9]\n",
    "\n",
    "\\s : Matches any whitespace character; this is equivalent to the class [\\t\\n\\r\\f\\v]\n",
    "\n",
    "\\S : Matches any non-whitespace character; this is equivalent to the class [^\\t\\n\\r\\f\\v]\n",
    "\n",
    "\\w: Matches any alphanumeric character; this is equivalent to the class [a-zAZ0-9_]\n",
    "\n",
    "\\W: Matches any non-alphanumeric character. equivalent to the class [^a-zAZ0-9_]\n",
    "\n",
    ". : Matches with any single character except newline '\\n'\n",
    "\n",
    "? : Matches 0 or 1 occurrence of the pattern\n",
    "\n",
    "+ : Matches 1 or more occurrences of the pattern. If we have a digit, then it will list out other digits as well, which are\n",
    "    connected to it.\n",
    "\n",
    "* : Matches 0 or more occurrences of the pattern.\n",
    "\n",
    "[..] : Matches any single character in a square bracket and [^..] matches any single character not in square bracket\n",
    "\n",
    "\\ : It is used for special meaning characters like \\. to match a period or \\+ for plus sign\n",
    "\n",
    "\\b : Boundary between word and non-word\n",
    "\n",
    "{n} : Matches exactly n occurences\n",
    "\n",
    "{n,} : At least n occurrences\n",
    "\n",
    "{,m} : At most m occurrences\n",
    "\n",
    "{n,m} : Between n and m occurrences (inclusive)\n",
    "\n",
    "a|b : Matches either a or b\n",
    "\n",
    "^ : Matches the start of the string, and in MULTILINE mode also matches immediately after each newline\n",
    "\n",
    "$ : Matches the end of the string or just before the newline at the end of the string, and in MULTILINE mode also matches before a newline"
   ]
  },
  {
   "cell_type": "markdown",
   "metadata": {},
   "source": [
    "\n",
    "The re.match function in Python is used to determine if the regular expression pattern matches at the beginning of a string. It checks for a match only at the beginning of the string, unlike re.search, which scans the entire string for a match."
   ]
  },
  {
   "cell_type": "code",
   "execution_count": 6,
   "metadata": {},
   "outputs": [],
   "source": [
    "#import re\n",
    "\n",
    "#re.match(pattern, string, flags=0)\n",
    "\n",
    "# pattern: This is the regular expression to be matched.\n",
    "\n",
    "# string: This is the string, which would be searched to match the pattern at the beginning of string.\n",
    "\n",
    "# Optional flags to control the behavior of the regular expression. E.g. you can use re.IGNORECASE to perform a case-insensitive match."
   ]
  },
  {
   "cell_type": "code",
   "execution_count": 12,
   "metadata": {},
   "outputs": [
    {
     "name": "stdout",
     "output_type": "stream",
     "text": [
      "0 4\n",
      "Cats\n",
      "<re.Match object; span=(0, 4), match='Cats'>\n"
     ]
    }
   ],
   "source": [
    "import re\n",
    "\n",
    "line = \"Cats are smarter than dogs\"\n",
    "\n",
    "matchObj = re.match(r'Cats', line)\n",
    "\n",
    "print(matchObj.start(), matchObj.end()) # Output: 0 4\n",
    "\n",
    "print(matchObj.group()) # Output: Cats\n",
    "\n",
    "print(matchObj) # Output: <re.Match object; span=(0, 4), match='Cats'>\n",
    "\n"
   ]
  },
  {
   "cell_type": "markdown",
   "metadata": {},
   "source": [
    "Example 1: Matching Digits at the Beginning of a String"
   ]
  },
  {
   "cell_type": "code",
   "execution_count": 13,
   "metadata": {},
   "outputs": [
    {
     "name": "stdout",
     "output_type": "stream",
     "text": [
      "Match found: 123\n"
     ]
    }
   ],
   "source": [
    "# Using re.match to check if the pattern matches at the beginning of the string\n",
    "result = re.match(r'\\d+', \"123abc\")\n",
    "\n",
    "if result:\n",
    "    print(\"Match found:\", result.group())\n",
    "else:\n",
    "    print(\"No match\")"
   ]
  },
  {
   "cell_type": "markdown",
   "metadata": {},
   "source": [
    "In Python's re module, re.compile() is a function that compiles a regular expression pattern into a regular expression object. This compilation step allows you to reuse the compiled pattern, which can improve the performance of repeated pattern matching operations."
   ]
  },
  {
   "cell_type": "code",
   "execution_count": 15,
   "metadata": {},
   "outputs": [
    {
     "name": "stdout",
     "output_type": "stream",
     "text": [
      "Match found: 123\n"
     ]
    }
   ],
   "source": [
    "# Creating a regular expression pattern to match digits\n",
    "pattern = re.compile(r'\\d+')\n",
    "\n",
    "# Using the compiled pattern for matching\n",
    "result = pattern.match(\"123abc\")\n",
    "\n",
    "if result:\n",
    "    print(\"Match found:\", result.group())\n",
    "else:\n",
    "    print(\"No match\")"
   ]
  },
  {
   "cell_type": "markdown",
   "metadata": {},
   "source": [
    "Example 2: Case-Insensitive Match"
   ]
  },
  {
   "cell_type": "code",
   "execution_count": 16,
   "metadata": {},
   "outputs": [
    {
     "name": "stdout",
     "output_type": "stream",
     "text": [
      "Match found: Hello\n",
      "Match found: Hello\n"
     ]
    }
   ],
   "source": [
    "# Using re.match for a case-insensitive match\n",
    "result = re.match(r'hello', \"Hello World\", flags=re.IGNORECASE)\n",
    "\n",
    "if result:\n",
    "    print(\"Match found:\", result.group())\n",
    "else:\n",
    "    print(\"No match\")\n",
    "\n",
    "\n",
    "#OR\n",
    "\n",
    "pattern = re.compile(r'hello', flags=re.IGNORECASE)\n",
    "\n",
    "# Using re.match for a case-insensitive match\n",
    "result = pattern.match(\"Hello World\")\n",
    "\n",
    "if result:\n",
    "    print(\"Match found:\", result.group())\n",
    "else:\n",
    "    print(\"No match\")"
   ]
  },
  {
   "cell_type": "markdown",
   "metadata": {},
   "source": [
    "Example 3: Matching a Specific Word at the Beginning"
   ]
  },
  {
   "cell_type": "code",
   "execution_count": 24,
   "metadata": {},
   "outputs": [
    {
     "name": "stdout",
     "output_type": "stream",
     "text": [
      "Match found: apple\n",
      "Match found: apple\n"
     ]
    }
   ],
   "source": [
    "# Using re.match to check if the pattern matches at the beginning of the string\n",
    "result = re.match(r'apple', \"apple pie\")\n",
    "\n",
    "if result:\n",
    "    print(\"Match found:\", result.group())\n",
    "else:\n",
    "    print(\"No match\")\n",
    "\n",
    "\n",
    "# OR\n",
    "\n",
    "\n",
    "# Using re.match to check if the pattern matches at the beginning of the string\n",
    "result = re.match(r'apple', \"apple pie\")\n",
    "\n",
    "if result:\n",
    "    print(\"Match found:\", result.group())\n",
    "else:\n",
    "    print(\"No match\")"
   ]
  },
  {
   "cell_type": "markdown",
   "metadata": {},
   "source": [
    "The re.search() function in Python's re module is used to search for a pattern within a string. Unlike re.match(), which only checks for a match at the beginning of the string, re.search() scans the entire string for a match."
   ]
  },
  {
   "cell_type": "markdown",
   "metadata": {},
   "source": [
    "re.search(pattern, string, flags=0)\n",
    "\n",
    "pattern: The regular expression pattern to search for.\n",
    "\n",
    "string: The input string in which the pattern is searched.\n",
    "\n",
    "flags: Optional flags to control the behavior of the regular expression."
   ]
  },
  {
   "cell_type": "code",
   "execution_count": 52,
   "metadata": {},
   "outputs": [
    {
     "name": "stdout",
     "output_type": "stream",
     "text": [
      "Match found: 123\n",
      "Match found: \n"
     ]
    }
   ],
   "source": [
    "pattern = re.compile(r'\\d+')\n",
    "\n",
    "# Using re.search to search for the pattern in the string\n",
    "result = pattern.search(\"The price is $123.45\")\n",
    "\n",
    "if result:\n",
    "    print(\"Match found:\", result.group())\n",
    "else:\n",
    "    print(\"No match\")\n",
    "\n",
    "\n",
    "pattern = re.compile(r'\\d*')\n",
    "\n",
    "# Using re.search to search for the pattern in the string\n",
    "result = pattern.search(\"The price is $123.45\")\n",
    "\n",
    "if result:\n",
    "    print(\"Match found:\", result.group())\n",
    "else:\n",
    "    print(\"No match\")\n",
    "\n",
    "# Output: ''\n",
    "\n",
    "# The pattern r'\\d*' is looking for zero or more occurrences of digits (\\d). The * quantifier allows for the possibility of zero digits.\n",
    "\n",
    "# \\d: Matches a digit.\n",
    "# *: Matches zero or more occurrences of the preceding character (in this case, a digit).\n",
    "\n",
    "# Now, let's look at the provided string \"The price is $123.45\". \n",
    "# The pattern is able to match at the start of the string where there are zero digits (empty string). \n",
    "# The search function finds this match, and the condition if result: evaluates to True.\n",
    "\n",
    "# As a result, the code prints \"Match found:\" along with the empty string that was matched at the beginning of the string. \n",
    "# If you want to ensure that there is at least one digit in the match, you can modify the pattern to use the + quantifier"
   ]
  },
  {
   "cell_type": "markdown",
   "metadata": {},
   "source": [
    "Example 1: Matching a Specific Word"
   ]
  },
  {
   "cell_type": "code",
   "execution_count": 53,
   "metadata": {},
   "outputs": [
    {
     "name": "stdout",
     "output_type": "stream",
     "text": [
      "Match found: fox\n"
     ]
    }
   ],
   "source": [
    "text = \"The quick brown fox jumps over the lazy dog.\"\n",
    "\n",
    "pattern = re.compile(r'\\bfox\\b')\n",
    "\n",
    "result = pattern.search(text)\n",
    "\n",
    "if result:\n",
    "    print(\"Match found:\", result.group())\n",
    "else:\n",
    "    print(\"No match\")"
   ]
  },
  {
   "cell_type": "markdown",
   "metadata": {},
   "source": [
    "Example 2: Finding the First Email Address"
   ]
  },
  {
   "cell_type": "code",
   "execution_count": 54,
   "metadata": {},
   "outputs": [
    {
     "name": "stdout",
     "output_type": "stream",
     "text": [
      "Match found: support@example.com\n"
     ]
    }
   ],
   "source": [
    "text = \"Contact us at support@example.com or sales@company.com for assistance.\"\n",
    "\n",
    "pattern = re.compile(r'\\b\\w+@\\w+\\.\\w*\\b')\n",
    "\n",
    "result = pattern.search(text)\n",
    "\n",
    "if result:\n",
    "    print(\"Match found:\", result.group())\n",
    "else:\n",
    "    print(\"No match\")"
   ]
  },
  {
   "cell_type": "code",
   "execution_count": 70,
   "metadata": {},
   "outputs": [
    {
     "name": "stdout",
     "output_type": "stream",
     "text": [
      "alice@google.com\n",
      "bob@abc.com\n",
      "alice@google.com\n",
      "alice\n",
      "google.com\n"
     ]
    }
   ],
   "source": [
    "# Suppose we have a text with many email addresses\n",
    "str = 'purple alice@google.com, blah monkey bob@abc.com blah dishwasher'\n",
    "\n",
    "## Here re.findall() returns a list of all the found email strings\n",
    "emails = re.findall(r'[\\w\\.-]+@[\\w\\.-]+', str) ## ['alice@google.com', 'bob@abc.com']\n",
    "for email in emails:\n",
    "# do something with each found email string\n",
    "    print(email)\n",
    "\n",
    "\n",
    "match = re.search(r'([\\w.-]+)@([\\w.-]+)', str)\n",
    "\n",
    "if match:\n",
    "    print(match.group())   ## 'alice-b@google.com' (the whole match)\n",
    "    print(match.group(1))  ## 'alice-b' (the username, group 1)\n",
    "    print(match.group(2))  ## 'google.com' (the host, group 2)"
   ]
  },
  {
   "cell_type": "markdown",
   "metadata": {},
   "source": [
    "Example 3: Searching for a Date"
   ]
  },
  {
   "cell_type": "code",
   "execution_count": 55,
   "metadata": {},
   "outputs": [
    {
     "name": "stdout",
     "output_type": "stream",
     "text": [
      "Match found: 2023-12-25\n"
     ]
    }
   ],
   "source": [
    "text = \"The meeting is scheduled for 2023-12-25.\"\n",
    "\n",
    "pattern = re.compile(r'\\b\\d{4}-\\d{2}-\\d{2}\\b')\n",
    "\n",
    "result = pattern.search(text)\n",
    "\n",
    "if result:\n",
    "    print(\"Match found:\", result.group())\n",
    "else:\n",
    "    print(\"No match\")"
   ]
  },
  {
   "cell_type": "markdown",
   "metadata": {},
   "source": [
    "Multiline mode (re.M):"
   ]
  },
  {
   "cell_type": "code",
   "execution_count": 57,
   "metadata": {},
   "outputs": [
    {
     "name": "stdout",
     "output_type": "stream",
     "text": [
      "['Line', 'Line', 'Line']\n"
     ]
    }
   ],
   "source": [
    "text = \"Line 1\\nLine 2\\nLine 3\"\n",
    "\n",
    "pattern = re.compile(r'^Line', flags=re.M)\n",
    "\n",
    "matches = pattern.findall(text)\n",
    "\n",
    "print(matches)\n",
    "\n"
   ]
  },
  {
   "cell_type": "markdown",
   "metadata": {},
   "source": [
    "Case Insensitive Mode (re.I):"
   ]
  },
  {
   "cell_type": "code",
   "execution_count": 58,
   "metadata": {},
   "outputs": [
    {
     "name": "stdout",
     "output_type": "stream",
     "text": [
      "Match found: Quick\n"
     ]
    }
   ],
   "source": [
    "text = \"The Quick Brown Fox\"\n",
    "\n",
    "pattern = re.compile(r'quick', flags=re.I)\n",
    "\n",
    "result = pattern.search(text)\n",
    "\n",
    "if result:\n",
    "    print(\"Match found:\", result.group())\n",
    "else:\n",
    "    print(\"No match\")"
   ]
  },
  {
   "cell_type": "markdown",
   "metadata": {},
   "source": [
    "The re.findall() function in Python's re module is used to find all non-overlapping occurrences of a pattern in a string, returning a list of all matches. It searches the entire input string and returns all matches as a list of strings.\n",
    "\n",
    "re.findall(pattern, string, flags=0)\n",
    "\n",
    "pattern: The regular expression pattern to search for.\n",
    "\n",
    "string: The input string in which the pattern is searched.\n",
    "\n",
    "flags: Optional flags to control the behavior of the regular expression."
   ]
  },
  {
   "cell_type": "code",
   "execution_count": 185,
   "metadata": {},
   "outputs": [
    {
     "name": "stdout",
     "output_type": "stream",
     "text": [
      "['cat', 'cat']\n",
      "['ple', 'ple']\n",
      "['Simple', 'is', 'better', 'than', 'complex']\n",
      "['Simple', '', 'is', '', 'better', '', 'than', '', 'complex', '', '']\n",
      "['test']\n"
     ]
    }
   ],
   "source": [
    "text = \"The cat and the dog chased a cat.\"\n",
    "\n",
    "pattern = re.compile(r'\\b\\w+at\\b')\n",
    "\n",
    "matches = pattern.findall(text)\n",
    "\n",
    "print(matches) # Output: ['cat', 'cat']\n",
    "\n",
    "\n",
    "string=\"Simple is better than complex.\"\n",
    "\n",
    "obj=re.findall(r\"ple\", string) \n",
    "\n",
    "print(obj) # Output: ['ple', 'ple']\n",
    "\n",
    "\n",
    "string=\"Simple is better than complex.\"\n",
    "\n",
    "\n",
    "obj2=re.findall(r\"\\w+\", string)\n",
    "\n",
    "print(obj2) # Output: ['Simple', 'is', 'better', 'than', 'complex']\n",
    "\n",
    "\n",
    "obj3=re.findall(r\"\\w*\", string)\n",
    "\n",
    "print(obj3) # Output: ['Simple', '', 'is', '', 'better', '', 'than', '', 'complex', '', '']\n",
    "\n",
    "\n",
    "string2 = \"It is just a simple test, which I want to try.\"\n",
    "\n",
    "obj4 = re.findall(r\"\\b\\w*t\\w*t\\w*\\b\", string2)\n",
    "\n",
    "print(obj4)\n",
    "\n"
   ]
  },
  {
   "cell_type": "code",
   "execution_count": 235,
   "metadata": {},
   "outputs": [
    {
     "name": "stdout",
     "output_type": "stream",
     "text": [
      "parrot\n",
      "follia\n",
      "carrot\n",
      "mattia\n",
      "rettoo\n",
      "\n"
     ]
    }
   ],
   "source": [
    "regexp = re.compile(r\"\\w*(.)\\1\\w*\")\n",
    "\n",
    "# The expression in the brackets count as a group. Since we have only 1 group, we can reference it as \\1\n",
    "\n",
    "data = [\"parrot\",\"follia\",\"carrot\",\"mattia\",\"rettoo\",\"melone\"]\n",
    "\n",
    "for str in data:\n",
    "    match = re.search(regexp, str)\n",
    "    if match:\n",
    "        print(match.group())\n",
    "    else:\n",
    "        print (\"\")"
   ]
  },
  {
   "cell_type": "code",
   "execution_count": 273,
   "metadata": {},
   "outputs": [
    {
     "name": "stdout",
     "output_type": "stream",
     "text": [
      "hello\n",
      "l\n",
      "book\n",
      "o\n",
      "balloon\n",
      "o\n",
      "bee\n",
      "e\n",
      "success\n",
      "s\n",
      "llama\n",
      "l\n",
      "rabbit\n",
      "b\n",
      "cheese\n",
      "e\n",
      "door\n",
      "o\n",
      "['l', 'o', 'o', 'e', 's', 'l', 'b', 'e', 'o']\n"
     ]
    }
   ],
   "source": [
    "pattern = r'(\\w*(\\w)\\2\\w*)'\n",
    "\n",
    "text = \"hello, book, balloon, bee, success, llama, rabbit, cheese, pumpkin, door\"\n",
    "\n",
    "matches = re.findall(pattern, text)\n",
    "\n",
    "for match in matches:\n",
    "    print(match[0])\n",
    "    print(match[1])\n",
    "\n",
    "# Mi történik itt? A python mindig a group-olt karaktert/szót fogja nekünk visszaadni, ha pedig csak 1 groupot csinálunk, \n",
    "# akkor értelemszerűen cska csak azt fogja:\n",
    "\n",
    "\n",
    "pattern = r'\\w*(\\w)\\1\\w*'\n",
    "\n",
    "text = \"hello, book, balloon, bee, success, llama, rabbit, cheese, pumpkin, door\"\n",
    "\n",
    "matches = re.findall(pattern, text)\n",
    "\n",
    "print(matches)\n",
    "\n",
    "\n",
    "# Hogy ezt elkerüljük 2 groupot csináltunk felül. Van a külső zárójel (1-es group) és van a belső zárójel (2-es group). Így most\n",
    "# mindkét group-olt karakterhalmazt eltárólja, pl. a hello-t és az l-t is. Így megmondhatom neki, hogy melyiket szeretném látni.\n",
    "\n"
   ]
  },
  {
   "cell_type": "code",
   "execution_count": 265,
   "metadata": {},
   "outputs": [
    {
     "name": "stdout",
     "output_type": "stream",
     "text": [
      "['42', '123']\n"
     ]
    }
   ],
   "source": [
    "pattern = r'\\d+'\n",
    "text = \"There are 42 apples and 123 oranges.\"\n",
    "\n",
    "matches = re.findall(pattern, text)\n",
    "\n",
    "print(matches)"
   ]
  },
  {
   "cell_type": "code",
   "execution_count": 266,
   "metadata": {},
   "outputs": [
    {
     "name": "stdout",
     "output_type": "stream",
     "text": [
      "[('apple', '42'), ('orange', '123'), ('banana', '7')]\n"
     ]
    }
   ],
   "source": [
    "pattern = r'(\\w+)-(\\d+)'\n",
    "text = \"apple-42, orange-123, banana-7\"\n",
    "\n",
    "matches = re.findall(pattern, text)\n",
    "\n",
    "print(matches)\n",
    "# Output: [('apple', '42'), ('orange', '123'), ('banana', '7')]"
   ]
  },
  {
   "cell_type": "code",
   "execution_count": 267,
   "metadata": {},
   "outputs": [
    {
     "name": "stdout",
     "output_type": "stream",
     "text": [
      "['Apple']\n"
     ]
    }
   ],
   "source": [
    "pattern = r'apple'\n",
    "text = \"There is an Apple in the basket.\"\n",
    "\n",
    "matches = re.findall(pattern, text, flags=re.IGNORECASE)\n",
    "\n",
    "print(matches)\n",
    "# Output: ['Apple']"
   ]
  },
  {
   "cell_type": "markdown",
   "metadata": {},
   "source": [
    "(?: ... ): This is a non-capturing group. It groups the patterns inside the parentheses without creating a separate capturing group. The ?: at the beginning of the group makes it non-capturing."
   ]
  },
  {
   "cell_type": "code",
   "execution_count": 279,
   "metadata": {},
   "outputs": [
    {
     "name": "stdout",
     "output_type": "stream",
     "text": [
      "['Smith', 'Johnson', 'Brown']\n",
      "['Mr. Smith', 'Ms. Johnson', 'Mr. Brown']\n"
     ]
    }
   ],
   "source": [
    "pattern = r'(?:Mr|Ms)\\. (\\w+)'\n",
    "text = \"Mr. Smith, Ms. Johnson, Mr. Brown\"\n",
    "\n",
    "matches = re.findall(pattern, text)\n",
    "\n",
    "print(matches)\n",
    "# Output: ['Smith', 'Johnson', 'Brown']\n",
    "\n",
    "\n",
    "\n",
    "pattern = r'(?:Mr|Ms)\\. \\w+'\n",
    "text = \"Mr. Smith, Ms. Johnson, Mr. Brown\"\n",
    "\n",
    "matches = re.findall(pattern, text)\n",
    "\n",
    "print(matches)\n",
    "# Output: ['Smith', 'Johnson', 'Brown']"
   ]
  },
  {
   "cell_type": "code",
   "execution_count": 282,
   "metadata": {},
   "outputs": [
    {
     "name": "stdout",
     "output_type": "stream",
     "text": [
      "['42%', '20%', '75%']\n",
      "['42', '20', '75']\n"
     ]
    }
   ],
   "source": [
    "pattern = r'\\d+%'\n",
    "\n",
    "text = \"42% discount, 20% off, 75% sale\"\n",
    "\n",
    "matches = re.findall(pattern, text)\n",
    "\n",
    "print(matches)\n",
    "# Output: ['42%', '20%', '75%']\n",
    "\n",
    "\n",
    "pattern = r'\\d+(?=%)'\n",
    "text = \"42% discount, 20% off, 75% sale\"\n",
    "\n",
    "matches = re.findall(pattern, text)\n",
    "\n",
    "print(matches)\n",
    "# Output: ['42', '20', '75']\n"
   ]
  },
  {
   "cell_type": "markdown",
   "metadata": {},
   "source": [
    "The re.sub() function in Python is used for replacing substrings that match a specified pattern with a replacement string. Its basic syntax is:\n",
    "\n",
    "re.sub(pattern, replacement, string, count=0, flags=0)\n",
    "\n",
    "pattern: The regular expression pattern to search for.\n",
    "\n",
    "replacement: The string to replace the matched occurrences with.\n",
    "\n",
    "string: The input string where replacements will be made.\n",
    "\n",
    "count: Optional. The maximum number of occurrences to replace. If not specified or 0, all occurrences will be replaced.\n",
    "\n",
    "flags: Optional flags that modify the behavior of the regex search."
   ]
  },
  {
   "cell_type": "markdown",
   "metadata": {},
   "source": [
    "Example 1: Basic Substitution"
   ]
  },
  {
   "cell_type": "code",
   "execution_count": 283,
   "metadata": {},
   "outputs": [
    {
     "name": "stdout",
     "output_type": "stream",
     "text": [
      "The dog and the hat are sitting on the mat.\n"
     ]
    }
   ],
   "source": [
    "text = \"The cat and the hat are sitting on the mat.\"\n",
    "\n",
    "# Replace \"cat\" with \"dog\"\n",
    "new_text = re.sub(r'cat', 'dog', text)\n",
    "\n",
    "print(new_text)"
   ]
  },
  {
   "cell_type": "markdown",
   "metadata": {},
   "source": [
    "Example 2: Case-Insensitive Substitution"
   ]
  },
  {
   "cell_type": "code",
   "execution_count": 284,
   "metadata": {},
   "outputs": [
    {
     "name": "stdout",
     "output_type": "stream",
     "text": [
      "The dog and the hat are sitting on the mat.\n"
     ]
    }
   ],
   "source": [
    "text = \"The cat and the hat are sitting on the mat.\"\n",
    "\n",
    "# Replace \"Cat\" with \"dog\" (case-insensitive)\n",
    "new_text = re.sub(r'Cat', 'dog', text, flags=re.IGNORECASE)\n",
    "\n",
    "print(new_text)\n",
    "# Output: \"The dog and the hat are sitting on the mat.\""
   ]
  },
  {
   "cell_type": "markdown",
   "metadata": {},
   "source": [
    "Example 3: Using Capturing Groups in Replacement"
   ]
  },
  {
   "cell_type": "code",
   "execution_count": 285,
   "metadata": {},
   "outputs": [
    {
     "name": "stdout",
     "output_type": "stream",
     "text": [
      "Age: 25, Name: John, Age: 30, Name: Jane\n"
     ]
    }
   ],
   "source": [
    "text = \"Name: John, Age: 25, Name: Jane, Age: 30\"\n",
    "\n",
    "# Swap the names and ages\n",
    "new_text = re.sub(r'Name: (\\w+), Age: (\\d+)', r'Age: \\2, Name: \\1', text)\n",
    "\n",
    "print(new_text)\n",
    "# Output: \"Age: 25, Name: John, Age: 30, Name: Jane\""
   ]
  },
  {
   "cell_type": "markdown",
   "metadata": {},
   "source": [
    "Example 4: Removing HTML Tags"
   ]
  },
  {
   "cell_type": "code",
   "execution_count": 298,
   "metadata": {},
   "outputs": [
    {
     "name": "stdout",
     "output_type": "stream",
     "text": [
      "This is bold and italic text.\n"
     ]
    }
   ],
   "source": [
    "html_text = \"<p>This is <b>bold</b> and <i>italic</i> text.</p>\"\n",
    "\n",
    "# Remove HTML tags\n",
    "plain_text = re.sub(r'<.*?>', '', html_text)\n",
    "\n",
    "print(plain_text)\n",
    "# Output: \"This is bold and italic text.\""
   ]
  },
  {
   "cell_type": "markdown",
   "metadata": {},
   "source": [
    "On greedy vs non-greedy\n",
    "\n",
    "Repetition in regex by default is greedy: they try to match as many reps as possible, and when this doesn't work and they have to backtrack, they try to match one fewer rep at a time, until a match of the whole pattern is found. As a result, when a match finally happens, a greedy repetition would match as many reps as possible.\n",
    "\n",
    "The ? as a repetition quantifier changes this behavior into non-greedy, also called reluctant (in e.g. Java) (and sometimes \"lazy\"). In contrast, this repetition will first try to match as few reps as possible, and when this doesn't work and they have to backtrack, they start matching one more rept a time. As a result, when a match finally happens, a reluctant repetition would match as few reps as possible."
   ]
  },
  {
   "cell_type": "code",
   "execution_count": 301,
   "metadata": {},
   "outputs": [
    {
     "name": "stdout",
     "output_type": "stream",
     "text": [
      "eeeeeee\n",
      "eeeuuuueeee\n"
     ]
    }
   ],
   "source": [
    "# Greedy\n",
    "\n",
    "text = \"eeeAiiZuuuuAoooZeeee\"\n",
    "\n",
    "text_1 = re.sub(r\"A.*Z\", \"\", text)\n",
    "\n",
    "print(text_1)\n",
    "\n",
    "\n",
    "# Not greedy\n",
    "\n",
    "text = \"eeeAiiZuuuuAoooZeeee\"\n",
    "\n",
    "text_2 = re.sub(r\"A.*?Z\", \"\", text)\n",
    "\n",
    "print(text_2)"
   ]
  }
 ],
 "metadata": {
  "kernelspec": {
   "display_name": "Python 3",
   "language": "python",
   "name": "python3"
  },
  "language_info": {
   "codemirror_mode": {
    "name": "ipython",
    "version": 3
   },
   "file_extension": ".py",
   "mimetype": "text/x-python",
   "name": "python",
   "nbconvert_exporter": "python",
   "pygments_lexer": "ipython3",
   "version": "3.11.5"
  }
 },
 "nbformat": 4,
 "nbformat_minor": 2
}
