{
 "cells": [
  {
   "cell_type": "code",
   "execution_count": null,
   "metadata": {},
   "outputs": [],
   "source": []
  },
  {
   "cell_type": "markdown",
   "metadata": {},
   "source": [
    "Type \"&nbsp\" and write ';' at the end to add a single space. Type \"&ensp\" and write ';' at the end to add 2 spaces. Use the non-breaking space (&nbsp) 4 times to insert a tab."
   ]
  }
 ],
 "metadata": {
  "language_info": {
   "name": "python"
  }
 },
 "nbformat": 4,
 "nbformat_minor": 2
}
