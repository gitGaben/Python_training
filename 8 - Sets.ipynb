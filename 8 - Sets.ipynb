{
 "cells": [
  {
   "cell_type": "markdown",
   "metadata": {},
   "source": [
    "# Sets"
   ]
  },
  {
   "cell_type": "markdown",
   "metadata": {},
   "source": [
    "**Set Types**\n",
    "\n",
    "**Set:** A set is an unordered collection of unique elements. It is defined using curly braces {} or the set() constructor. Sets are useful for tasks that require testing membership, removing duplicates from a sequence, and performing mathematical set operations.\n",
    " \n",
    "Sets cannot contain duplicate elements. If you try to add a duplicate element to a set, it won't be added. They are mutable, meaning you can add and remove elements after the set is created. They are unordered, and elements cannot be accessed by index. Sets support mathematical set operations such as union, intersection, difference, and symmetric difference.\n",
    "\n",
    "**Frozenset:** It is an immutable version of a set. Once a frozenset is created, you cannot add, remove, or modify its elements. It is defined using the frozenset() constructor."
   ]
  },
  {
   "cell_type": "markdown",
   "metadata": {},
   "source": [
    "Checking if an element is in the set (in operation).\tO(1) - Constant time\n",
    "\n",
    "Adding an element to the set using add().\tO(1) - Constant time\n",
    "\n",
    "Removing an element from the set using remove(), discard(), or pop().\tO(1) - Constant time\n",
    "\n",
    "Iterating through all elements in the set.\tO(n) - Linear time, where n is the number of elements in the set\n",
    "\n",
    "Creating a shallow copy of the set using copy().\tO(n) - Linear time, where n is the number of elements in the set\n",
    "\n",
    "Removing all elements from the set using clear().\tO(1) - Constant time\n",
    "\n",
    "Creating a set using set comprehension.\tO(n) - Linear time, where n is the number of elements in the set\n",
    "\n",
    "Adding elements from another set to an existing set using update().\tO(m), where m is the size of the other set\n",
    "\n",
    "Converting another iterable to a set using set().\tO(n) - Linear time, where n is the number of elements in the iterable"
   ]
  },
  {
   "cell_type": "code",
   "execution_count": 4,
   "metadata": {},
   "outputs": [
    {
     "name": "stdout",
     "output_type": "stream",
     "text": [
      "{1, 2, 3}\n",
      "{3, 4, 5}\n",
      "{1, 2, 3, 4}\n",
      "{1, 2, 3, 4, 5}\n",
      "{1, 3, 4}\n",
      "{1, 4}\n",
      "1\n"
     ]
    }
   ],
   "source": [
    "# You can create a set using the curly braces {} or the set() constructor.\n",
    "\n",
    "my_set = {1, 2, 3}\n",
    "\n",
    "my_set_2 = {1, 2, 3}\n",
    "\n",
    "random_list = [3, 4, 5]\n",
    "\n",
    "another_set = set([3, 4, 5])\n",
    "\n",
    "print(my_set) # Output: {1, 2, 3}\n",
    "\n",
    "print(another_set) # Output: {3, 4, 5}\n",
    "\n",
    "\n",
    "# Adding one element\n",
    "\n",
    "my_set.add(4)\n",
    "\n",
    "print(my_set) # Output: {1, 2, 3, 4}\n",
    "\n",
    "\n",
    "# Adding several elements (Right now I am using a list, but I could use another set too)\n",
    "\n",
    "my_set_2.update(random_list)\n",
    "\n",
    "print(my_set_2) # Output: {1, 2, 3, 4, 5}\n",
    "\n",
    "\n",
    "# Removing elements\n",
    "\n",
    "#Use remove() to remove a specific element. Raises an error if the element is not present.\n",
    "\n",
    "my_set.remove(2)\n",
    "\n",
    "print(my_set) # Output: {1, 3, 4}\n",
    "\n",
    "\n",
    "# Use discard() to remove a specific element. Does not raise an error if the element is not present.\n",
    "\n",
    "my_set.discard(3)\n",
    "\n",
    "print(my_set) # Output: {1, 4}\n",
    "\n",
    "\n",
    "# Use pop() to remove and return an arbitrary element.\n",
    "\n",
    "element = my_set.pop()\n",
    "\n",
    "print(element) # Output: 1\n",
    "\n",
    "\n"
   ]
  },
  {
   "cell_type": "code",
   "execution_count": 6,
   "metadata": {},
   "outputs": [
    {
     "name": "stdout",
     "output_type": "stream",
     "text": [
      "{1, 2, 3, 4, 5}\n",
      "{1, 2, 3, 4, 5}\n",
      "{3}\n",
      "{3}\n",
      "{1, 2}\n",
      "{1, 2}\n",
      "{1, 2, 4, 5}\n",
      "{1, 2, 4, 5}\n",
      "False\n",
      "False\n",
      "{1, 2, 3}\n",
      "set()\n"
     ]
    }
   ],
   "source": [
    "my_set = {1, 2, 3}\n",
    "\n",
    "another_set = set([3, 4, 5])\n",
    "\n",
    "# Set operations\n",
    "\n",
    "\n",
    "# Union (|): Combines two sets, removing duplicates.\n",
    "\n",
    "union_set = my_set | another_set\n",
    "\n",
    "# OR\n",
    "\n",
    "union_set2 = my_set.union(another_set)\n",
    "\n",
    "\n",
    "print(union_set) # Output: {1, 2, 3, 4, 5}\n",
    "\n",
    "print(union_set2) # Output: {1, 2, 3, 4, 5}\n",
    "\n",
    "\n",
    "\n",
    "# Intersection (&): Returns elements common to both sets.\n",
    "\n",
    "intersection_set = my_set & another_set\n",
    "\n",
    "# OR\n",
    "\n",
    "intersection_set2 = my_set.intersection(another_set)\n",
    "\n",
    "\n",
    "print(intersection_set) # Output: {3}\n",
    "\n",
    "print(intersection_set2) # Output: {3}\n",
    "\n",
    "\n",
    "# Difference (-): Returns elements in the first set but not in the second.\n",
    "\n",
    "difference_set = my_set - another_set\n",
    "\n",
    "# OR\n",
    "\n",
    "difference_set2 = my_set.difference(another_set)\n",
    "\n",
    "\n",
    "print(difference_set) # Output: {1, 2}\n",
    "\n",
    "print(difference_set2) # Output: {1, 2}\n",
    "\n",
    "\n",
    "# Symmetric Difference (^): Returns elements in either set, but not both.\n",
    "\n",
    "symmetric_difference_set = my_set ^ another_set\n",
    "\n",
    "# OR\n",
    "\n",
    "symmetric_difference_set2 = my_set.symmetric_difference(another_set)\n",
    "\n",
    "\n",
    "print(symmetric_difference_set) # Output: {1, 2, 4, 5}\n",
    "\n",
    "print(symmetric_difference_set2) # Output: {1, 2, 4, 5}\n",
    "\n",
    "\n",
    "\n",
    "# Set Comparison\n",
    "\n",
    "# Subset (<=): Checks if one set is a subset of another.\n",
    "\n",
    "is_subset = my_set <= another_set\n",
    "\n",
    "print(is_subset) # Output: False\n",
    "\n",
    "\n",
    "# Superset (>=): Checks if one set is a superset of another.\n",
    "\n",
    "is_superset = my_set >= another_set\n",
    "\n",
    "print(is_superset) # Output: False\n",
    "\n",
    "\n",
    "# Copy\n",
    "\n",
    "# Copy(): Creates a shallow copy of the set.\n",
    "\n",
    "copy_set = my_set.copy()\n",
    "\n",
    "print(copy_set) # Output: {1, 2, 3}\n",
    "\n",
    "\n",
    "# Clear\n",
    "\n",
    "# Clear(): Removes all elements from the set.\n",
    "\n",
    "my_set.clear()\n",
    "\n",
    "print(my_set) # Output: set()"
   ]
  },
  {
   "cell_type": "code",
   "execution_count": 19,
   "metadata": {},
   "outputs": [
    {
     "name": "stdout",
     "output_type": "stream",
     "text": [
      "frozenset({1, 2, 3})\n"
     ]
    }
   ],
   "source": [
    "# Frozenset\n",
    "\n",
    "frozen_set = frozenset([1, 2, 3])\n",
    "\n",
    "print(frozen_set) # Output: frozenset({1, 2, 3})"
   ]
  },
  {
   "cell_type": "markdown",
   "metadata": {},
   "source": [
    "Sets are highly efficient for testing whether a specific element is present in the collection or not. The average time complexity for this operation is O(1)."
   ]
  },
  {
   "cell_type": "code",
   "execution_count": 8,
   "metadata": {},
   "outputs": [
    {
     "name": "stdout",
     "output_type": "stream",
     "text": [
      "True\n",
      "False\n"
     ]
    }
   ],
   "source": [
    "my_set = {1, 2, 3}\n",
    "\n",
    "print(2 in my_set)  # Output: True\n",
    "\n",
    "print(4 in my_set)  # Output: False"
   ]
  },
  {
   "cell_type": "markdown",
   "metadata": {},
   "source": [
    "When dealing with a list of elements where you want to eliminate duplicates, converting it to a set and then back to a list can be a quick way to achieve this."
   ]
  },
  {
   "cell_type": "code",
   "execution_count": 26,
   "metadata": {},
   "outputs": [
    {
     "name": "stdout",
     "output_type": "stream",
     "text": [
      "[1, 2, 3, 4, 5]\n",
      "5\n"
     ]
    }
   ],
   "source": [
    "my_list = [1, 2, 2, 3, 4, 4, 5]\n",
    "\n",
    "unique_elements = list(set(my_list))\n",
    "\n",
    "print(unique_elements) # Output: [1, 2, 3, 4, 5]\n",
    "\n",
    "# Counting\n",
    "\n",
    "unique_count = len(set(my_list))\n",
    "\n",
    "print(unique_count) # Output: 5"
   ]
  },
  {
   "cell_type": "code",
   "execution_count": 28,
   "metadata": {},
   "outputs": [
    {
     "name": "stdout",
     "output_type": "stream",
     "text": [
      "{0, 2, 4, 6, 8}\n",
      "{2, 4}\n"
     ]
    }
   ],
   "source": [
    "# Set comprehension\n",
    "\n",
    "my_set = {x for x in range(10) if x % 2 == 0}\n",
    "\n",
    "print(my_set) # Output: {0, 2, 4, 6, 8}\n",
    "\n",
    "\n",
    "# Removing specific elements:\n",
    "\n",
    "my_set = {1, 2, 3, 4, 5}\n",
    "\n",
    "my_set = {x for x in my_set if x % 2 == 0}\n",
    "\n",
    "print(my_set) # Output: {2, 4}"
   ]
  }
 ],
 "metadata": {
  "kernelspec": {
   "display_name": "Python 3",
   "language": "python",
   "name": "python3"
  },
  "language_info": {
   "codemirror_mode": {
    "name": "ipython",
    "version": 3
   },
   "file_extension": ".py",
   "mimetype": "text/x-python",
   "name": "python",
   "nbconvert_exporter": "python",
   "pygments_lexer": "ipython3",
   "version": "3.11.5"
  }
 },
 "nbformat": 4,
 "nbformat_minor": 2
}
