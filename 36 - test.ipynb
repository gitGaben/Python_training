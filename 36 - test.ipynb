{
 "cells": [
  {
   "cell_type": "markdown",
   "metadata": {},
   "source": [
    "# What is JSON?\n",
    "\n",
    "JSON (JavaScript Object Notation) is a text format for storing and transporting data that is easy for humans to read and write, and easy for machines to parse and generate.\n",
    "\n",
    "Data Format: JSON is a text-based data format, and it is often used to transmit data between a server and a web application, as well as between different parts of an application.\n",
    "\n",
    "Data Structure: JSON represents data as key-value pairs and supports various data types, including strings, numbers, booleans, arrays, and objects (collections of key-value pairs).\n",
    "\n",
    "Syntax: JSON has a simple and readable syntax. Data is enclosed in curly braces {}, objects have key-value pairs separated by colons (:), and arrays use square brackets []."
   ]
  },
  {
   "cell_type": "code",
   "execution_count": null,
   "metadata": {},
   "outputs": [],
   "source": [
    "# Example JSON file\n",
    "\n",
    "{\n",
    "  \"name\": \"John Doe\",\n",
    "  \"age\": 30,\n",
    "  \"isStudent\": False,\n",
    "  \"hobbies\": [\"reading\", \"traveling\"],\n",
    "  \"address\": {\n",
    "    \"city\": \"New York\",\n",
    "    \"zipcode\": \"10001\"\n",
    "  }\n",
    "}"
   ]
  },
  {
   "cell_type": "markdown",
   "metadata": {},
   "source": [
    "# Requests library (Python)\n",
    "\n",
    "The requests library is a popular third-party library in Python for making HTTP requests. It simplifies the process of sending HTTP requests (including GET, POST, PUT, DELETE, and more) and handling responses, providing a user-friendly interface for interacting with web services and APIs.The HTTP request returns a Response Object with all the response data (content, encoding, status, etc).\n",
    "\n",
    "Methods:\n",
    "\n",
    "delete(url, args) - Sends a DELETE request to the specified url\n",
    "\n",
    "get(url, params, args) - Sends a GET request to the specified url\n",
    "\n",
    "head(url, args) - Sends a HEAD request to the specified url\n",
    "\n",
    "patch(url, data, args) - Sends a PATCH request to the specified url\n",
    "\n",
    "A \"PATCH\" request is an HTTP method used to apply partial modifications to a resource. It's often used to update or modify an existing resource, but unlike a \"PUT\" request, it's not intended to completely replace the existing resource. Instead, it applies partial changes.\n",
    "\n",
    "post(url, data, json, args) - Sends a POST request to the specified url\n",
    "\n",
    "put(url, data, args) - Sends a PUT request to the specified url\n",
    "\n",
    "<br>\n",
    "\n",
    "    request(method, url, args) - Sends a request of the above specified methods to the specified url."
   ]
  },
  {
   "cell_type": "code",
   "execution_count": 43,
   "metadata": {},
   "outputs": [
    {
     "name": "stdout",
     "output_type": "stream",
     "text": [
      "Request successful!\n",
      "{\n",
      "  \"userId\": 1,\n",
      "  \"id\": 1,\n",
      "  \"title\": \"delectus aut autem\",\n",
      "  \"completed\": false\n",
      "}\n"
     ]
    }
   ],
   "source": [
    "import requests\n",
    "\n",
    "# Specify the URL you want to make a GET request to\n",
    "url = 'https://jsonplaceholder.typicode.com/todos/1'\n",
    "\n",
    "# Make a GET request\n",
    "response = requests.get(url)\n",
    "\n",
    "# Check the status code of the response\n",
    "if response.status_code == 200:\n",
    "    print('Request successful!')\n",
    "    # Print the content of the response\n",
    "    print(response.text)\n",
    "else:\n",
    "    print(f'Request failed with status code {response.status_code}')"
   ]
  },
  {
   "cell_type": "markdown",
   "metadata": {},
   "source": [
    "When you make an HTTP request using the requests library and receive a response, the response object has a .json() method that attempts to parse the response content as JSON. This is particularly useful when the server responds with data in JSON format."
   ]
  },
  {
   "cell_type": "code",
   "execution_count": 47,
   "metadata": {},
   "outputs": [
    {
     "name": "stdout",
     "output_type": "stream",
     "text": [
      "<Response [200]>\n",
      "{'userId': 1, 'id': 1, 'title': 'delectus aut autem', 'completed': False}\n",
      "delectus aut autem\n"
     ]
    }
   ],
   "source": [
    "import requests\n",
    "\n",
    "response = requests.get(\"https://jsonplaceholder.typicode.com/todos/1\")\n",
    "\n",
    "print(response) # Output: <Response [200]> - it is the status code of the response\n",
    "\n",
    "x = response.json()\n",
    "\n",
    "print(x) # Output: {'userId': 1, 'id': 1, 'title': 'delectus aut autem', 'completed': False}\n",
    "\n",
    "print(x[\"title\"]) # Output: delectus aut autem"
   ]
  },
  {
   "cell_type": "code",
   "execution_count": 51,
   "metadata": {},
   "outputs": [
    {
     "data": {
      "text/plain": [
       "'delectus aut autem'"
      ]
     },
     "execution_count": 51,
     "metadata": {},
     "output_type": "execute_result"
    }
   ],
   "source": [
    "import requests\n",
    "\n",
    "def fetch_data():\n",
    "    response = requests.get(\"https://jsonplaceholder.typicode.com/todos/1\")\n",
    "    return response.json()[\"title\"]\n",
    "\n",
    "x = fetch_data()\n",
    "\n",
    "print(x)"
   ]
  },
  {
   "cell_type": "code",
   "execution_count": 49,
   "metadata": {},
   "outputs": [
    {
     "data": {
      "text/plain": [
       "'Mocked data'"
      ]
     },
     "execution_count": 49,
     "metadata": {},
     "output_type": "execute_result"
    }
   ],
   "source": [
    "def mock_get(*args, **kwargs):\n",
    "    class MockResponse:\n",
    "        @staticmethod\n",
    "        def json():\n",
    "            return {\"title\": \"Mocked data\"}\n",
    "\n",
    "    return MockResponse()\n",
    "\n",
    "x = mock_get()\n",
    "\n",
    "x.json()[\"title\"]"
   ]
  },
  {
   "cell_type": "markdown",
   "metadata": {},
   "source": [
    "# Mocking request response"
   ]
  },
  {
   "cell_type": "code",
   "execution_count": null,
   "metadata": {},
   "outputs": [],
   "source": [
    "# data_fetcher.py\n",
    "import requests\n",
    "\n",
    "def fetch_data():\n",
    "    response = requests.get(\"https://jsonplaceholder.typicode.com/todos/1\")\n",
    "    return response.json()[\"title\"]"
   ]
  },
  {
   "cell_type": "code",
   "execution_count": null,
   "metadata": {},
   "outputs": [],
   "source": [
    "# test_data_fetcher.py\n",
    "import pytest\n",
    "from data_fetcher import fetch_data\n",
    "\n",
    "def test_fetch_data_with_monkeypatch(monkeypatch):\n",
    "    # Mock the requests.get function\n",
    "    def mock_get(*args, **kwargs):\n",
    "        class MockResponse:\n",
    "            @staticmethod\n",
    "            def json():\n",
    "                return {\"title\": \"Mocked data\"}\n",
    "\n",
    "        return MockResponse()\n",
    "\n",
    "    monkeypatch.setattr(\"requests.get\", mock_get)\n",
    "\n",
    "    # Call the fetch_data function, which will now use the mocked requests.get\n",
    "    result = fetch_data()\n",
    "\n",
    "    # Verify that the function returned the expected result based on the mock\n",
    "    assert result == \"Mocked data\"\n",
    "\n",
    "    # Reset or undo the monkeypatch modifications\n",
    "    monkeypatch.undo()\n",
    "\n",
    "if __name__ == '__main__':\n",
    "    # Run the tests using pytest\n",
    "    pytest.main([__file__])\n"
   ]
  },
  {
   "cell_type": "markdown",
   "metadata": {},
   "source": [
    "We have created a MockResponse class, with a json method. With these attributes we can replace the requests.get function, because we would use only the .json function from there.\n",
    "\n",
    "A requests.get lényegében egy class-nak felel meg, mivel tartalmaz rengeteg sub-methodot. Ezért mi is 1 class-t hoztunk létre, egyetlen sub-methoddal. Azért csak 1-gyel, mivel ezt az egyet használtuk fel a mockolás során. Lecseréljük a requests.get-et a mock_get függvényre. A fetch_data sorban a következő dolog történik: \n",
    "\n",
    "response = mock_get(\"https://jsonplaceholder.typicode.com/todos/1\")\n",
    "\n",
    "return response.json()[\"title\"]\n",
    "\n",
    "Mivel a mock_get egy class és van json() methodja, így meg tudjuk hívni azt és megkapjuk az előre definiált \"Mocked Data\" textet."
   ]
  }
 ],
 "metadata": {
  "kernelspec": {
   "display_name": "Python 3",
   "language": "python",
   "name": "python3"
  },
  "language_info": {
   "codemirror_mode": {
    "name": "ipython",
    "version": 3
   },
   "file_extension": ".py",
   "mimetype": "text/x-python",
   "name": "python",
   "nbconvert_exporter": "python",
   "pygments_lexer": "ipython3",
   "version": "3.11.5"
  }
 },
 "nbformat": 4,
 "nbformat_minor": 2
}
