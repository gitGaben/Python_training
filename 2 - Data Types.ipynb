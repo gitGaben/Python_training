{
 "cells": [
  {
   "cell_type": "markdown",
   "metadata": {},
   "source": [
    "# Data Types"
   ]
  },
  {
   "cell_type": "markdown",
   "metadata": {},
   "source": [
    "Text Type: &nbsp;**str**\n",
    "\n",
    "Numeric Types: \t&nbsp;**int,&nbsp;float,&nbsp;complex**\n",
    "\n",
    "Sequence Types: &nbsp;**list, &nbsp;tuple, &nbsp;range**\n",
    "\n",
    "Mapping Type: &nbsp;**dict**\n",
    "\n",
    "Set Types: &nbsp;**set, &nbsp;frozenset**\n",
    "\n",
    "Boolean Type: &nbsp;**bool**\n",
    "\n",
    "Binary Types: &nbsp;**bytes, &nbsp;bytearray, &nbsp;memoryview**\n",
    "\n",
    "None Type: &nbsp;**NoneType**\n"
   ]
  },
  {
   "cell_type": "markdown",
   "metadata": {},
   "source": [
    "**Text type**  \n",
    "\n",
    "A string is a sequence of characters, and it can include letters, numbers, symbols, and whitespace (spaces, linebreaks). They are immutable, meaning that once a string is created, you cannot modify its individual characters.\n",
    "\n",
    "Strings can be created using single quotes (') or double quotes (\"). Triple quotes (''' or \"\"\") can be used for multi-line strings.\n",
    "\n",
    "You can access individual characters in a string using indexing, and you can extract substrings using slicing.\n",
    "\n",
    "Strings have numerous built-in methods for various operations, including case conversion, finding substrings, replacing text, splitting, and joining."
   ]
  },
  {
   "cell_type": "code",
   "execution_count": 46,
   "metadata": {},
   "outputs": [
    {
     "name": "stdout",
     "output_type": "stream",
     "text": [
      "Text\n",
      "P\n",
      "yth\n",
      "hello, world!\n",
      "HELLO, WORLD!\n",
      "7\n",
      "Hi, World!\n"
     ]
    }
   ],
   "source": [
    "#str:\n",
    "\n",
    "x = \"Text\"\n",
    "print(x)\n",
    "\n",
    "text = \"Python\"\n",
    "\n",
    "first_char = text[0] \n",
    "print(first_char) # Output: P\n",
    "\n",
    "substring = text[1:4] \n",
    "print(substring) # Output: yth\n",
    "\n",
    "phrase = \"Hello, World!\"\n",
    "\n",
    "lowercase = phrase.lower()\n",
    "print(lowercase) #Output: hello,world!\n",
    "\n",
    "uppercase = phrase.upper()\n",
    "print(uppercase) #Output: HELLO,WORLD!\n",
    "\n",
    "index = phrase.find(\"World\") #Looks for the position of the word\n",
    "print(index) #Output: 7\n",
    "\n",
    "replaced = phrase.replace(\"Hello\", \"Hi\")\n",
    "print(replaced) #Output: Hi, World!"
   ]
  },
  {
   "cell_type": "markdown",
   "metadata": {},
   "source": [
    "**Numeric Types**\n",
    "\n",
    "Integer: The int type is used to represent integers, which are whole numbers without a fractional component. Integers can be positive or negative.\n",
    "\n",
    "Float: The float type is used to represent floating-point numbers, which are numbers that have a decimal point or are expressed using scientific notation.\n",
    "\n",
    "Complex: The complex type is used to represent complex numbers, which have a real part and an imaginary part. Complex numbers are written in the form a + bj, where a is the real part, b is the imaginary part, and j represents the imaginary unit.\n",
    "\n"
   ]
  },
  {
   "cell_type": "code",
   "execution_count": 3,
   "metadata": {},
   "outputs": [
    {
     "name": "stdout",
     "output_type": "stream",
     "text": [
      "20\n",
      "20.9\n",
      "(10+3j)\n"
     ]
    }
   ],
   "source": [
    "#int:\n",
    "\n",
    "x = 20\n",
    "print(x)\n",
    "\n",
    "#float:\n",
    "\n",
    "y= 20.9\n",
    "print(y)\n",
    "\n",
    "#complex:\n",
    "\n",
    "z=10+3j\n",
    "print(z)\n"
   ]
  },
  {
   "cell_type": "markdown",
   "metadata": {},
   "source": [
    "**Sequence Types**\n",
    "\n",
    "**List:** Lists are mutable, meaning you can change, add, or remove elements after the list is created. They are ordered.\n",
    " \n",
    "**Tuple:** Tuples are immutable, meaning their elements cannot be changed or modified after creation. They are ordered.\n",
    "\n",
    "**Range:** The range function is used to generate a sequence of numbers. It is commonly used in for loops to iterate over a sequence of numbers. It does not actually create a list but rather returns a range object, which is an immutable sequence type.\n",
    "\n",
    "<br>**Ordered:** The elements in the collection have a specific order or sequence. Elements can be accessed by their position in the sequence, usually using an index. The order in which elements are added is preserved.\n",
    "\n",
    "**Unordered:** The elements in the collection do not have a specific order or sequence. Elements cannot be accessed by their position in the sequence because there is no defined order. The order in which elements are added may not be preserved."
   ]
  },
  {
   "cell_type": "code",
   "execution_count": 9,
   "metadata": {},
   "outputs": [
    {
     "name": "stdout",
     "output_type": "stream",
     "text": [
      "['apple', 'orange', 'banana']\n",
      "('apple', 'banana', 'orange')\n",
      "range(0, 5)\n",
      "0\n",
      "1\n",
      "2\n",
      "3\n",
      "4\n",
      "2\n",
      "3\n",
      "4\n",
      "5\n",
      "6\n",
      "7\n",
      "1\n",
      "3\n",
      "5\n",
      "7\n",
      "9\n"
     ]
    }
   ],
   "source": [
    "# list\n",
    "fruits = ['apple', 'orange', 'banana']\n",
    "print(fruits)\n",
    "\n",
    "#tuple\n",
    "\n",
    "fruits_tuple = ('apple', 'banana', 'orange')\n",
    "print(fruits_tuple)\n",
    "\n",
    "#range\n",
    "x = range(5)\n",
    "print(x)\n",
    "\n",
    "# Example 1: Using only the 'stop' parameter\n",
    "for i in range(5):\n",
    "    print(i)\n",
    "# Output: 0, 1, 2, 3, 4\n",
    "\n",
    "# Example 2: Using 'start' and 'stop' parameters\n",
    "for i in range(2, 8):\n",
    "    print(i)\n",
    "# Output: 2, 3, 4, 5, 6, 7\n",
    "\n",
    "# Example 3: Using 'start', 'stop', and 'step' parameters\n",
    "for i in range(1, 10, 2):\n",
    "    print(i)\n",
    "# Output: 1, 3, 5, 7, 9"
   ]
  },
  {
   "cell_type": "markdown",
   "metadata": {},
   "source": [
    "**Mapping Type:**\n",
    "\n",
    "**Dictionary:**  It is a built-in data type that allows you to store and retrieve data in a key-value pair format. Dictionaries are also known as associative arrays or hash maps in other programming languages. Unlike sequences such as lists or tuples, dictionaries do not have an inherent order among the elements. Instead, each element is accessed by a unique key.\n",
    "\n",
    "They are muteable, meaning you can modify, add, or remove key-value pairs after the dictionary is created. Each key in a dictionary must be unique. If you try to add a key-value pair with an existing key, it will overwrite the existing value."
   ]
  },
  {
   "cell_type": "code",
   "execution_count": 2,
   "metadata": {},
   "outputs": [
    {
     "name": "stdout",
     "output_type": "stream",
     "text": [
      "Alice\n",
      "True\n",
      "name Alice\n",
      "age 26\n",
      "occupation Engineer\n",
      "name\n",
      "age\n",
      "occupation\n",
      "Alice\n",
      "26\n",
      "Engineer\n"
     ]
    }
   ],
   "source": [
    "# Creating a dictionary\n",
    "person = {'name': 'Alice', 'age': 25, 'city': 'London'}\n",
    "\n",
    "# Accessing values\n",
    "print(person['name'])  #Output: 'Alice'\n",
    "\n",
    "# Modifying a value\n",
    "person['age'] = 26\n",
    "\n",
    "# Adding a new key-value pair\n",
    "person['occupation'] = 'Engineer'\n",
    "\n",
    "# Removing a key-value pair\n",
    "del person['city']\n",
    "\n",
    "# Checking if a key is present\n",
    "print('name' in person)  #Output: True\n",
    "\n",
    "# Iterating through keys and values\n",
    "for key, value in person.items():\n",
    "    print(key, value)\n",
    "\n",
    "#Printing only the keys\n",
    "for key in person:\n",
    "    print(key)\n",
    "\n",
    "# Printing only the values\n",
    "for value in person.values():\n",
    "    print(value)"
   ]
  },
  {
   "cell_type": "markdown",
   "metadata": {},
   "source": [
    "**Set Types**\n",
    "\n",
    "**Set:** A set is an unordered collection of unique elements. It is defined using curly braces {} or the set() constructor. Sets are useful for tasks that require testing membership, removing duplicates from a sequence, and performing mathematical set operations.\n",
    " \n",
    "Sets cannot contain duplicate elements. If you try to add a duplicate element to a set, it won't be added. They are mutable, meaning you can add and remove elements after the set is created. They are unordered, and elements cannot be accessed by index. Sets support mathematical set operations such as union, intersection, difference, and symmetric difference.\n",
    "\n",
    "**Frozenset:** It is an immutable version of a set. Once a frozenset is created, you cannot add, remove, or modify its elements. It is defined using the frozenset() constructor.\n"
   ]
  },
  {
   "cell_type": "code",
   "execution_count": 10,
   "metadata": {},
   "outputs": [
    {
     "name": "stdout",
     "output_type": "stream",
     "text": [
      "{1, 2, 3, 4, 5}\n",
      "frozenset({3})\n"
     ]
    }
   ],
   "source": [
    "set1 = {1, 2, 3}\n",
    "set2 = {3, 4, 5}\n",
    "\n",
    "union_set = set1.union(set2)\n",
    "print(union_set)  #Output: {1, 2, 3, 4, 5}\n",
    "\n",
    "fset1 = frozenset([1, 2, 3])\n",
    "fset2 = frozenset([3, 4, 5])\n",
    "\n",
    "intersection_fset = fset1.intersection(fset2)\n",
    "print(intersection_fset)  # Output: frozenset({3})"
   ]
  },
  {
   "cell_type": "markdown",
   "metadata": {},
   "source": [
    "**Boolean Type**\n",
    "\n",
    "The boolean type represents a binary state, typically indicating either True or False.\n",
    "\n",
    "True: Represents the truth or a positive condition.\n",
    "\n",
    "False: Represents falsehood or a negative condition.\n",
    "\n",
    "Boolean values often result from comparisons using operators. Common comparison operators include:\n",
    "\n",
    "(==) (equal)\n",
    "\n",
    "(!=) (not equal)\n",
    "\n",
    "(<) (less than)\n",
    "\n",
    "(>) (greater than)\n",
    "\n",
    "(<=) (less than or equal to)\n",
    "\n",
    "(>=) (greater than or equal to)\n",
    "\n",
    "<br>Logical operators are used to combine or modify boolean values. The three main logical operators are and, or, and not.\n",
    "\n",
    "In Python, certain values are considered \"truthy\" (evaluate to True) and others are \"falsy\" (evaluate to False). For example, empty containers (e.g., an empty list or an empty string) are falsy. You can convert other types to boolean using the bool() function. In general, empty containers, 0, and None are considered falsy when converted to boolean."
   ]
  },
  {
   "cell_type": "code",
   "execution_count": 20,
   "metadata": {},
   "outputs": [
    {
     "name": "stdout",
     "output_type": "stream",
     "text": [
      "True\n",
      "False\n",
      "True\n",
      "False\n",
      "True\n",
      "False\n",
      "True\n",
      "False\n"
     ]
    }
   ],
   "source": [
    "x = 5\n",
    "y = 10\n",
    "result = x < y\n",
    "print(result)  #Output: True\n",
    "\n",
    "a = True\n",
    "b = False\n",
    "\n",
    "result_and = a and b  #Output: False\n",
    "print(result_and)\n",
    "\n",
    "result_or = a or b    #Output: True\n",
    "print(result_or)\n",
    "\n",
    "result_not = not a    #Output: False\n",
    "print(result_not)\n",
    "\n",
    "truthy_value = \"Hello\"\n",
    "print(bool(truthy_value)) #Output: True\n",
    "\n",
    "falsy_value = \"\"\n",
    "print(bool(falsy_value)) #Output: False\n",
    "\n",
    "value = 42\n",
    "boolean_value = bool(value)  # Converts to True\n",
    "print(boolean_value) #Output: True\n",
    "\n",
    "value2 = 0\n",
    "boolean_value2 = bool(value2)  # Converts to False\n",
    "print(boolean_value2) #Output: False"
   ]
  },
  {
   "cell_type": "markdown",
   "metadata": {},
   "source": [
    "**Binary types**\n",
    "\n",
    "Bytes and bytearrays are essential for working with binary data, such as files, network protocols, and other low-level data manipulation tasks.\n",
    "\n",
    "<br>\n",
    "\n",
    "**Bytes:** A byte is a unit of digital information that consists of 8 bits. It is the fundamental building block of digital data storage and processing in computers. Each bit in a byte can have a value of 0 or 1, allowing for 2^8 (256) possible combinations. Bytes are commonly used to represent characters in a computer's memory, forming the basis for encoding text and other types of data. You can create a byte using the bytes() constructor or b'.\n",
    "\n",
    "**Bytearray:** The bytearray type is a mutable sequence of bytes, allowing for in-place modifications. It is similar to the bytes type but supports item assignment. You can create a bytearray using the bytearray() constructor.\n",
    "\n",
    "**Memoryview:** The memoryview object allows you to access the underlying memory of an object (such as a bytes or bytearray) without making a copy. This can be useful for efficient manipulation of binary data or working with large datasets. This can be particularly beneficial for scenarios where memory efficiency and performance are critical."
   ]
  },
  {
   "cell_type": "code",
   "execution_count": 1,
   "metadata": {},
   "outputs": [
    {
     "name": "stdout",
     "output_type": "stream",
     "text": [
      "b'Hello'\n",
      "b'Hello, World!'\n",
      "72\n",
      "b'World'\n",
      "bytearray(b'Hello')\n",
      "bytearray(b'Wello')\n",
      "Access memory:\n",
      "72\n",
      "101\n",
      "108\n",
      "108\n",
      "111\n",
      "44\n",
      "32\n",
      "87\n",
      "111\n",
      "114\n",
      "108\n",
      "100\n",
      "33\n"
     ]
    }
   ],
   "source": [
    "# Create a bytes object\n",
    "binary_data = bytes([72, 101, 108, 108, 111])  # Represents the string 'Hello'\n",
    "\n",
    "#In our example 72 represents '1001000' and it equals to 'H' if we convert it to character\n",
    "\n",
    "print(binary_data) #Output: Hello\n",
    "\n",
    "# Create a bytes object with the other method\n",
    "byte_data = b'Hello, World!'\n",
    "\n",
    "print(byte_data) # Output: Hello World!\n",
    "\n",
    "first_byte = byte_data[0] # Access the first byte\n",
    "print(first_byte) #Output: 72\n",
    "\n",
    "substring = byte_data[7:12] # Slice the bytes to get 'World'\n",
    "print(substring) #Output: World\n",
    "\n",
    "# Create a bytearray object\n",
    "mutable_binary_data = bytearray(b'Hello')\n",
    "mutable_binary_data2 = bytearray([72, 101, 108, 108, 111])\n",
    "\n",
    "print(mutable_binary_data2) #Output: Hello\n",
    "\n",
    "mutable_binary_data[0] = 87 # Changes the first byte to represent 'W'\n",
    "print(mutable_binary_data) #Output: Wello\n",
    "\n",
    "# Create a bytes object\n",
    "my_bytes = b'Hello, World!'\n",
    "\n",
    "# Create a memoryview object\n",
    "memory_view = memoryview(my_bytes)\n",
    "\n",
    "print(\"Access memory:\")\n",
    "\n",
    "# Access the memory through the memoryview\n",
    "for byte in memory_view:\n",
    "    print(byte)\n",
    "# Output: ASCII values of each character in 'Hello, World!'"
   ]
  },
  {
   "cell_type": "markdown",
   "metadata": {},
   "source": [
    "**None Type:** It is a special data type in Python that represents the absence of a value or a null value. In Python, None is the singleton object of type NoneType. It is commonly used to indicate that a variable or expression does not refer to or produce a meaningful result.\n",
    "\n",
    "When testing for equality with None, it's recommended to use the 'is' keyword instead of (==), because it might not work as expected in all classes.\n"
   ]
  },
  {
   "cell_type": "code",
   "execution_count": 8,
   "metadata": {},
   "outputs": [
    {
     "name": "stdout",
     "output_type": "stream",
     "text": [
      "None\n",
      "The variable is of type None.\n"
     ]
    }
   ],
   "source": [
    "#Nonetype\n",
    "\n",
    "# Assigning None to a variable\n",
    "my_variable = None\n",
    "print(my_variable) #Output: None\n",
    "\n",
    "# Checking if the variable is of type None\n",
    "if my_variable is None:\n",
    "    print(\"The variable is of type None.\")\n",
    "else:\n",
    "    print(\"The variable is not of type None.\")"
   ]
  }
 ],
 "metadata": {
  "kernelspec": {
   "display_name": "Python 3",
   "language": "python",
   "name": "python3"
  },
  "language_info": {
   "codemirror_mode": {
    "name": "ipython",
    "version": 3
   },
   "file_extension": ".py",
   "mimetype": "text/x-python",
   "name": "python",
   "nbconvert_exporter": "python",
   "pygments_lexer": "ipython3",
   "version": "3.11.5"
  }
 },
 "nbformat": 4,
 "nbformat_minor": 2
}
