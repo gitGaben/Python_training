{
 "cells": [
  {
   "cell_type": "markdown",
   "metadata": {},
   "source": [
    "# List comprehension"
   ]
  },
  {
   "cell_type": "markdown",
   "metadata": {},
   "source": [
    "List comprehension is a concise way to create lists in Python. It provides a compact syntax for creating lists by specifying the elements you want to include and the conditions they must satisfy. The basic syntax is:\n",
    "\n",
    "new_list = [expression for item in iterable if condition]\n",
    "\n",
    "expression: The value to be included in the new list.\n",
    "\n",
    "item: Variable representing each element in the iterable.\n",
    "\n",
    "iterable: The sequence of elements you are iterating over (e.g., a list, tuple, string, etc.).\n",
    "\n",
    "condition (optional): An expression that filters the elements. The item is included in the new list only if the condition is True."
   ]
  },
  {
   "cell_type": "markdown",
   "metadata": {},
   "source": [
    "Basic example:"
   ]
  },
  {
   "cell_type": "code",
   "execution_count": 3,
   "metadata": {},
   "outputs": [
    {
     "name": "stdout",
     "output_type": "stream",
     "text": [
      "[0, 1, 4, 9, 16]\n"
     ]
    }
   ],
   "source": [
    "# Create a list of squares of numbers from 0 to 4\n",
    "\n",
    "squares = [x**2 for x in range(5)]\n",
    "\n",
    "print(squares) # Output: [0, 1, 4, 9, 16]"
   ]
  },
  {
   "cell_type": "markdown",
   "metadata": {},
   "source": [
    "List comprehension with a condition:"
   ]
  },
  {
   "cell_type": "code",
   "execution_count": 4,
   "metadata": {},
   "outputs": [
    {
     "name": "stdout",
     "output_type": "stream",
     "text": [
      "[0, 2, 4, 6, 8]\n"
     ]
    }
   ],
   "source": [
    "# Create a list of even numbers from 0 to 9\n",
    "\n",
    "even_numbers = [x for x in range(10) if x % 2 == 0]\n",
    "\n",
    "print(even_numbers) # Output: [0, 2, 4, 6, 8]"
   ]
  },
  {
   "cell_type": "markdown",
   "metadata": {},
   "source": [
    "Nested list comprehensions:"
   ]
  },
  {
   "cell_type": "code",
   "execution_count": 5,
   "metadata": {},
   "outputs": [
    {
     "name": "stdout",
     "output_type": "stream",
     "text": [
      "[[0, 1, 2], [0, 1, 2], [0, 1, 2]]\n"
     ]
    }
   ],
   "source": [
    "# Create a 2D matrix using nested list comprehension\n",
    "\n",
    "matrix = [[x for x in range(3)] for _ in range(3)]\n",
    "\n",
    "print(matrix) # Output: [[0, 1, 2], [0, 1, 2], [0, 1, 2]]"
   ]
  },
  {
   "cell_type": "markdown",
   "metadata": {},
   "source": [
    "Using if-else in expression:"
   ]
  },
  {
   "cell_type": "code",
   "execution_count": 6,
   "metadata": {},
   "outputs": [
    {
     "name": "stdout",
     "output_type": "stream",
     "text": [
      "['even', 'odd', 'even', 'odd', 'even']\n"
     ]
    }
   ],
   "source": [
    "# Create a list of 'even' or 'odd' based on the value\n",
    "\n",
    "parity_labels = ['even' if x % 2 == 0 else 'odd' for x in range(5)]\n",
    "\n",
    "print(parity_labels) # Output: ['even', 'odd', 'even', 'odd', 'even']"
   ]
  },
  {
   "cell_type": "markdown",
   "metadata": {},
   "source": [
    "List comprehensions can make your code more readable and concise, but it's essential to use them judiciously to avoid sacrificing readability."
   ]
  }
 ],
 "metadata": {
  "kernelspec": {
   "display_name": "Python 3",
   "language": "python",
   "name": "python3"
  },
  "language_info": {
   "codemirror_mode": {
    "name": "ipython",
    "version": 3
   },
   "file_extension": ".py",
   "mimetype": "text/x-python",
   "name": "python",
   "nbconvert_exporter": "python",
   "pygments_lexer": "ipython3",
   "version": "3.11.5"
  }
 },
 "nbformat": 4,
 "nbformat_minor": 2
}
