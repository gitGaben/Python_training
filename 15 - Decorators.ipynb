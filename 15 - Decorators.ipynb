{
 "cells": [
  {
   "cell_type": "markdown",
   "metadata": {},
   "source": [
    "# Decorators   "
   ]
  },
  {
   "cell_type": "markdown",
   "metadata": {},
   "source": [
    "In Python, decorators are a powerful and flexible way to modify or extend the behavior of functions or methods without changing their actual code. Decorators are applied using the @decorator syntax before the function definition. They allow you to wrap another function and perform additional actions before or after the wrapped function is called.\n",
    "\n"
   ]
  },
  {
   "cell_type": "markdown",
   "metadata": {},
   "source": [
    "Example 1: Treating the functions as objects. "
   ]
  },
  {
   "cell_type": "code",
   "execution_count": 6,
   "metadata": {},
   "outputs": [
    {
     "name": "stdout",
     "output_type": "stream",
     "text": [
      "HELLO\n",
      "HELLO\n"
     ]
    }
   ],
   "source": [
    "# Functions can be treated as objects (I can assign the function to a variable)\n",
    "\n",
    "def shout(text): \n",
    "    return text.upper() \n",
    " \n",
    "print(shout('Hello')) # Output: HELLO\n",
    " \n",
    "yell = shout \n",
    " \n",
    "print(yell('Hello')) # Output: HELLO"
   ]
  },
  {
   "cell_type": "markdown",
   "metadata": {},
   "source": [
    "Example 2: Passing the function as an argument "
   ]
  },
  {
   "cell_type": "code",
   "execution_count": 7,
   "metadata": {},
   "outputs": [
    {
     "name": "stdout",
     "output_type": "stream",
     "text": [
      "HI, I AM CREATED BY A FUNCTION PASSED AS AN ARGUMENT.\n",
      "hi, i am created by a function passed as an argument.\n"
     ]
    }
   ],
   "source": [
    "# Functions can be passed as arguments to other functions \n",
    "def shout(text): \n",
    "    return text.upper() \n",
    " \n",
    "def whisper(text): \n",
    "    return text.lower() \n",
    " \n",
    "def greet(func): \n",
    "    # storing the function in a variable \n",
    "    greeting = func(\"Hi, I am created by a function passed as an argument.\") \n",
    "    print (greeting) \n",
    " \n",
    "greet(shout) # Output: HI, I AM CREATED BY A FUNCTION PASSED AS AN ARGUMENT.\n",
    "greet(whisper) # Output: hi, i am created by a function passed as an argument.\n",
    "\n"
   ]
  },
  {
   "cell_type": "markdown",
   "metadata": {},
   "source": [
    "Example 3: Returning functions from another function."
   ]
  },
  {
   "cell_type": "code",
   "execution_count": 9,
   "metadata": {},
   "outputs": [
    {
     "name": "stdout",
     "output_type": "stream",
     "text": [
      "25\n"
     ]
    }
   ],
   "source": [
    "# Python program to illustrate functions \n",
    "# Functions can return another function \n",
    " \n",
    "def create_adder(x): \n",
    "    def adder(y): \n",
    "        return x+y \n",
    " \n",
    "    return adder \n",
    " \n",
    "add_15 = create_adder(15) \n",
    " \n",
    "print(add_15(10)) # Output: 25"
   ]
  },
  {
   "cell_type": "code",
   "execution_count": 6,
   "metadata": {},
   "outputs": [
    {
     "name": "stdout",
     "output_type": "stream",
     "text": [
      "Something is happening before the function is called.\n",
      "Hello!\n",
      "Something is happening after the function is called.\n"
     ]
    }
   ],
   "source": [
    "def my_decorator(func):\n",
    "    def wrapper():\n",
    "        print(\"Something is happening before the function is called.\")\n",
    "        func()\n",
    "        print(\"Something is happening after the function is called.\")\n",
    "    return wrapper\n",
    "\n",
    "@my_decorator\n",
    "def say_hello():\n",
    "    print(\"Hello!\")\n",
    "\n",
    "say_hello()"
   ]
  },
  {
   "cell_type": "code",
   "execution_count": 8,
   "metadata": {},
   "outputs": [
    {
     "name": "stdout",
     "output_type": "stream",
     "text": [
      "Hello, Alice!\n",
      "Hello, Alice!\n",
      "Hello, Alice!\n"
     ]
    }
   ],
   "source": [
    "def repeat(n):\n",
    "    def decorator(func):\n",
    "        def wrapper(*args, **kwargs):\n",
    "            for _ in range(n):\n",
    "                func(*args, **kwargs)\n",
    "        return wrapper\n",
    "    return decorator\n",
    "\n",
    "@repeat(3)\n",
    "def greet(name):\n",
    "    print(f\"Hello, {name}!\")\n",
    "\n",
    "greet(\"Alice\")"
   ]
  },
  {
   "cell_type": "code",
   "execution_count": 16,
   "metadata": {},
   "outputs": [
    {
     "name": "stdout",
     "output_type": "stream",
     "text": [
      "My arguments are: Nairobi, Accra\n",
      "Cities I love are Nairobi and Accra\n"
     ]
    }
   ],
   "source": [
    "def decorator_with_arguments(function):\n",
    "    def wrapper_accepting_arguments(arg1, arg2):\n",
    "        print(f\"My arguments are: {arg1}, {arg2}\")\n",
    "        function(arg1, arg2)\n",
    "    return wrapper_accepting_arguments\n",
    "\n",
    "\n",
    "@decorator_with_arguments\n",
    "def cities(city_one, city_two):\n",
    "    print(f\"Cities I love are {city_one} and {city_two}\")\n",
    "\n",
    "cities(\"Nairobi\", \"Accra\")"
   ]
  },
  {
   "cell_type": "code",
   "execution_count": 21,
   "metadata": {},
   "outputs": [
    {
     "name": "stdout",
     "output_type": "stream",
     "text": [
      "The positional arguments are (1, 2, 3)\n",
      "The keyword arguments are {'city': 'asd'}\n",
      "1 2 3\n"
     ]
    }
   ],
   "source": [
    "def a_decorator_passing_arbitrary_arguments(function_to_decorate):\n",
    "    def a_wrapper_accepting_arbitrary_arguments(*args,**kwargs):\n",
    "        print('The positional arguments are', args)\n",
    "        print('The keyword arguments are', kwargs)\n",
    "        function_to_decorate(*args)\n",
    "    return a_wrapper_accepting_arbitrary_arguments\n",
    "\n",
    "@a_decorator_passing_arbitrary_arguments\n",
    "def function_with_no_argument(a,b,c):\n",
    "    print(a,b,c)\n",
    "\n",
    "function_with_no_argument(1,2,3, city=\"asd\")"
   ]
  },
  {
   "cell_type": "code",
   "execution_count": 11,
   "metadata": {},
   "outputs": [
    {
     "ename": "TypeError",
     "evalue": "asd() got an unexpected keyword argument 'city'",
     "output_type": "error",
     "traceback": [
      "\u001b[0;31m---------------------------------------------------------------------------\u001b[0m",
      "\u001b[0;31mTypeError\u001b[0m                                 Traceback (most recent call last)",
      "\u001b[1;32m/Users/kristongabor/Desktop/Python training/15 - Decorators.ipynb Cell 13\u001b[0m line \u001b[0;36m4\n\u001b[1;32m      <a href='vscode-notebook-cell:/Users/kristongabor/Desktop/Python%20training/15%20-%20Decorators.ipynb#X25sZmlsZQ%3D%3D?line=0'>1</a>\u001b[0m \u001b[39mdef\u001b[39;00m \u001b[39masd\u001b[39m(a,b,c):\n\u001b[1;32m      <a href='vscode-notebook-cell:/Users/kristongabor/Desktop/Python%20training/15%20-%20Decorators.ipynb#X25sZmlsZQ%3D%3D?line=1'>2</a>\u001b[0m     \u001b[39mprint\u001b[39m(a,b,c)\n\u001b[0;32m----> <a href='vscode-notebook-cell:/Users/kristongabor/Desktop/Python%20training/15%20-%20Decorators.ipynb#X25sZmlsZQ%3D%3D?line=3'>4</a>\u001b[0m asd(\u001b[39m3\u001b[39;49m,\u001b[39m4\u001b[39;49m,\u001b[39m5\u001b[39;49m,city\u001b[39m=\u001b[39;49m\u001b[39m\"\u001b[39;49m\u001b[39masd\u001b[39;49m\u001b[39m\"\u001b[39;49m)\n",
      "\u001b[0;31mTypeError\u001b[0m: asd() got an unexpected keyword argument 'city'"
     ]
    }
   ],
   "source": [
    "def asd(a,b,c):\n",
    "    print(a,b,c)\n",
    "    \n",
    "asd(3,4,5,city=\"asd\")"
   ]
  },
  {
   "cell_type": "markdown",
   "metadata": {},
   "source": [
    "A class method in Python is a method that is bound to the class and not the instance of the class. It takes the class itself (usually referred to as cls) as its first parameter rather than an instance. Class methods are defined using the @classmethod decorator."
   ]
  },
  {
   "cell_type": "code",
   "execution_count": 43,
   "metadata": {},
   "outputs": [
    {
     "name": "stdout",
     "output_type": "stream",
     "text": [
      "21\n",
      "Razor\n",
      "27\n",
      "Gaben\n",
      "True\n"
     ]
    }
   ],
   "source": [
    "# Python program to demonstrate\n",
    "# use of class method and static method.\n",
    "from datetime import date\n",
    " \n",
    "class Person:\n",
    "    def __init__(self, name, age):\n",
    "        self.name = name\n",
    "        self.age = age\n",
    " \n",
    "    # a class method to create a Person object by birth year.\n",
    "    @classmethod\n",
    "    def fromBirthYear(cls, name, year):\n",
    "        return cls(name, date.today().year - year)\n",
    " \n",
    "    # a static method to check if a Person is adult or not.\n",
    "    @staticmethod\n",
    "    def isAdult(age):\n",
    "        return age > 18\n",
    " \n",
    " \n",
    "person1 = Person('Razor', 21)\n",
    "person2 = Person.fromBirthYear('Gaben', 1996)\n",
    " \n",
    "print(person1.age)\n",
    "print(person1.name)\n",
    "print(person2.age)\n",
    "print(person2.name)\n",
    " \n",
    "# print the result\n",
    "print(Person.isAdult(22))"
   ]
  },
  {
   "cell_type": "markdown",
   "metadata": {},
   "source": [
    "A staticmethod in Python is a method that belongs to a class rather than an instance. It is defined using the @staticmethod decorator. Unlike regular instance methods, a static method does not have access to the instance or the class itself. It operates on the arguments passed to it and does not depend on instance-specific data. It can be called on the class itself without creating an instance."
   ]
  },
  {
   "cell_type": "code",
   "execution_count": 37,
   "metadata": {},
   "outputs": [
    {
     "name": "stdout",
     "output_type": "stream",
     "text": [
      "Regular Instance Method Result: 7\n",
      "Static Method Result: 7\n"
     ]
    }
   ],
   "source": [
    "class MathOperation:\n",
    "    def __init__(self, operand1):\n",
    "        self.operand1 = operand1\n",
    "\n",
    "    def add_instance_method(self, operand2):\n",
    "        return self.operand1 + operand2\n",
    "\n",
    "    @staticmethod\n",
    "    def add_static_method(operand1, operand2):\n",
    "        return operand1 + operand2\n",
    "\n",
    "# Creating an instance\n",
    "math_instance = MathOperation(3)\n",
    "\n",
    "# Using the regular instance method\n",
    "result_instance_method = math_instance.add_instance_method(4)\n",
    "print(f\"Regular Instance Method Result: {result_instance_method}\")  # Output: Regular Instance Method Result: 7\n",
    "\n",
    "# Using the static method\n",
    "result_static_method = MathOperation.add_static_method(3, 4)\n",
    "print(f\"Static Method Result: {result_static_method}\")  # Output: Static Method Result: 7"
   ]
  },
  {
   "cell_type": "markdown",
   "metadata": {},
   "source": [
    "In this scenario:\n",
    "\n",
    "<br>\n",
    "\n",
    "Regular Instance Method:\n",
    "\n",
    "It requires an instance of MathOperation (math_instance) to perform the addition.\n",
    "It implicitly uses self.operand1 as part of the operation.\n",
    "\n",
    "<br>\n",
    "\n",
    "Static Method:\n",
    "\n",
    "It doesn't require an instance and can be called on the class itself (MathOperation).\n",
    "\n",
    "It explicitly takes both operands as arguments and doesn't rely on instance-specific data.\n",
    "\n",
    "<br>\n",
    "\n",
    "This scenario illustrates that if your method doesn't need access to instance attributes (self) and can be logically separated from the instance, using a static method makes the intent clear and allows the method to be called on the class directly.\n",
    "\n",
    "Choosing between instance methods and static methods depends on the nature of the operation and whether it requires access to instance-specific data. In this case, the static method provides a more straightforward and potentially more efficient approach for a simple addition operation."
   ]
  },
  {
   "cell_type": "markdown",
   "metadata": {},
   "source": [
    "This one is simply interesting:"
   ]
  },
  {
   "cell_type": "code",
   "execution_count": 27,
   "metadata": {},
   "outputs": [
    {
     "name": "stdout",
     "output_type": "stream",
     "text": [
      "Alice is 33 years old.\n"
     ]
    }
   ],
   "source": [
    "class Person:\n",
    "    def __init__(self, name, age):\n",
    "        self.name = name\n",
    "        self.age = age\n",
    "\n",
    "    def create_person_from_birth_year(name, birth_year):\n",
    "        age = 2023 - birth_year\n",
    "        return Person(name, age)\n",
    "\n",
    "# Using the static method as an alternative constructor\n",
    "person = Person.create_person_from_birth_year(\"Alice\", 1990)\n",
    "print(f\"{person.name} is {person.age} years old.\")\n",
    "# Output: Alice is 33 years old."
   ]
  }
 ],
 "metadata": {
  "kernelspec": {
   "display_name": "Python 3",
   "language": "python",
   "name": "python3"
  },
  "language_info": {
   "codemirror_mode": {
    "name": "ipython",
    "version": 3
   },
   "file_extension": ".py",
   "mimetype": "text/x-python",
   "name": "python",
   "nbconvert_exporter": "python",
   "pygments_lexer": "ipython3",
   "version": "3.11.5"
  }
 },
 "nbformat": 4,
 "nbformat_minor": 2
}
