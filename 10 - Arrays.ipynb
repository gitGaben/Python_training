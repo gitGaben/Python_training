{
 "cells": [
  {
   "cell_type": "markdown",
   "metadata": {},
   "source": [
    "# Arrays"
   ]
  },
  {
   "cell_type": "markdown",
   "metadata": {},
   "source": [
    "In Python, arrays are containers which are able to store more than one item at the same time, from the same data type. Specifically, they are an ordered collection of elements with every value being of the same data type. Elements in an array can be accessed directly using an index or a subscript. This means you can quickly retrieve the value at a specific position in constant time."
   ]
  },
  {
   "cell_type": "markdown",
   "metadata": {},
   "source": [
    "**What's the Difference between Python Lists and Python Arrays?**\n",
    "\n",
    "Lists and arrays behave similarly. Just like arrays, lists are an ordered sequence of elements. They are also mutable and not fixed in size, which means they can grow and shrink throughout the life of the program. Items can be added and removed, making them very flexible to work with.\n",
    "\n",
    "However, lists and arrays are not the same thing.\n",
    "\n",
    "Lists store items that are of various data types. This means that a list can contain integers, floating point numbers, strings, or any other Python data type, at the same time. That is not the case with arrays."
   ]
  },
  {
   "cell_type": "markdown",
   "metadata": {},
   "source": [
    "**In Python, lists and arrays (NumPy arrays, in particular) serve different purposes, and the choice between them depends on the specific requirements of your task. Here are some considerations that might lead you to choose arrays over lists in certain scenarios:**\n",
    "\n",
    "<br>\n",
    "\n",
    "**1 - Numerical Operations and Efficiency:**\n",
    "\n",
    "If your primary use case involves numerical operations or large-scale mathematical computations, NumPy arrays are often a better choice. NumPy is a powerful numerical computing library in Python, and its arrays are implemented in C, which makes them more efficient for numerical operations than Python lists.\n",
    "\n",
    "<br>\n",
    "\n",
    "**2 - Memory Efficiency:**\n",
    "\n",
    "NumPy arrays are more memory-efficient than lists, especially for large datasets. NumPy uses a more compact internal representation for arrays compared to Python lists.\n",
    "\n",
    "<br>\n",
    "\n",
    "**3 - Multidimensional Arrays:**\n",
    "\n",
    "NumPy provides support for multidimensional arrays. This is particularly useful for tasks like linear algebra, image processing, and working with multi-dimensional datasets.\n",
    "\n",
    "<br>"
   ]
  },
  {
   "cell_type": "markdown",
   "metadata": {},
   "source": [
    "**Zip function:** \n",
    "\n",
    "It is a built-in function in Python that combines multiple iterables (lists, tuples, etc.) element-wise. It returns an iterator of tuples where the i-th tuple contains the i-th element from each of the input iterables. If the input iterables are of unequal length, zip stops creating tuples when the shortest input iterable is exhausted.\n",
    "\n",
    "Here's a simple example:"
   ]
  },
  {
   "cell_type": "code",
   "execution_count": 3,
   "metadata": {},
   "outputs": [
    {
     "name": "stdout",
     "output_type": "stream",
     "text": [
      "(1, 'a')\n",
      "(2, 'b')\n",
      "(3, 'c')\n",
      "<zip object at 0x10349c240>\n",
      "[(1, 'a'), (2, 'b'), (3, 'c')]\n"
     ]
    }
   ],
   "source": [
    "list1 = [1, 2, 3]\n",
    "list2 = ['a', 'b', 'c']\n",
    "\n",
    "# Using zip to combine the two lists\n",
    "zipped_result = zip(list1, list2)\n",
    "\n",
    "print(next(zipped_result))\n",
    "print(next(zipped_result))\n",
    "print(next(zipped_result))\n",
    "\n",
    "print(zipped_result)\n",
    "\n",
    "zipped_result2 = zip(list1, list2)\n",
    "\n",
    "# Converting the result to a list for display\n",
    "result_list = list(zipped_result2)\n",
    "\n",
    "print(result_list)"
   ]
  },
  {
   "cell_type": "markdown",
   "metadata": {},
   "source": [
    "**Example illustrating the efficiency of NumPy arrays for numerical operations:**"
   ]
  },
  {
   "cell_type": "code",
   "execution_count": 4,
   "metadata": {},
   "outputs": [
    {
     "name": "stdout",
     "output_type": "stream",
     "text": [
      "[5, 7, 9]\n",
      "[5, 7, 9]\n",
      "[5 7 9]\n"
     ]
    }
   ],
   "source": [
    "import numpy as np\n",
    "\n",
    "# Using Python lists\n",
    "python_list1 = [1, 2, 3]\n",
    "python_list2 = [4, 5, 6]\n",
    "result_list = [a + b for a, b in zip(python_list1, python_list2)]\n",
    "\n",
    "print(result_list)\n",
    "\n",
    "#Other solution:\n",
    "\n",
    "result_list2 = []\n",
    "\n",
    "for i in range(len(python_list1)):\n",
    "    result_list2.append(python_list1[i] + python_list2[i])\n",
    "\n",
    "print(result_list2)\n",
    "\n",
    "\n",
    "# Using NumPy arrays\n",
    "numpy_array1 = np.array([1, 2, 3])\n",
    "numpy_array2 = np.array([4, 5, 6])\n",
    "result_array = numpy_array1 + numpy_array2\n",
    "print(result_array)"
   ]
  },
  {
   "cell_type": "markdown",
   "metadata": {},
   "source": [
    "In this example, both approaches achieve the same result, but the NumPy version is more concise and efficient, especially for larger datasets.\n",
    "\n",
    "It's important to note that for general-purpose programming and when you don't require the advanced features provided by NumPy, Python lists are often sufficient and more convenient. The choice between lists and arrays depends on the nature of the tasks you need to accomplish."
   ]
  },
  {
   "cell_type": "markdown",
   "metadata": {},
   "source": [
    "**1. Creating Arrays from Lists:**"
   ]
  },
  {
   "cell_type": "code",
   "execution_count": 11,
   "metadata": {},
   "outputs": [
    {
     "name": "stdout",
     "output_type": "stream",
     "text": [
      "[1 2 3 4 5]\n",
      "3\n",
      "1\n",
      "(5,)\n",
      "5\n",
      "8\n",
      "int64\n",
      "[[1 2 3]\n",
      " [4 5 6]\n",
      " [7 8 9]]\n",
      "7\n",
      "2\n",
      "(3, 3)\n",
      "9\n",
      "8\n",
      "int64\n"
     ]
    }
   ],
   "source": [
    "import numpy as np\n",
    "\n",
    "# 1D array\n",
    "arr1 = np.array([1, 2, 3, 4, 5])\n",
    "\n",
    "# Printing out the whole array\n",
    "print(arr1)\n",
    "\n",
    "# Printing out the 3rd item in the array (since the count starts from 0)\n",
    "print(arr1[2]) #Output: 3\n",
    "\n",
    "# Number of dimensions\n",
    "print(arr1.ndim) #Output: 1\n",
    "\n",
    "# Number of columns and lines\n",
    "print(arr1.shape) #Output: (5,) which means that it has 5 columns and 1 line\n",
    "\n",
    "# Size of the array\n",
    "print(arr1.size) #Output: 5\n",
    "\n",
    "# Byte size of the array\n",
    "print(arr1.itemsize) #Output: 8\n",
    "\n",
    "# Data type ot the elements\n",
    "print(arr1.dtype) #Output: int64, which means that it is 64 bit signed integer\n",
    "\n",
    "\n",
    "# 2D array (matrix)\n",
    "arr2 = np.array([[1, 2, 3], [4, 5, 6], [7, 8, 9]])\n",
    "\n",
    "# Printing out the whole array\n",
    "print(arr2)\n",
    "\n",
    "# Printing out the 1st item from the 3rd dimension (since the count starts from 0 in each dimension)\n",
    "print(arr2[2,0]) # Dimension then element, Output: 7\n",
    "\n",
    "# Number of dimensions\n",
    "print(arr2.ndim) #Output: 2\n",
    "\n",
    "# Number of columns and lines\n",
    "print(arr2.shape) #Output: (3,3) which means that it has 3 columns and 3 lines\n",
    "\n",
    "# Size of the array\n",
    "print(arr2.size) #Output: 9\n",
    "\n",
    "# Byte size of the array\n",
    "print(arr2.itemsize) #Output: 8\n",
    "\n",
    "# Data type ot the elements\n",
    "print(arr1.dtype) #Output: int64, which means that it is 64 bit signed integer\n"
   ]
  },
  {
   "cell_type": "markdown",
   "metadata": {},
   "source": [
    "Capacity\n",
    "\n",
    "Int16 - (-32,768 to +32,767) It can operate with 16 bit (15 characted long binary code)\n",
    "\n",
    "Int32 - (-2,147,483,648 to +2,147,483,647) It can operate with 32 bit (31 characted long binary code)\n",
    "\n",
    "Int64 - (-9,223,372,036,854,775,808 to +9,223,372,036,854,775,807) It can operate with 64 bit (63 characted long binary code)"
   ]
  },
  {
   "cell_type": "markdown",
   "metadata": {},
   "source": [
    "**2. Creating Arrays with Initial Values:**"
   ]
  },
  {
   "cell_type": "code",
   "execution_count": 24,
   "metadata": {},
   "outputs": [
    {
     "name": "stdout",
     "output_type": "stream",
     "text": [
      "[[0. 0. 0.]\n",
      " [0. 0. 0.]]\n",
      "[[1. 1. 1. 1.]\n",
      " [1. 1. 1. 1.]\n",
      " [1. 1. 1. 1.]]\n",
      "[[7 7]\n",
      " [7 7]]\n"
     ]
    }
   ],
   "source": [
    "# Array of zeros\n",
    "zeros_array = np.zeros((2, 3))  # 2x3 array of zeros\n",
    "\n",
    "print(zeros_array)\n",
    "\n",
    "# Array of ones\n",
    "ones_array = np.ones((3, 4))  # 3x4 array of ones\n",
    "print(ones_array)\n",
    "\n",
    "# Array with a constant value\n",
    "constant_array = np.full((2, 2), 7)  # 2x2 array with all elements set to 7\n",
    "print(constant_array)"
   ]
  },
  {
   "cell_type": "markdown",
   "metadata": {},
   "source": [
    "**3. Creating Arrays with Ranges:**"
   ]
  },
  {
   "cell_type": "code",
   "execution_count": 26,
   "metadata": {},
   "outputs": [
    {
     "name": "stdout",
     "output_type": "stream",
     "text": [
      "[0 2 4 6 8]\n",
      "[0.   0.25 0.5  0.75 1.  ]\n"
     ]
    }
   ],
   "source": [
    "# Range of values\n",
    "range_array = np.arange(0, 10, 2)  # Start, stop, step\n",
    "print(range_array)\n",
    "\n",
    "# Evenly spaced values\n",
    "linspace_array = np.linspace(0, 1, 5)  # Start, stop, number of points\n",
    "print(linspace_array)"
   ]
  },
  {
   "cell_type": "markdown",
   "metadata": {},
   "source": [
    "**4. Creating Random Arrays:**"
   ]
  },
  {
   "cell_type": "code",
   "execution_count": 38,
   "metadata": {},
   "outputs": [
    {
     "name": "stdout",
     "output_type": "stream",
     "text": [
      "[[0.34789411 0.19480659 0.32534595]\n",
      " [0.14576934 0.29967501 0.05312243]\n",
      " [0.24438086 0.61053006 0.66374851]]\n",
      "[0.61246628 0.95473134 0.7206305 ]\n",
      "[[3 6]\n",
      " [9 8]]\n"
     ]
    }
   ],
   "source": [
    "# Random values between 0 and 1\n",
    "random_array = np.random.rand(3, 3)  # 3x3 array\n",
    "print(random_array)\n",
    "\n",
    "# np.random is not a function itself, but rather a list of functions\n",
    "x = np.random.random(3) # Returns 3 random numbers between 0 and 1\n",
    "print(x)\n",
    "\n",
    "# Random integers within a range\n",
    "random_int_array = np.random.randint(1, 10, (2, 2))  # 2x2 array of random integers (1 to 10)\n",
    "print(random_int_array)"
   ]
  },
  {
   "cell_type": "markdown",
   "metadata": {},
   "source": [
    "**Indexing and slicing**"
   ]
  },
  {
   "cell_type": "code",
   "execution_count": 10,
   "metadata": {},
   "outputs": [
    {
     "name": "stdout",
     "output_type": "stream",
     "text": [
      "[1 2 3 4 5]\n",
      "3\n",
      "[[1 2 3]\n",
      " [4 5 6]\n",
      " [7 8 9]]\n",
      "8\n",
      "[2 3 4]\n",
      "[4 5]\n",
      "[1 2]\n",
      "[2]\n",
      "[5 8]\n",
      "[[4 5 6]]\n",
      "[[4 5 6]]\n",
      "[7 8 9]\n",
      "[4]\n",
      "[5 6]\n",
      "[[2]\n",
      " [5]\n",
      " [8]]\n",
      "[[2]\n",
      " [5]\n",
      " [8]]\n",
      "[3 6 9]\n",
      "[[1 3]\n",
      " [4 6]\n",
      " [7 9]]\n",
      "[False False False  True  True]\n",
      "[4 5]\n",
      "[[False False False]\n",
      " [ True  True  True]\n",
      " [ True  True  True]]\n",
      "[4 5 6 7 8 9]\n"
     ]
    }
   ],
   "source": [
    "# 1D array\n",
    "arr1 = np.array([1, 2, 3, 4, 5])\n",
    "\n",
    "print(arr1) #Output: [1 2 3 4 5]\n",
    "\n",
    "# Accessing elements\n",
    "element = arr1[2]  # Access the element at index 2\n",
    "\n",
    "print(element) #Output: 3\n",
    "\n",
    "\n",
    "# 2D array (matrix)\n",
    "arr2 = np.array([[1, 2, 3], [4, 5, 6], [7, 8, 9]])\n",
    "\n",
    "print(arr2)\n",
    "\n",
    "# Accessing elements\n",
    "element2 = arr2[2,1] # Access the element at line 3, column 2\n",
    "\n",
    "print(element2) #Output: 8\n",
    "\n",
    "\n",
    "\n",
    "# Slicing 1D array\n",
    "slice_result = arr1[1:4]  # Slice from index 1 to 3 (exclusive)\n",
    "\n",
    "print(slice_result) #Output: [2 3 4]\n",
    "\n",
    "slice_result2 = arr1[2:] # Slice from index 2 (contains 2nd index)\n",
    "\n",
    "print(slice_result2) #Output: [3 4 5]\n",
    "\n",
    "slice_result3 = arr1[:2] # Slice until index 2 (doesn't contain 2nd index)\n",
    "\n",
    "print(slice_result3) #Output: [1 2]\n",
    "\n",
    "\n",
    "\n",
    "# Slicing 2D array\n",
    "\n",
    "slice_rows = arr2[0:1, 1] # Slicing the first row, and second column. With this method we don't get extra []\n",
    "\n",
    "print(slice_rows) #Output: [2]\n",
    "\n",
    "slice_rows2 = arr2[1:3, 1] # Slicing the second and thrird row, and second column. With this method we don't get extra []\n",
    "\n",
    "print(slice_rows2) #Output: [5 8]\n",
    "\n",
    "slice_rows3 = arr2[1:2, 0:3] # Slicing the second row, and columns 1 to 3\n",
    "\n",
    "print(slice_rows3) #Output: [[4 5 6]]\n",
    "\n",
    "slice_rows4 = arr2[1:2,:] # Slicing the second row, and all the columns\n",
    "\n",
    "print(slice_rows4) #Output: [[4 5 6]]\n",
    "\n",
    "slice_rows4 = arr2[2,:] # Slicing 3rd row, and all the columns. With this method we don't get extra []\n",
    "\n",
    "print(slice_rows4) #Output: [7 8 9]\n",
    "\n",
    "\n",
    "\n",
    "slice_cols = arr2[1, 0:1]  # Slicing the second row and first column. With this method we don't get extra []\n",
    "\n",
    "print(slice_cols) #Output: [4]\n",
    "\n",
    "slice_cols2 = arr2[1, 1:3]  # Slicing the second row and 2nd + 3rd column. With this method we don't get extra []\n",
    "\n",
    "print(slice_cols2) #Output: [5 6]\n",
    "\n",
    "slice_cols3 = arr2[0:3, 1:2]  # Slicing rows 1 to 3 and 2nd column\n",
    "\n",
    "print(slice_cols3) #Output: [ [2] [5] [8] ] transposed\n",
    "\n",
    "slice_cols4 = arr2[:, 1:2]  # Slicing all the rows and 2nd column\n",
    "\n",
    "print(slice_cols4) #Output: [ [2] [5] [8] ] transposed\n",
    "\n",
    "slice_cols5 = arr2[:, 2]  # Slicing all the rows and 3rd column\n",
    "\n",
    "print(slice_cols5) #Output: [3 6 9]\n",
    "\n",
    "\n",
    "# Slicing with steps\n",
    "\n",
    "slice_step = arr2[:, 0:3:2]  # All rows and columns 1 to 3 with a step of 2\n",
    "print(slice_step) #Output: [[1 3] [4 6] [7 9]] transposed\n",
    "\n",
    "\n",
    "\n",
    "# Boolean indexing for 1D array\n",
    "bool_index = arr1 > 3\n",
    "\n",
    "print(bool_index) #Output: [F F F T T]\n",
    "\n",
    "# We create an array, which shows only True values\n",
    "filtered_array = arr1[bool_index]\n",
    "\n",
    "print(filtered_array) #Output: [4 5]\n",
    "\n",
    "# Boolean indexing for 2D array\n",
    "bool_index2 = arr2 > 3\n",
    "\n",
    "print(bool_index2) #Output: [F F F T T T T T T]\n",
    "\n",
    "# We create an array, which shows only those elements, which have True values assigned\n",
    "filtered_array2 = arr2[bool_index2] \n",
    "\n",
    "print(filtered_array2) #Output: [4 5 6 7 8 9]"
   ]
  },
  {
   "cell_type": "markdown",
   "metadata": {},
   "source": [
    "**Appending elements**"
   ]
  },
  {
   "cell_type": "code",
   "execution_count": 12,
   "metadata": {},
   "outputs": [
    {
     "name": "stdout",
     "output_type": "stream",
     "text": [
      "[1 2 3 4 5]\n",
      "[1 2 3 4 5 6]\n",
      "[1 2 3 4 5 6 1 2]\n",
      "[[1 2 3]\n",
      " [4 5 6]\n",
      " [7 8 9]]\n",
      "2\n",
      "1\n",
      "2\n",
      "[[10 11 12]]\n",
      "[[ 1  2  3]\n",
      " [ 4  5  6]\n",
      " [ 7  8  9]\n",
      " [10 11 12]]\n",
      "[1 2 3 4]\n",
      "[[1]\n",
      " [2]\n",
      " [3]\n",
      " [4]]\n",
      "[[ 1  2  3  1]\n",
      " [ 4  5  6  2]\n",
      " [ 7  8  9  3]\n",
      " [10 11 12  4]]\n"
     ]
    }
   ],
   "source": [
    "# 1D array\n",
    "arr1 = np.array([1, 2, 3, 4, 5])\n",
    "\n",
    "print(arr1) # Output: [1 2 3 4 5]\n",
    "\n",
    "# Append elements to a 1D array\n",
    "arr1 = np.append(arr1, 6)\n",
    "\n",
    "print(arr1) # Output: [1 2 3 4 5 6]\n",
    "\n",
    "x = np.array([1,2])\n",
    "\n",
    "# Append multiple elements at once\n",
    "arr1 = np.append(arr1, x)\n",
    "\n",
    "print(arr1) # Output: [1 2 3 4 5 6 1 2]\n",
    "\n",
    "\n",
    "# 2D array (matrix)\n",
    "arr2 = np.array([[1, 2, 3], [4, 5, 6], [7, 8, 9]])\n",
    "\n",
    "print(arr2)\n",
    "print(arr2.ndim) #Output: 2\n",
    "\n",
    "# Append a row to a 2D array\n",
    "new_row = np.array([10, 11, 12])\n",
    "print(new_row.ndim) #Output: 1\n",
    "\n",
    "# The new_row variable is still a 1D variable, we have to reshape it to 2D\n",
    "new_row_2d = new_row.reshape(1, -1)\n",
    "\n",
    "print(new_row_2d.ndim) #Output: 2\n",
    "\n",
    "print(new_row_2d) #Output: [[10, 11, 12]]\n",
    "\n",
    "# Appending to the bottom\n",
    "arr2 = np.append(arr2, new_row_2d, axis=0)\n",
    "\n",
    "print(arr2)\n",
    "\n",
    "\n",
    "# Append a column to a 2D array\n",
    "new_column = np.array([1,2,3,4])\n",
    "\n",
    "print(new_column)\n",
    "\n",
    "# The new_column variable is still a 1D variable, we have to reshape it to 2D\n",
    "new_column2 = new_column.reshape(-1,1)\n",
    "\n",
    "print(new_column2)\n",
    "\n",
    "# Appending to the right\n",
    "arr2 = np.append(arr2, new_column2, axis=1)\n",
    "\n",
    "print(arr2)"
   ]
  },
  {
   "cell_type": "markdown",
   "metadata": {},
   "source": [
    "1. Basic Reshaping of 1D Arrays:"
   ]
  },
  {
   "cell_type": "code",
   "execution_count": 206,
   "metadata": {},
   "outputs": [
    {
     "name": "stdout",
     "output_type": "stream",
     "text": [
      "Original 1D array:\n",
      "[1 2 3 4 5 6]\n",
      "\n",
      "Reshaped 2D array:\n",
      "[[1 2 3]\n",
      " [4 5 6]]\n"
     ]
    }
   ],
   "source": [
    "# Create a 1D array\n",
    "arr_1d = np.array([1, 2, 3, 4, 5, 6])\n",
    "\n",
    "# Reshape to a 2D array with 2 rows and 3 columns\n",
    "arr_2d = np.reshape(arr_1d, (2, 3))\n",
    "\n",
    "print(\"Original 1D array:\")\n",
    "print(arr_1d)\n",
    "\n",
    "print(\"\\nReshaped 2D array:\")\n",
    "print(arr_2d)"
   ]
  },
  {
   "cell_type": "markdown",
   "metadata": {},
   "source": [
    "2. Reshaping with -1 (Automatic Inference):"
   ]
  },
  {
   "cell_type": "code",
   "execution_count": 207,
   "metadata": {},
   "outputs": [
    {
     "name": "stdout",
     "output_type": "stream",
     "text": [
      "Original 1D array:\n",
      "[1 2 3 4 5 6]\n",
      "\n",
      "Reshaped 2D array with automatic inference:\n",
      "[[1 2 3]\n",
      " [4 5 6]]\n"
     ]
    }
   ],
   "source": [
    "# Create a 1D array\n",
    "arr_1d = np.array([1, 2, 3, 4, 5, 6])\n",
    "\n",
    "# Reshape to a 2D array with an inferred number of rows. Python will know by itself how many rows should it use to get 3 columns\n",
    "arr_2d = np.reshape(arr_1d, (-1, 3))\n",
    "\n",
    "print(\"Original 1D array:\")\n",
    "print(arr_1d)\n",
    "\n",
    "print(\"\\nReshaped 2D array with automatic inference:\")\n",
    "print(arr_2d)"
   ]
  },
  {
   "cell_type": "markdown",
   "metadata": {},
   "source": [
    "3. Reshaping into a Column Vector:"
   ]
  },
  {
   "cell_type": "code",
   "execution_count": 208,
   "metadata": {},
   "outputs": [
    {
     "name": "stdout",
     "output_type": "stream",
     "text": [
      "Original 1D array:\n",
      "[1 2 3 4]\n",
      "\n",
      "Reshaped column vector:\n",
      "[[1]\n",
      " [2]\n",
      " [3]\n",
      " [4]]\n"
     ]
    }
   ],
   "source": [
    "# Create a 1D array\n",
    "arr_1d = np.array([1, 2, 3, 4])\n",
    "\n",
    "# Reshape to a column vector\n",
    "column_vector = np.reshape(arr_1d, (-1, 1))\n",
    "\n",
    "print(\"Original 1D array:\")\n",
    "print(arr_1d)\n",
    "\n",
    "print(\"\\nReshaped column vector:\")\n",
    "print(column_vector)"
   ]
  },
  {
   "cell_type": "markdown",
   "metadata": {},
   "source": [
    "4. Reshaping with Multiple Dimensions:"
   ]
  },
  {
   "cell_type": "code",
   "execution_count": 210,
   "metadata": {},
   "outputs": [
    {
     "name": "stdout",
     "output_type": "stream",
     "text": [
      "Original 1D array:\n",
      "[1 2 3 4 5 6]\n",
      "\n",
      "Reshaped 3D array:\n",
      "[[[1 2 3]]\n",
      "\n",
      " [[4 5 6]]]\n"
     ]
    }
   ],
   "source": [
    "# Create a 1D array\n",
    "arr_1d = np.array([1, 2, 3, 4, 5, 6])\n",
    "\n",
    "# Reshape to a 3D array with 2 levels, 1 row, and 3 columns\n",
    "arr_3d = np.reshape(arr_1d, (2, 1, 3))\n",
    "\n",
    "print(\"Original 1D array:\")\n",
    "print(arr_1d)\n",
    "\n",
    "print(\"\\nReshaped 3D array:\")\n",
    "print(arr_3d)"
   ]
  },
  {
   "cell_type": "markdown",
   "metadata": {},
   "source": [
    "**Inserting elements**"
   ]
  },
  {
   "cell_type": "code",
   "execution_count": 213,
   "metadata": {},
   "outputs": [
    {
     "name": "stdout",
     "output_type": "stream",
     "text": [
      "[1 2 3 4 5]\n",
      "[1 2 8 3 4 5]\n",
      "[1 2 1 2 3 8 3 4 5]\n",
      "[[1 2 3]\n",
      " [4 5 6]\n",
      " [7 8 9]]\n",
      "[[ 1  2  3]\n",
      " [20 21 22]\n",
      " [ 4  5  6]\n",
      " [ 7  8  9]]\n",
      "[[ 1 13  2  3]\n",
      " [20 14 21 22]\n",
      " [ 4 15  5  6]\n",
      " [ 7 16  8  9]]\n"
     ]
    }
   ],
   "source": [
    "# 1D array\n",
    "arr1 = np.array([1, 2, 3, 4, 5])\n",
    "\n",
    "print(arr1)\n",
    "\n",
    "# Insert element at index 2 in a 1D array\n",
    "arr1 = np.insert(arr1, 2, 8)\n",
    "\n",
    "print(arr1) # Output: [1 2 8 3 4 5]\n",
    "\n",
    "x = np.array([1, 2, 3])\n",
    "\n",
    "# Insert x array at index 2\n",
    "arr1 = np.insert(arr1, 2, x)\n",
    "\n",
    "print(arr1) # Output: [1 2 1 2 3 8 3 4 5]\n",
    "\n",
    "\n",
    "# 2D array (matrix)\n",
    "arr2 = np.array([[1, 2, 3], [4, 5, 6], [7, 8, 9]])\n",
    "\n",
    "print(arr2)\n",
    "\n",
    "# Insert row at index 1 in a 2D array\n",
    "new_row = np.array([20, 21, 22])\n",
    "\n",
    "# Axis = 0 adds the items vertically\n",
    "arr2 = np.insert(arr2, 1, new_row, axis=0)\n",
    "\n",
    "print(arr2)\n",
    "\n",
    "new_column = np.array([13, 14, 15, 16])\n",
    "\n",
    "# Axis = 1 adds the items horizontally\n",
    "arr2 = np.insert(arr2, 1, new_column, axis=1)\n",
    "\n",
    "print(arr2)\n"
   ]
  },
  {
   "cell_type": "markdown",
   "metadata": {},
   "source": [
    "**Deleting rows/columns**"
   ]
  },
  {
   "cell_type": "code",
   "execution_count": 172,
   "metadata": {},
   "outputs": [
    {
     "name": "stdout",
     "output_type": "stream",
     "text": [
      "[1 2 3 4 5]\n",
      "[1 2 4 5]\n",
      "[1 4]\n",
      "[[ 1  2  3]\n",
      " [ 4  5  6]\n",
      " [ 7  8  9]\n",
      " [10 11 12]]\n",
      "[[ 1  2  3]\n",
      " [ 7  8  9]\n",
      " [10 11 12]]\n",
      "[[7 8 9]]\n",
      "[[ 1  2  3]\n",
      " [ 4  5  6]\n",
      " [ 7  8  9]\n",
      " [10 11 12]]\n",
      "[[ 2]\n",
      " [ 5]\n",
      " [ 8]\n",
      " [11]]\n"
     ]
    }
   ],
   "source": [
    "# 1D array\n",
    "arr1 = np.array([1, 2, 3, 4, 5])\n",
    "\n",
    "print(arr1) # Output: [1 2 3 4 5]\n",
    "\n",
    "# Delete element at index 2 from a 1D array\n",
    "arr1 = np.delete(arr1, 2)\n",
    "\n",
    "print(arr1) # Output: [1 2 4 5]\n",
    "\n",
    "# Indexes to delete\n",
    "indexes_to_delete = [1, 3]\n",
    "\n",
    "# Delete elements at specified indexes\n",
    "arr1 = np.delete(arr1, indexes_to_delete)\n",
    "\n",
    "print(arr1) # Output: [1 4]\n",
    "\n",
    "\n",
    "\n",
    "# 2D array (matrix)\n",
    "arr2 = np.array([[1, 2, 3], [4, 5, 6], [7, 8, 9], [10, 11, 12]])\n",
    "\n",
    "print(arr2)\n",
    "\n",
    "# Delete row at index 1 from a 2D array\n",
    "arr2 = np.delete(arr2, 1, axis=0)\n",
    "\n",
    "print(arr2)\n",
    "\n",
    "# Rows to delete\n",
    "rows_to_delete = [0, 2]\n",
    "\n",
    "arr2 = np.delete(arr2, rows_to_delete, axis=0)\n",
    "\n",
    "print(arr2)\n",
    "\n",
    "\n",
    "arr3 = np.array([[1, 2, 3], [4, 5, 6], [7, 8, 9], [10, 11, 12]])\n",
    "\n",
    "print(arr3)\n",
    "\n",
    "# Delete column at index 0 and 2 from a 2D array\n",
    "arr3 = np.delete(arr3, [0,2], axis=1)\n",
    "\n",
    "print(arr3)\n",
    "\n"
   ]
  },
  {
   "cell_type": "markdown",
   "metadata": {},
   "source": [
    "**Removing specific elements**"
   ]
  },
  {
   "cell_type": "code",
   "execution_count": 235,
   "metadata": {},
   "outputs": [
    {
     "name": "stdout",
     "output_type": "stream",
     "text": [
      "[1 2 3 4 5]\n",
      "[1 2 4 5]\n",
      "[ True False False  True]\n",
      "[1 5]\n"
     ]
    }
   ],
   "source": [
    "# 1D array\n",
    "arr1 = np.array([1, 2, 3, 4, 5])\n",
    "\n",
    "print(arr1)\n",
    "\n",
    "# Remove element with value 3 from a 1D array\n",
    "arr1 = arr1[arr1 != 3]\n",
    "\n",
    "print(arr1)\n",
    "\n",
    "# Identify indices where the values are not 2 or 4\n",
    "indices_to_keep = (arr1 != 2) & (arr1 != 4)\n",
    "\n",
    "print(indices_to_keep)\n",
    "\n",
    "# Remove element with value 2 and 4 from a 1D array\n",
    "arr1 = arr1[indices_to_keep]\n",
    "\n",
    "print(arr1)\n",
    "\n"
   ]
  },
  {
   "cell_type": "code",
   "execution_count": 14,
   "metadata": {},
   "outputs": [
    {
     "name": "stdout",
     "output_type": "stream",
     "text": [
      "[ 2  4  6  8 10]\n",
      "[[ 3  6  9]\n",
      " [12 15 18]\n",
      " [21 24 27]]\n",
      "[1.         1.41421356 1.73205081 2.         2.23606798]\n",
      "[[ 30  36  42]\n",
      " [ 66  81  96]\n",
      " [102 126 150]]\n",
      "[[1 4 7]\n",
      " [2 5 8]\n",
      " [3 6 9]]\n",
      "[1 2 3 4 5 6 7 8 9]\n",
      "[1 2 3 4 5 6 7 8 9]\n",
      "[[1 2 3 4 5]\n",
      " [1 2 3 4 5]]\n",
      "[[1 2 3 1 2 3]\n",
      " [4 5 6 4 5 6]\n",
      " [7 8 9 7 8 9]]\n",
      "[1 2 3 4 5 1 2 3 4 5]\n",
      "[array([1, 2]), array([3]), array([4]), array([5])]\n"
     ]
    }
   ],
   "source": [
    "# 1D array\n",
    "arr1 = np.array([1, 2, 3, 4, 5])\n",
    "\n",
    "# 2D array (matrix)\n",
    "arr2 = np.array([[1, 2, 3], [4, 5, 6], [7, 8, 9]])\n",
    "\n",
    "# Addition\n",
    "result_addition = arr1 + arr1\n",
    "print(result_addition) #Output: [ 2 4 6 8 10]\n",
    "\n",
    "# Multiplication\n",
    "result_multiplication = arr2 * 3\n",
    "print(result_multiplication)\n",
    "\n",
    "#Output:\n",
    "#[[ 3  6  9]\n",
    "# [12 15 18]\n",
    "# [21 24 27]]\n",
    "\n",
    "# Element-wise square root\n",
    "result_sqrt = np.sqrt(arr1)\n",
    "print(result_sqrt) #Output: [1. 1.41421356 1.73205081 2. 2.23606798]\n",
    "\n",
    "# Matrix multiplication (dot product)\n",
    "result_matrix_mul = np.dot(arr2, arr2)\n",
    "print(result_matrix_mul)\n",
    "\n",
    "#Output:\n",
    "#[[ 30  36  42]\n",
    "# [ 66  81  96]\n",
    "# [102 126 150]]\n",
    "\n",
    "# Transpose of the matrix\n",
    "transposed_matrix = arr2.T\n",
    "print(transposed_matrix)\n",
    "\n",
    "#Output:\n",
    "#[[1 4 7]\n",
    "# [2 5 8]\n",
    "# [3 6 9]]\n",
    "\n",
    "# Flatten array\n",
    "flattened_array = arr2.flatten()  # Flatten to a 1D array\n",
    "print(flattened_array) #Output: [1 2 3 4 5 6 7 8 9]\n",
    "\n",
    "ravel = arr2.ravel()\n",
    "print(ravel) #Output: [1 2 3 4 5 6 7 8 9]\n",
    "\n",
    "# Vertically stack two arrays\n",
    "stacked_vertically = np.vstack((arr1, arr1))\n",
    "print(stacked_vertically)\n",
    "\n",
    "#Output:\n",
    "#[[1 2 3 4 5]\n",
    "# [1 2 3 4 5]]\n",
    "\n",
    "# Horizontally stack two arrays\n",
    "stacked_horizontally = np.hstack((arr2, arr2))\n",
    "print(stacked_horizontally)\n",
    "\n",
    "#Output:\n",
    "#[[1 2 3 1 2 3]\n",
    "# [4 5 6 4 5 6]\n",
    "# [7 8 9 7 8 9]]\n",
    "\n",
    "# Concatenation\n",
    "concatenated_array = np.concatenate((arr1, arr1))\n",
    "print(concatenated_array) #Output: [1 2 3 4 5 1 2 3 4 5]\n",
    "\n",
    "# Splitting\n",
    "split_arrays = np.split(arr1, [2, 3, 4])  # Split into four arrays at indices 2, 3 and 4\n",
    "print(split_arrays) #Output: [array([1, 2]), array([3]), array([4]), array([5])]"
   ]
  },
  {
   "cell_type": "markdown",
   "metadata": {},
   "source": [
    "Iterating over arrays:"
   ]
  },
  {
   "cell_type": "code",
   "execution_count": 247,
   "metadata": {},
   "outputs": [
    {
     "name": "stdout",
     "output_type": "stream",
     "text": [
      "1\n",
      "2\n",
      "3\n",
      "4\n",
      "5\n",
      "[1 2 3]\n",
      "[4 5 6]\n",
      "[7 8 9]\n",
      "1\n",
      "2\n",
      "3\n",
      "4\n",
      "5\n",
      "6\n",
      "7\n",
      "8\n",
      "9\n"
     ]
    }
   ],
   "source": [
    "# 1D array\n",
    "arr1 = np.array([1, 2, 3, 4, 5])\n",
    "\n",
    "# 2D array (matrix)\n",
    "arr2 = np.array([[1, 2, 3], [4, 5, 6], [7, 8, 9]])\n",
    "\n",
    "# Iterating over elements\n",
    "for element in arr1:\n",
    "    print(element)\n",
    "\n",
    "# Iterating over rows (for 2D array)\n",
    "for row in arr2:\n",
    "    print(row)\n",
    "\n",
    "# Iterating over elements using nditer\n",
    "for element in np.nditer(arr2):\n",
    "    print(element)"
   ]
  },
  {
   "cell_type": "markdown",
   "metadata": {},
   "source": [
    "Basic mathematical functions:"
   ]
  },
  {
   "cell_type": "code",
   "execution_count": 255,
   "metadata": {},
   "outputs": [
    {
     "name": "stdout",
     "output_type": "stream",
     "text": [
      "45\n",
      "1\n",
      "9\n",
      "[[1.         1.41421356 1.73205081]\n",
      " [2.         2.23606798 2.44948974]\n",
      " [2.64575131 2.82842712 3.        ]]\n"
     ]
    }
   ],
   "source": [
    "# 1D array\n",
    "arr1 = np.array([1, 2, 3, 4, 5])\n",
    "\n",
    "# 2D array (matrix)\n",
    "arr2 = np.array([[1, 2, 3], [4, 5, 6], [7, 8, 9]])\n",
    "\n",
    "print(np.sum(arr2))\n",
    "print(np.min(arr2))\n",
    "print(np.max(arr2))\n",
    "print(np.sqrt(arr2))"
   ]
  }
 ],
 "metadata": {
  "kernelspec": {
   "display_name": "Python 3",
   "language": "python",
   "name": "python3"
  },
  "language_info": {
   "codemirror_mode": {
    "name": "ipython",
    "version": 3
   },
   "file_extension": ".py",
   "mimetype": "text/x-python",
   "name": "python",
   "nbconvert_exporter": "python",
   "pygments_lexer": "ipython3",
   "version": "3.11.5"
  }
 },
 "nbformat": 4,
 "nbformat_minor": 2
}
