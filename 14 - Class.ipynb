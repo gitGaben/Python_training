{
 "cells": [
  {
   "cell_type": "markdown",
   "metadata": {},
   "source": [
    "# Class"
   ]
  },
  {
   "cell_type": "markdown",
   "metadata": {},
   "source": [
    "What is a class good for? Primarily, for creating instances that have the same type of characteristics and are subject to the same rules. For example, both a string and an integer are classes, each with its own functions. While we can easily concatenate strings, the same operation is not applicable to numbers."
   ]
  },
  {
   "cell_type": "markdown",
   "metadata": {},
   "source": [
    "In Python, a class is defined using the class keyword. It serves as a blueprint for creating objects (instances). Here's a simple example of a class definition:"
   ]
  },
  {
   "cell_type": "code",
   "execution_count": null,
   "metadata": {},
   "outputs": [],
   "source": [
    "class MyClass:\n",
    "    pass  # Placeholder for the class body"
   ]
  },
  {
   "cell_type": "markdown",
   "metadata": {},
   "source": [
    "**Object**\n",
    "\n",
    "An object, also known as an instance, is a specific realization of a class. You create an object by calling the class as if it were a function:"
   ]
  },
  {
   "cell_type": "code",
   "execution_count": null,
   "metadata": {},
   "outputs": [],
   "source": [
    "obj = MyClass()  # Creating an instance of MyClass"
   ]
  },
  {
   "cell_type": "markdown",
   "metadata": {},
   "source": [
    "**Attributes**\n",
    "\n",
    "Attributes are variables that store data within a class or instance. They represent the characteristics or properties of the objects. Attributes can be either class-level (shared among all instances) or instance-level (unique to each instance)."
   ]
  },
  {
   "cell_type": "code",
   "execution_count": null,
   "metadata": {},
   "outputs": [],
   "source": [
    "class Person:\n",
    "    # Class-level attribute\n",
    "    species = \"Homo sapiens\"\n",
    "\n",
    "    def __init__(self, name, age):\n",
    "        # Instance-level attributes\n",
    "        self.name = name\n",
    "        self.age = age"
   ]
  },
  {
   "cell_type": "markdown",
   "metadata": {},
   "source": [
    "**Methods**\n",
    "\n",
    "Methods are functions defined within a class. They encapsulate behavior associated with the class. Methods can be either class methods, instance methods, or static methods."
   ]
  },
  {
   "cell_type": "code",
   "execution_count": 12,
   "metadata": {},
   "outputs": [
    {
     "name": "stdout",
     "output_type": "stream",
     "text": [
      "10\n",
      "{}\n",
      "7\n",
      "2\n",
      "{}\n"
     ]
    }
   ],
   "source": [
    "class Calculator:\n",
    "    \n",
    "    random_amount = 1.1\n",
    "\n",
    "    # Instance method\n",
    "    def add(self, x, y):\n",
    "        return x + y\n",
    "\n",
    "    @staticmethod\n",
    "    def multiply(x, y):\n",
    "        return x * y\n",
    "\n",
    "    @classmethod\n",
    "    def change_random_amount(cls, x):\n",
    "        cls.random_amount = x\n",
    "    \n",
    "    @classmethod\n",
    "    def asd(cls):\n",
    "        return cls()\n",
    "    \n",
    "# I can use this staticmethod without an existing instance\n",
    "print(Calculator.multiply(2,5)) # Output: 10\n",
    "\n",
    "\n",
    "instance_2 = Calculator()\n",
    "\n",
    "print(instance_2.__dict__)\n",
    "\n",
    "\n",
    "# I need an instance I can use this function on\n",
    "print(instance_2.add(2,5)) # Output: 7\n",
    "\n",
    "Calculator.change_random_amount(2)\n",
    "\n",
    "print(Calculator.random_amount) # Output: 2\n",
    "\n",
    "\n",
    "test = Calculator.asd()\n",
    "\n",
    "print(test.__dict__)\n"
   ]
  },
  {
   "cell_type": "markdown",
   "metadata": {},
   "source": [
    "Instance Methods: These methods take the instance itself as the first parameter (self) and can access and modify instance attributes.\n",
    "\n",
    "Static Methods: These methods are defined using the @staticmethod decorator and don't have access to instance-specific or class-specific data. They are usually used for utility functions.\n",
    "\n",
    "Class Methods: These methods are defined using the @classmethod decorator and take the class itself as the first parameter (cls). They can be used for operations that involve the class."
   ]
  },
  {
   "cell_type": "markdown",
   "metadata": {},
   "source": [
    "Now I'm creating a dog class where I will place dog objects. In this class, there will be things specifically characteristic of dogs, i.e., things I can assign to dogs:"
   ]
  },
  {
   "cell_type": "code",
   "execution_count": 13,
   "metadata": {},
   "outputs": [
    {
     "name": "stdout",
     "output_type": "stream",
     "text": [
      "<class '__main__.Dog'>\n",
      "Bark\n",
      "6\n"
     ]
    }
   ],
   "source": [
    "class Dog:\n",
    "    # I can call this function on an existing instance.\n",
    "    def bark(self):\n",
    "        print(\"Bark\")\n",
    "\n",
    "    # I can call this function on an existing instance.\n",
    "    def add_one(self, x):\n",
    "        return x + 1\n",
    "\n",
    "d = Dog() # d will be a Dog class instance\n",
    "\n",
    "print(type(d)) # Output: <class '__main__.Dog'>\n",
    "\n",
    "# Since the defined functions are static methods, I can use them with the existing instance (d)\n",
    "\n",
    "d.bark() # Output: Bark\n",
    "\n",
    "print(d.add_one(5)) # Output: 6"
   ]
  },
  {
   "cell_type": "markdown",
   "metadata": {},
   "source": [
    "The \\_\\_init__ method is a special method (constructor) called when an object is created. It initializes instance-level attributes.\n",
    "\n",
    "When we create an instance and write something in the parentheses, it will always go through the init function.\n",
    "\n",
    "In Python, the self parameter in a class is a convention that refers to the instance of the class. When you call a method on an instance of a class, the instance itself is passed as the first argument to the method, and by convention, it's named self. "
   ]
  },
  {
   "cell_type": "code",
   "execution_count": 22,
   "metadata": {},
   "outputs": [
    {
     "name": "stdout",
     "output_type": "stream",
     "text": [
      "Tim\n",
      "Kutya\n"
     ]
    }
   ],
   "source": [
    "class Dog:\n",
    "    def __init__(self, name):\n",
    "        self.name = name\n",
    "\n",
    "    def bark(self):\n",
    "        print(\"Bark\")\n",
    "\n",
    "    def add_one(self, x):\n",
    "        return x + 1\n",
    "\n",
    "d2 = Dog(\"Tim\")\n",
    "\n",
    "print(d2.name) # Output: Tim\n",
    "\n",
    "d3 = Dog(\"Kutya\")\n",
    "\n",
    "print(d3.name) # Output: Kutya"
   ]
  },
  {
   "cell_type": "markdown",
   "metadata": {},
   "source": [
    "It is better to keep the argument and self.attribute name the same, but it is not necessary."
   ]
  },
  {
   "cell_type": "code",
   "execution_count": 23,
   "metadata": {},
   "outputs": [
    {
     "name": "stdout",
     "output_type": "stream",
     "text": [
      "Tim\n",
      "Kutya\n"
     ]
    }
   ],
   "source": [
    "class Dog:\n",
    "    def __init__(self, name):\n",
    "        self.asd = name\n",
    "\n",
    "    def bark(self):\n",
    "        print(\"Bark\")\n",
    "\n",
    "    def add_one(self, x):\n",
    "        return x + 1\n",
    "\n",
    "d2 = Dog(\"Tim\")\n",
    "\n",
    "print(d2.asd) # Output: Tim\n",
    "\n",
    "d3 = Dog(\"Kutya\")\n",
    "\n",
    "print(d3.asd) # Output: Kutya"
   ]
  },
  {
   "cell_type": "code",
   "execution_count": 29,
   "metadata": {},
   "outputs": [
    {
     "name": "stdout",
     "output_type": "stream",
     "text": [
      "<__main__.Employee object at 0x10d3b7210>\n",
      "Corey\n",
      "Schafer\n",
      "Corey.Schafer@company.com\n",
      "50000\n",
      "<__main__.Employee object at 0x10d3b6e50>\n",
      "Test\n",
      "User\n",
      "Test.User@company.com\n",
      "60000\n"
     ]
    }
   ],
   "source": [
    "class Employee:\n",
    "    pass\n",
    "\n",
    "emp_1 = Employee()\n",
    "emp_2 = Employee()\n",
    "\n",
    "emp_1.first = 'Corey'\n",
    "emp_1.last = 'Schafer'\n",
    "emp_1.email = 'Corey.Schafer@company.com'\n",
    "emp_1.pay = 50000\n",
    "\n",
    "emp_2. first = 'Test'\n",
    "emp_2. last = 'User'\n",
    "emp_2.email = 'Test.User@company.com'\n",
    "emp_2.pay = 60000\n",
    "\n",
    "print(emp_1) # Output: <__main__.Employee object at 0x10d3b7210>\n",
    "print(emp_1.first) # Output: Corey\n",
    "print(emp_1.last) # Output: Schafer\n",
    "print(emp_1.email) # Output: Corey.Schafer@company.com\n",
    "print(emp_1.pay) # Output: 50000\n",
    "\n",
    "print(emp_2) # Output: <__main__.Employee object at 0x10d3b6e50>\n",
    "print(emp_2.first) # Output: Test\n",
    "print(emp_2.last) # Output: User\n",
    "print(emp_2.email) # Output: Test.User@company.com\n",
    "print(emp_2.pay) # Output: 60000"
   ]
  },
  {
   "cell_type": "code",
   "execution_count": 2,
   "metadata": {},
   "outputs": [
    {
     "name": "stdout",
     "output_type": "stream",
     "text": [
      "<__main__.Employee object at 0x106fba250>\n",
      "Corey\n",
      "Schafer\n",
      "Corey.Schafer@company.com\n",
      "50000\n",
      "Corey Schafer\n",
      "Corey Schafer\n"
     ]
    }
   ],
   "source": [
    "class Employee:\n",
    "    def __init__(self, first, last, pay):\n",
    "        self.first = first\n",
    "        self.last = last\n",
    "        self.pay = pay\n",
    "        self.email = f'{first}.{last}@company.com'\n",
    "\n",
    "    def fullname(self):\n",
    "        # return f'{self.first} {self.last}'\n",
    "        return '{} {}'.format(self.first, self.last)\n",
    "\n",
    "emp_1 = Employee('Corey', 'Schafer', 50000)\n",
    "\n",
    "print(emp_1) # Output: <__main__.Employee object at 0x10d3b7210>\n",
    "print(emp_1.first) # Output: Corey\n",
    "print(emp_1.last) # Output: Schafer\n",
    "print(emp_1.email) # Output: Corey.Schafer@company.com\n",
    "print(emp_1.pay) # Output: 50000\n",
    "\n",
    "print(emp_1.fullname()) # Output: Corey Schafer\n",
    "print(Employee.fullname(emp_1)) # Output: Corey Schafer\n"
   ]
  },
  {
   "cell_type": "code",
   "execution_count": 47,
   "metadata": {},
   "outputs": [
    {
     "name": "stdout",
     "output_type": "stream",
     "text": [
      "Tim\n",
      "2\n",
      "Kutya\n",
      "3\n",
      "23\n"
     ]
    }
   ],
   "source": [
    "class Dog:\n",
    "    def __init__(self, name, age):\n",
    "        self.name = name\n",
    "        self.age = age\n",
    "\n",
    "    def set_age(self, age_new):\n",
    "        self.age = age_new\n",
    "\n",
    "    def bark(self):\n",
    "        print(\"Bark\")\n",
    "\n",
    "    def add_one(self, x):\n",
    "        return x + 1\n",
    "\n",
    "d2 = Dog(\"Tim\", 2)\n",
    "\n",
    "print(d2.name) # Output: Tim\n",
    "\n",
    "print(d2.age) # Output: 2\n",
    "\n",
    "\n",
    "d3 = Dog(\"Kutya\", 3)\n",
    "\n",
    "print(d3.name) # Output: Kutya\n",
    "\n",
    "print(d3.age) # Output: 3\n",
    "\n",
    "d3.set_age(23)\n",
    "\n",
    "print(d3.age) # Output: 23"
   ]
  },
  {
   "cell_type": "markdown",
   "metadata": {},
   "source": [
    "Class variables: Variables that shared among all the instances of a class.\n",
    "\n",
    "Instance variables can be unique, like names or emails, class variables should be the same for each instance."
   ]
  },
  {
   "cell_type": "code",
   "execution_count": 5,
   "metadata": {},
   "outputs": [
    {
     "name": "stdout",
     "output_type": "stream",
     "text": [
      "{'__module__': '__main__', 'raise_amount': 1.04, 'num_of_emps': 0, '__init__': <function Employee.__init__ at 0x1072d23e0>, 'fullname': <function Employee.fullname at 0x1072d2840>, 'apply_raise': <function Employee.apply_raise at 0x1072d28e0>, '__dict__': <attribute '__dict__' of 'Employee' objects>, '__weakref__': <attribute '__weakref__' of 'Employee' objects>, '__doc__': None}\n",
      "{'first': 'Corey', 'last': 'Schafer', 'pay': 50000, 'email': 'Corey.Schafer@company.com'}\n",
      "{'first': 'Test', 'last': 'User', 'pay': 60000, 'email': 'Test.User@company.com'}\n",
      "1.05\n",
      "1.05\n",
      "1.05\n",
      "1.05\n",
      "1.09\n",
      "1.05\n",
      "{'first': 'Corey', 'last': 'Schafer', 'pay': 50000, 'email': 'Corey.Schafer@company.com', 'raise_amount': 1.09}\n",
      "{'first': 'Test', 'last': 'User', 'pay': 60000, 'email': 'Test.User@company.com'}\n",
      "54500\n",
      "60000\n",
      "2\n"
     ]
    }
   ],
   "source": [
    "class Employee:\n",
    "\n",
    "    raise_amount = 1.04\n",
    "    num_of_emps = 0\n",
    "\n",
    "    def __init__(self, first, last, pay):\n",
    "        self.first = first\n",
    "        self.last = last\n",
    "        self.pay = pay\n",
    "        self.email = f'{first}.{last}@company.com'\n",
    "\n",
    "        Employee.num_of_emps += 1\n",
    "\n",
    "    def fullname(self):\n",
    "        return '{} {}'.format(self.first, self.last)\n",
    "    \n",
    "    def apply_raise(self):\n",
    "        self.pay = int(self.pay * self.raise_amount) \n",
    "        # I could use Employee.raise_amount as well, but then I couldn't differentiate between instances\n",
    "\n",
    "\n",
    "print(Employee.__dict__)\n",
    "\n",
    "emp_1 = Employee('Corey', 'Schafer', 50000)\n",
    "\n",
    "emp_2 = Employee('Test', 'User', 60000)\n",
    "\n",
    "print(emp_1.__dict__) # Output: {'first': 'Corey', 'last': 'Schafer', 'pay': 50000, 'email': 'Corey.Schafer@company.com'}\n",
    "print(emp_2.__dict__) # Output: {'first': 'Test', 'last': 'User', 'pay': 60000, 'email': 'Test.User@company.com'}\n",
    "\n",
    "Employee.raise_amount = 1.05\n",
    "\n",
    "print(Employee.raise_amount) # Output: 1.05\n",
    "print(emp_1.raise_amount) # Output: 1.05\n",
    "print(emp_2.raise_amount) # Output: 1.05\n",
    "\n",
    "emp_1.raise_amount = 1.09\n",
    "\n",
    "print(Employee.raise_amount) # Output: 1.05\n",
    "print(emp_1.raise_amount) # Output: 1.09\n",
    "print(emp_2.raise_amount) # Output: 1.05\n",
    "\n",
    "print(emp_1.__dict__) # Output: {'first': 'Corey', 'last': 'Schafer', 'pay': 50000, 'email': 'Corey.Schafer@company.com', 'raise_amount': 1.09}\n",
    "print(emp_2.__dict__) # Output: {'first': 'Test', 'last': 'User', 'pay': 60000, 'email': 'Test.User@company.com'}\n",
    "\n",
    "emp_1.apply_raise() # If I would have left the Employee.raise_amount in the class, then it would have raised it with 1.05 instead of 1.09\n",
    "print(emp_1.pay) # Output: 54500 (50000*1.09)\n",
    "print(emp_2.pay) # Output: 60000\n",
    "\n",
    "print(Employee.num_of_emps) # Output: 2\n"
   ]
  },
  {
   "cell_type": "code",
   "execution_count": 13,
   "metadata": {},
   "outputs": [
    {
     "name": "stdout",
     "output_type": "stream",
     "text": [
      "1.1\n",
      "1.1\n",
      "1.1\n",
      "1.05\n",
      "1.05\n",
      "1.05\n",
      "John.Doe@company.com\n",
      "70000\n",
      "Steve\n",
      "False\n"
     ]
    }
   ],
   "source": [
    "class Employee:\n",
    "\n",
    "    raise_amount = 1.04\n",
    "    num_of_emps = 0\n",
    "\n",
    "    def __init__(self, first, last, pay):\n",
    "        self.first = first\n",
    "        self.last = last\n",
    "        self.pay = pay\n",
    "        self.email = f'{first}.{last}@company.com'\n",
    "\n",
    "        Employee.num_of_emps += 1\n",
    "\n",
    "    def fullname(self):\n",
    "        return '{} {}'.format(self.first, self.last)\n",
    "        \n",
    "    def apply_raise(self):\n",
    "        self.pay = int(self.pay * self.raise_amount) \n",
    "        # I could use Employee.raise_amount as well, but then I couldn't differentiate between instances\n",
    "\n",
    "    @classmethod\n",
    "    def set_raise_amt(cls, amount):\n",
    "        cls.raise_amount = amount\n",
    "\n",
    "    @classmethod\n",
    "    def from_string(cls, emp_str):\n",
    "        first, last, pay = emp_str.split('-')\n",
    "        return cls(first, last, pay)\n",
    "    \n",
    "    @staticmethod\n",
    "    def is_workday(day):\n",
    "        if day.weekday() == 5 or day.weekday() == 6:\n",
    "            return False\n",
    "        else:\n",
    "            return True\n",
    "\n",
    "\n",
    "\n",
    "emp_1 = Employee('Corey', 'Schafer', 50000)\n",
    "emp_2 = Employee('Test', 'User', 60000)\n",
    "\n",
    "Employee.raise_amount = 1.1\n",
    "\n",
    "print(Employee.raise_amount) # Output: 1.1\n",
    "print(emp_1.raise_amount) # Output: 1.1\n",
    "print(emp_2.raise_amount) # Output: 1.1\n",
    "\n",
    "Employee.set_raise_amt(1.05)\n",
    "\n",
    "print(Employee.raise_amount) # Output: 1.05\n",
    "print(emp_1.raise_amount) # Output: 1.05\n",
    "print(emp_2.raise_amount) # Output: 1.05\n",
    "\n",
    "\n",
    "emp_str_1 = 'John-Doe-70000'\n",
    "emp_str_2 = 'Steve-Smith-30000'\n",
    "emp_str_3 = 'Jane-Doe-90000'\n",
    "\n",
    "first, last, pay = emp_str_1.split('-')\n",
    "new_emp_1 = Employee (first, last, pay)\n",
    "\n",
    "print(new_emp_1.email) # Output: John.Doe@company.com\n",
    "print(new_emp_1.pay) # Output: 70000\n",
    "\n",
    "new_emp_2 = Employee.from_string(emp_str_2)\n",
    "\n",
    "print(new_emp_2.first) # Output: Steve\n",
    "\n",
    "import datetime\n",
    "\n",
    "my_date = datetime.date(2016,7,10)\n",
    "\n",
    "print(Employee.is_workday(my_date)) # Output: False"
   ]
  },
  {
   "cell_type": "markdown",
   "metadata": {},
   "source": [
    "We include the staticmethods in the class, because it has some logical connection to that class."
   ]
  },
  {
   "cell_type": "code",
   "execution_count": 115,
   "metadata": {},
   "outputs": [
    {
     "name": "stdout",
     "output_type": "stream",
     "text": [
      "Help on class Developer in module __main__:\n",
      "\n",
      "class Developer(Employee)\n",
      " |  Developer(first, last, pay, prog_lang)\n",
      " |  \n",
      " |  Method resolution order:\n",
      " |      Developer\n",
      " |      Employee\n",
      " |      builtins.object\n",
      " |  \n",
      " |  Methods defined here:\n",
      " |  \n",
      " |  __init__(self, first, last, pay, prog_lang)\n",
      " |      Initialize self.  See help(type(self)) for accurate signature.\n",
      " |  \n",
      " |  ----------------------------------------------------------------------\n",
      " |  Data and other attributes defined here:\n",
      " |  \n",
      " |  raise_amount = 1.1\n",
      " |  \n",
      " |  ----------------------------------------------------------------------\n",
      " |  Methods inherited from Employee:\n",
      " |  \n",
      " |  apply_raise(self)\n",
      " |  \n",
      " |  fullname(self)\n",
      " |  \n",
      " |  ----------------------------------------------------------------------\n",
      " |  Data descriptors inherited from Employee:\n",
      " |  \n",
      " |  __dict__\n",
      " |      dictionary for instance variables (if defined)\n",
      " |  \n",
      " |  __weakref__\n",
      " |      list of weak references to the object (if defined)\n",
      " |  \n",
      " |  ----------------------------------------------------------------------\n",
      " |  Data and other attributes inherited from Employee:\n",
      " |  \n",
      " |  num_of_emps = 0\n",
      "\n",
      "None\n",
      "Corey.Schafer@company.com\n",
      "Teszt.Elek@company.com\n",
      "50000\n",
      "55000\n",
      "50000\n",
      "52000\n",
      "Python\n",
      "Sue.Smith@company.com\n",
      "--> Corey Schafer\n",
      "--> Corey Schafer\n",
      "--> Test User\n",
      "--> Test User\n",
      "True\n",
      "True\n",
      "False\n",
      "True\n",
      "True\n",
      "False\n"
     ]
    }
   ],
   "source": [
    "class Employee:\n",
    "\n",
    "    raise_amount = 1.04\n",
    "    num_of_emps = 0\n",
    "\n",
    "    def __init__(self, first, last, pay):\n",
    "        self.first = first\n",
    "        self.last = last\n",
    "        self.pay = pay\n",
    "        self.email = f'{first}.{last}@company.com'\n",
    "\n",
    "        Employee.num_of_emps += 1\n",
    "\n",
    "    def fullname(self):\n",
    "        return '{} {}'.format(self.first, self.last)\n",
    "        \n",
    "    def apply_raise(self):\n",
    "        self.pay = int(self.pay * self.raise_amount) \n",
    "        # I could use Employee.raise_amount as well, but then I couldn't differentiate between instances\n",
    "        \n",
    "\n",
    "class Developer(Employee):\n",
    "    raise_amount = 1.10\n",
    "\n",
    "    def __init__(self, first, last, pay, prog_lang):\n",
    "        super().__init__(first, last, pay)\n",
    "        self.prog_lang = prog_lang\n",
    "\n",
    "\n",
    "class Manager(Employee):\n",
    "    \n",
    "    def __init__(self, first, last, pay, employees = None):\n",
    "        super().__init__(first, last, pay)\n",
    "        if employees == None:\n",
    "            self.employees = []\n",
    "        else:\n",
    "            self.employees = employees\n",
    "\n",
    "    def add_employee(self, emp):\n",
    "        if emp not in self.employees:\n",
    "            self.employees.append(emp)\n",
    "\n",
    "    def remove_employee(self, emp):\n",
    "        if emp in self.employees:\n",
    "            self.employees.remove(emp)\n",
    "\n",
    "    def print_employees(self):\n",
    "        for emp in self.employees:\n",
    "            print('-->', emp.fullname())\n",
    "\n",
    "print(help(Developer))\n",
    "\n",
    "dev_1 = Developer('Corey', 'Schafer', 50000, 'Python')\n",
    "dev_2 = Developer('Test', 'User', 60000, 'Java')\n",
    "emp_2 = Employee('Teszt', 'Elek', 50000)\n",
    "\n",
    "\n",
    "print(dev_1.email) # Output: Corey.Schafer@company.com\n",
    "print(emp_2.email) # Output: Test.User@company.com\n",
    "\n",
    "print(dev_1.pay)\n",
    "dev_1.apply_raise()\n",
    "print(dev_1.pay) # Output: 55000 - it got the 1.1 from the Developer class.\n",
    "\n",
    "print(emp_2.pay)\n",
    "emp_2.apply_raise()\n",
    "print(emp_2.pay) # Output: 52000 - it got the 1.04 from the Employee class.\n",
    "\n",
    "print(dev_1.prog_lang) # Output: Python\n",
    "\n",
    "\n",
    "mgr_1 = Manager('Sue', 'Smith', 90000, [dev_1])\n",
    "\n",
    "print(mgr_1.email) # Output: Sue.Smith@company.com\n",
    "\n",
    "mgr_1.print_employees() # Output: --> Corey Schafer\n",
    "\n",
    "mgr_1.add_employee(dev_2)\n",
    "\n",
    "mgr_1.print_employees() # Output: --> Corey Schafer\n",
    "                                # --> Test User\n",
    "\n",
    "mgr_1.remove_employee(dev_1)\n",
    "\n",
    "mgr_1.print_employees() # Output: --> Test User\n",
    "\n",
    "print(isinstance(mgr_1, Manager)) # Output: True\n",
    "print(isinstance(mgr_1, Employee)) # Output: True\n",
    "print(isinstance(mgr_1, Developer)) # Output: False\n",
    "\n",
    "print(issubclass(Developer, Employee)) # Output: True\n",
    "print(issubclass(Manager, Employee)) # Output: True\n",
    "print(issubclass(Manager, Developer)) # Output: False"
   ]
  },
  {
   "cell_type": "markdown",
   "metadata": {},
   "source": [
    "When we run the sub class, first it will run the \\_\\_init__ in the subclass, then it will run the \\_\\_init__ in the original class. If it doesn't find it in the original class, then it will get it from the builtin.object class.\n",
    "\n",
    "With the isinstance() command we can check if an object is an instance of a class or not.\n",
    "\n",
    "With the issubclass() command we can check if a class is a subclass of another."
   ]
  },
  {
   "cell_type": "code",
   "execution_count": 132,
   "metadata": {},
   "outputs": [
    {
     "name": "stdout",
     "output_type": "stream",
     "text": [
      "3\n",
      "ab\n",
      "Corey Schafer - Corey.Schafer@company.com\n",
      "Employee ('Corey', 'Schafer', 50000)\n",
      "Corey Schafer - Corey.Schafer@company.com\n",
      "3\n",
      "3\n",
      "ab\n",
      "110000\n",
      "4\n",
      "4\n"
     ]
    }
   ],
   "source": [
    "class Employee:\n",
    "\n",
    "    raise_amount = 1.04\n",
    "    num_of_emps = 0\n",
    "\n",
    "    def __init__(self, first, last, pay):\n",
    "        self.first = first\n",
    "        self.last = last\n",
    "        self.pay = pay\n",
    "        self.email = f'{first}.{last}@company.com'\n",
    "\n",
    "        Employee.num_of_emps += 1\n",
    "\n",
    "    def fullname(self):\n",
    "        return '{} {}'.format(self.first, self.last)\n",
    "        \n",
    "    def apply_raise(self):\n",
    "        self.pay = int(self.pay * self.raise_amount) \n",
    "        # I could use Employee.raise_amount as well, but then I couldn't differentiate between instances\n",
    "\n",
    "    def __repr__(self):\n",
    "        return \"Employee ('{}', '{}', {})\".format(self.first, self.last, self.pay)\n",
    "    \n",
    "    def __str__(self):\n",
    "        return '{} - {}'.format(self.fullname(), self.email)\n",
    "    \n",
    "    def __add__(self, other):\n",
    "        return self.pay + other.pay\n",
    "\n",
    "\n",
    "emp_1 = Employee('Corey', 'Schafer', 50000)\n",
    "emp_2 = Employee('Test', 'User', 60000)\n",
    "\n",
    "# Depending on what object we are working with the addition has different behaviour:\n",
    "\n",
    "print(1 + 2) # Output: 3\n",
    "print('a'+'b') # Output: ab\n",
    "\n",
    "print(emp_1) # Output: <__main__.Employee object at 0x10d4ce310>\n",
    "# After implementing the repr dunder, the output: Employee ('Corey', 'Schafer', 50000)\n",
    "# After implementing the str dunder, the output: Corey Schafer - Corey.Schafer@company.com\n",
    "\n",
    "# With the special methods we can write out something a littlebit more user friendly.\n",
    "# By defining our own special methods we will be able to change the built-in behaviour of some operations.\n",
    "\n",
    "# __x__ : dunder x\n",
    "\n",
    "print(repr(emp_1)) # Representation for the object, which we use for debugging.\n",
    "print(str(emp_1)) # Readable representation of an object.\n",
    "\n",
    "# If we have repr without str, then calling str will use repr by default. \n",
    "\n",
    "# These 2 methods change how our objects are printed and displayed.\n",
    "\n",
    "\n",
    "print(1+2) # Output: 3\n",
    "print(int.__add__(1,2)) # Output: 3\n",
    "print(str.__add__('a','b')) # Output: ab\n",
    "\n",
    "# I have changed the add operation for our class, it will only add the salaries together:\n",
    "\n",
    "print(emp_1 + emp_2) # Output: 110000\n",
    "\n",
    "print(len('test')) # Output: 4\n",
    "\n",
    "print('test'.__len__()) # Output: 4\n"
   ]
  },
  {
   "cell_type": "markdown",
   "metadata": {},
   "source": [
    "@property decorator\n",
    "\n",
    "We are defining our email function as a method, but we are able to access it like an attribute."
   ]
  },
  {
   "cell_type": "code",
   "execution_count": 148,
   "metadata": {},
   "outputs": [
    {
     "name": "stdout",
     "output_type": "stream",
     "text": [
      "Jim\n",
      "John.Smith@company.com\n",
      "Jim.Smith@email.com\n",
      "Jim Smith\n"
     ]
    }
   ],
   "source": [
    "class Employee:\n",
    "\n",
    "    def __init__(self, first, last):\n",
    "        self.first = first\n",
    "        self.last = last\n",
    "        self.email = f'{first}.{last}@company.com'\n",
    "\n",
    "    def fullname(self):\n",
    "        return '{} {}'.format(self.first, self.last)\n",
    "    \n",
    "    def emailing(self):\n",
    "        return '{}.{}@email.com'.format(self.first, self.last)\n",
    "    \n",
    "emp_1 = Employee('John', 'Smith')\n",
    "\n",
    "emp_1.first = 'Jim'\n",
    "\n",
    "print(emp_1.first) # Output: Jim\n",
    "print(emp_1.email) # Output: John.Smith@company.com\n",
    "print(emp_1.emailing()) # Output: Jim.Smith@email.com\n",
    "print(emp_1.fullname()) # Output: Jim Smith"
   ]
  },
  {
   "cell_type": "code",
   "execution_count": 35,
   "metadata": {},
   "outputs": [
    {
     "name": "stdout",
     "output_type": "stream",
     "text": [
      "Jim\n",
      "Jim.Smith@email.com\n",
      "Jim Smith\n",
      "Kriston\n",
      "Kriston.Gabor@email.com\n",
      "Kriston Gabor\n",
      "Delete name: Kriston Gabor\n",
      "{'first': None, 'last': None}\n"
     ]
    }
   ],
   "source": [
    "class Employee:\n",
    "\n",
    "    def __init__(self, first, last):\n",
    "        self.first = first\n",
    "        self.last = last\n",
    "\n",
    "    @property\n",
    "    def fullname(self):\n",
    "        return '{} {}'.format(self.first, self.last)\n",
    "    \n",
    "    @property\n",
    "    def email(self):\n",
    "        return '{}.{}@email.com'.format(self.first, self.last)\n",
    "    \n",
    "    @fullname.setter\n",
    "    def fullname(self, name):\n",
    "        first, last = name.split(' ')\n",
    "        self.first = first\n",
    "        self.last = last\n",
    "\n",
    "    @fullname.deleter\n",
    "    def fullname(self):\n",
    "        print(f'Delete name: {self.fullname}')\n",
    "        self.first = None\n",
    "        self.last = None\n",
    "\n",
    "\n",
    "emp_1 = Employee('John', 'Smith')\n",
    "\n",
    "emp_1.first = 'Jim'\n",
    "\n",
    "print(emp_1.first) # Output: Jim\n",
    "print(emp_1.email) # Output: Jim.Smith@email.com\n",
    "print(emp_1.fullname) # Output: Jim Smith\n",
    "\n",
    "\n",
    "# With the fullname.setter method, we can modify the first and last name of an existing employee, by providing the fullname attribute.\n",
    "\n",
    "emp_1.fullname = 'Kriston Gabor'\n",
    "\n",
    "print(emp_1.first) # Output: Kriston\n",
    "print(emp_1.email) # Output: Kriston.Gabor@email.com\n",
    "print(emp_1.fullname) # Output: Kriston Gabor\n",
    "\n",
    "\n",
    "# With the fullname.deleter method, we can delete the fullname attribute of an object without touching any other part of it.\n",
    "\n",
    "del emp_1.fullname\n",
    "\n",
    "print(emp_1.__dict__)"
   ]
  },
  {
   "cell_type": "markdown",
   "metadata": {},
   "source": [
    "With the @property decorator, you can encapsulate the internal representation of an attribute and introduce validation logic. For example, you might want to ensure that the value is within a certain range or meets specific criteria before allowing it to be set.\n",
    "\n",
    "By using @property, you provide a consistent interface for accessing and modifying attributes, which can improve code readability. Users of your class can interact with the properties as if they were regular attributes, and they may not need to be aware of any additional logic or calculations taking place behind the scenes."
   ]
  },
  {
   "cell_type": "code",
   "execution_count": 34,
   "metadata": {},
   "outputs": [
    {
     "name": "stdout",
     "output_type": "stream",
     "text": [
      "42\n",
      "100\n",
      "Value must be non-negative\n"
     ]
    }
   ],
   "source": [
    "class MyClass:\n",
    "    def __init__(self, value):\n",
    "        self._value = value  # Note: Conventionally, use a single leading underscore for a private attribute\n",
    "\n",
    "    @property\n",
    "    def value(self):\n",
    "        return self._value\n",
    "\n",
    "    @value.setter\n",
    "    def value(self, new_value):\n",
    "        if new_value < 0:\n",
    "            raise ValueError(\"Value must be non-negative\")\n",
    "        self._value = new_value\n",
    "\n",
    "# Example usage\n",
    "obj = MyClass(42)\n",
    "\n",
    "# Access the value property (using the getter)\n",
    "print(obj.value)  # Output: 42\n",
    "\n",
    "# Try to set the value property (using the setter) with validation\n",
    "obj.value = 100\n",
    "\n",
    "# Access the value property again\n",
    "print(obj.value)  # Output: 100\n",
    "\n",
    "# Try to set an invalid value\n",
    "try:\n",
    "    obj.value = -5  # Raises ValueError\n",
    "except ValueError as e:\n",
    "    print(e)"
   ]
  },
  {
   "cell_type": "markdown",
   "metadata": {},
   "source": [
    "If we wouldn't need validation or extra readability, then we can do this:"
   ]
  },
  {
   "cell_type": "code",
   "execution_count": 24,
   "metadata": {},
   "outputs": [
    {
     "name": "stdout",
     "output_type": "stream",
     "text": [
      "42\n",
      "100\n"
     ]
    }
   ],
   "source": [
    "class MyClass:\n",
    "    def __init__(self, value):\n",
    "        self.value = value \n",
    "\n",
    "# Example usage\n",
    "obj = MyClass(42)\n",
    "\n",
    "# Access the value property (using the getter)\n",
    "print(obj.value)  # Output: 42\n",
    "\n",
    "# Try to set the value property (using the setter) with validation\n",
    "obj.value = 100\n",
    "\n",
    "# Access the value property again\n",
    "print(obj.value)  # Output: 100"
   ]
  },
  {
   "cell_type": "code",
   "execution_count": 30,
   "metadata": {},
   "outputs": [
    {
     "name": "stdout",
     "output_type": "stream",
     "text": [
      "[<__main__.Student object at 0x107125910>, <__main__.Student object at 0x107125e50>]\n",
      "Tim\n",
      "85.0\n"
     ]
    }
   ],
   "source": [
    "class Student:\n",
    "    def __init__(self, name, age, grade):\n",
    "        self.name = name\n",
    "        self.age = age\n",
    "        self.grade = grade\n",
    "\n",
    "    def get_grade(self):\n",
    "        return self.grade\n",
    "\n",
    "class Course:\n",
    "    def __init__(self, name, max_students):\n",
    "        self.name = name\n",
    "        self.max_students = max_students\n",
    "        self.students = []\n",
    "\n",
    "    def add_student(self, student):\n",
    "        if len(self.students) < self.max_students:\n",
    "            self.students.append(student)\n",
    "\n",
    "    def get_average_grade(self):\n",
    "        value = 0\n",
    "        for student in self.students:\n",
    "            value += student.get_grade()\n",
    "        return value / len(self.students)\n",
    "\n",
    "s1 = Student('Tim', 19, 95)\n",
    "s2 = Student('Bill', 19, 75)\n",
    "s3 = Student('Jill', 19, 65)\n",
    "\n",
    "course = Course('Science', 2)\n",
    "course.add_student(s1)\n",
    "course.add_student(s2)\n",
    "\n",
    "print(course.students)\n",
    "#Output: [<__main__.Student object at 0x000002BC8AEE70D0>, <__main__.Student object at 0x000002BC8AEE7110>]\n",
    "print(course.students[0].name)\n",
    "#Output: Tim\n",
    "print(course.get_average_grade())\n",
    "#Output: 85"
   ]
  },
  {
   "cell_type": "code",
   "execution_count": 159,
   "metadata": {},
   "outputs": [
    {
     "name": "stdout",
     "output_type": "stream",
     "text": [
      "I am Tim and I am 19 years old\n",
      "I don't know what I say\n",
      "I am Bill and I am 34 years old\n",
      "Meow\n",
      "I am Jill and I am 30 years old\n",
      "Bark\n",
      "I don't know what I say\n",
      "I am Butus and I am 11 years old and I am dark\n"
     ]
    }
   ],
   "source": [
    "class Pet:\n",
    "    def __init__(self, name, age):\n",
    "        self.name = name\n",
    "        self.age = age\n",
    "\n",
    "    def show(self):\n",
    "        print(f\"I am {self.name} and I am {self.age} years old\")\n",
    "\n",
    "    def speak(self):\n",
    "        print(\"I don't know what I say\")\n",
    "\n",
    "class Dog(Pet):\n",
    "    def speak(self):\n",
    "        print(\"Bark\")\n",
    "\n",
    "class Cat(Pet):\n",
    "    def speak(self):\n",
    "        print(\"Meow\")\n",
    "\n",
    "p = Pet(\"Tim\", 19)\n",
    "p.show()\n",
    "#Output: I am Tim and I am 19 years old\n",
    "p.speak()\n",
    "#Output: I don't know what I say\n",
    "c = Cat(\"Bill\", 34)\n",
    "c.show()\n",
    "#Ouptut: I am Bill and I am 34 years old\n",
    "c.speak()\n",
    "#Output: Meow\n",
    "d = Dog(\"Jill\", 30)\n",
    "d.show()\n",
    "#Output: I am Jill and I am 30 years old\n",
    "d.speak()\n",
    "#Output: Bark\n",
    "\n",
    "class Fish(Pet):\n",
    "    pass\n",
    "\n",
    "f = Fish(\"Bubbles\", 10)\n",
    "f.speak()\n",
    "#Output: I don't know what I say\n",
    "\n",
    "# Mi van akkor, ha a kis változtatáson túl az elején még akarunk egy plusz attribútumot adni a class-nak?\n",
    "\n",
    "class Cat(Pet):\n",
    "    def __init__(self, name, age, color):\n",
    "        super().__init__(name, age)\n",
    "        self.color = color\n",
    "\n",
    "    def speak(self):\n",
    "        print(\"Meow\")\n",
    "\n",
    "    def show(self):\n",
    "        print(f\"I am {self.name} and I am {self.age} years old and I am {self.color}\")\n",
    "\n",
    "c = Cat(\"Butus\", 11, \"dark\")\n",
    "c.show()\n",
    "#Ouptut: I am Butus and I am 11 years old and I am dark"
   ]
  }
 ],
 "metadata": {
  "kernelspec": {
   "display_name": "Python 3",
   "language": "python",
   "name": "python3"
  },
  "language_info": {
   "codemirror_mode": {
    "name": "ipython",
    "version": 3
   },
   "file_extension": ".py",
   "mimetype": "text/x-python",
   "name": "python",
   "nbconvert_exporter": "python",
   "pygments_lexer": "ipython3",
   "version": "3.11.5"
  }
 },
 "nbformat": 4,
 "nbformat_minor": 2
}
