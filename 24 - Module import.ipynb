{
 "cells": [
  {
   "cell_type": "markdown",
   "metadata": {},
   "source": [
    "# Importing modules"
   ]
  },
  {
   "cell_type": "code",
   "execution_count": 2,
   "metadata": {},
   "outputs": [
    {
     "name": "stdout",
     "output_type": "stream",
     "text": [
      "Hello, Alice!\n",
      "7\n"
     ]
    }
   ],
   "source": [
    "import example_module\n",
    "\n",
    "result = example_module.greet(\"Alice\")\n",
    "\n",
    "print(result) # Output: Hello, Alice!\n",
    "\n",
    "\n",
    "calculator = example_module.Calculator()\n",
    "\n",
    "sum_result = calculator.add(3, 4)\n",
    "\n",
    "print(sum_result) # Output: 7"
   ]
  },
  {
   "cell_type": "markdown",
   "metadata": {},
   "source": [
    "Importing with an Alias:"
   ]
  },
  {
   "cell_type": "code",
   "execution_count": null,
   "metadata": {},
   "outputs": [],
   "source": [
    "import example_module as em\n",
    "\n",
    "result = em.greet(\"Bob\")\n",
    "\n",
    "print(result)# Output: Hello, Bob!\n",
    "\n",
    "\n",
    "calculator = em.Calculator()\n",
    "\n",
    "sum_result = calculator.add(5, 6)\n",
    "\n",
    "print(sum_result) # Output: 11"
   ]
  },
  {
   "cell_type": "markdown",
   "metadata": {},
   "source": [
    "Importing Specific Entities:"
   ]
  },
  {
   "cell_type": "code",
   "execution_count": 3,
   "metadata": {},
   "outputs": [
    {
     "name": "stdout",
     "output_type": "stream",
     "text": [
      "Hello, Charlie!\n",
      "15\n"
     ]
    }
   ],
   "source": [
    "from example_module import greet, Calculator\n",
    "\n",
    "result = greet(\"Charlie\")\n",
    "\n",
    "print(result) # Output: Hello, Charlie!\n",
    "\n",
    "\n",
    "calculator = Calculator()\n",
    "\n",
    "sum_result = calculator.add(7, 8)\n",
    "\n",
    "print(sum_result) # Output: 15"
   ]
  },
  {
   "cell_type": "code",
   "execution_count": 26,
   "metadata": {},
   "outputs": [
    {
     "name": "stdout",
     "output_type": "stream",
     "text": [
      "Hello, asd!\n",
      "Hello, asd!\n"
     ]
    }
   ],
   "source": [
    "from Test_folder_copy import module_1\n",
    "\n",
    "result = module_1.greet_new(\"asd\")\n",
    "\n",
    "print(result)\n",
    "\n",
    "\n",
    "# OR\n",
    "\n",
    "\n",
    "import Test_folder_copy.module_1 as mod1\n",
    "\n",
    "result = mod1.greet_new(\"asd\")\n",
    "\n",
    "print(result)"
   ]
  },
  {
   "cell_type": "code",
   "execution_count": 27,
   "metadata": {},
   "outputs": [
    {
     "name": "stdout",
     "output_type": "stream",
     "text": [
      "Hello, asd!\n",
      "15\n"
     ]
    }
   ],
   "source": [
    "import Test_folder.module3 as mod3\n",
    "\n",
    "result = mod3.greet_new(\"asd\")\n",
    "\n",
    "print(result)\n",
    "\n",
    "# OR\n",
    "\n",
    "import Test_folder.module4 as mod4\n",
    "\n",
    "calculator = mod4.Calculator_new()\n",
    "\n",
    "sum_result = calculator.add(7, 8)\n",
    "\n",
    "print(sum_result) # Output: 15"
   ]
  },
  {
   "cell_type": "markdown",
   "metadata": {},
   "source": [
    "Use of __init__.py in folders:\n",
    "\n",
    "If you need to execute code when the package is imported, you can include that code in the __init__.py file. This allows you to perform package-level setup, import specific modules, or define variables that should be available when the package is used."
   ]
  }
 ],
 "metadata": {
  "kernelspec": {
   "display_name": "Python 3",
   "language": "python",
   "name": "python3"
  },
  "language_info": {
   "codemirror_mode": {
    "name": "ipython",
    "version": 3
   },
   "file_extension": ".py",
   "mimetype": "text/x-python",
   "name": "python",
   "nbconvert_exporter": "python",
   "pygments_lexer": "ipython3",
   "version": "3.11.5"
  }
 },
 "nbformat": 4,
 "nbformat_minor": 2
}
