{
 "cells": [
  {
   "cell_type": "markdown",
   "metadata": {},
   "source": [
    "# Stacks and Queues"
   ]
  },
  {
   "cell_type": "markdown",
   "metadata": {},
   "source": [
    "A stack is a data structure that follows the Last In, First Out (LIFO) principle. This means that the last element added to the stack is the first one to be removed. The LIFO nature of stacks makes them suitable for scenarios where the order of processing is critical, such as undo mechanisms in software applications.\n",
    "\n",
    "A queue is a data structure that follows the First-In, First-Out (FIFO) principle. This means that the first element added to the queue will be the first one to be removed. The FIFO nature of queues makes them suitable for scenarios where the order of processing is critical, such as task scheduling.\n",
    "\n",
    "Here's a simple implementation of a stack in Python:"
   ]
  },
  {
   "cell_type": "code",
   "execution_count": 19,
   "metadata": {},
   "outputs": [
    {
     "name": "stdout",
     "output_type": "stream",
     "text": [
      "<__main__.Stack object at 0x106cfc690>\n",
      "Current stack: [1, 2, 3]\n",
      "Pop: 3\n",
      "Peek: 2\n",
      "Current stack: [1, 2]\n",
      "Size: 2\n"
     ]
    }
   ],
   "source": [
    "class Stack:\n",
    "    def __init__(self):\n",
    "        self.items = []\n",
    "\n",
    "    def is_empty(self):\n",
    "        return len(self.items) == 0\n",
    "\n",
    "    def push(self, item):\n",
    "        self.items.append(item)\n",
    "\n",
    "    def pop(self):\n",
    "        if not self.is_empty():\n",
    "            return self.items.pop()\n",
    "        else:\n",
    "            raise IndexError(\"pop from an empty stack\")\n",
    "\n",
    "    def peek(self):\n",
    "        if not self.is_empty():\n",
    "            return self.items[-1]\n",
    "        else:\n",
    "            raise IndexError(\"peek from an empty stack\")\n",
    "\n",
    "    def size(self):\n",
    "        return len(self.items)\n",
    "\n",
    "# Example usage:\n",
    "stack = Stack()\n",
    "stack.push(1)\n",
    "stack.push(2)\n",
    "stack.push(3)\n",
    "\n",
    "# We use items, since it would display the object\n",
    "print(\"Current stack:\", stack.items)\n",
    "print(\"Pop:\", stack.pop())\n",
    "print(\"Peek:\", stack.peek())\n",
    "print(\"Current stack:\", stack.items)\n",
    "print(\"Size:\", stack.size())"
   ]
  },
  {
   "cell_type": "markdown",
   "metadata": {},
   "source": [
    "Unfortunately, the list has a few shortcomings. The biggest issue is that it can run into speed issues as it grows. The items in the list are stored next to each other in memory, if the stack grows bigger than the block of memory that currently holds it, then Python needs to do some memory allocations. This can lead to some append() calls taking much longer than other ones."
   ]
  },
  {
   "cell_type": "markdown",
   "metadata": {},
   "source": [
    "Stack implementation using collections.deque:\n",
    "\n",
    "Python stack can be implemented using the deque class from the collections module. Deque is preferred over the list in the cases where we need quicker append and pop operations from both the ends of the container, as deque provides an O(1) time complexity for append and pop operations (at the beginning of the array) as compared to list which provides O(n) time complexity. "
   ]
  },
  {
   "cell_type": "code",
   "execution_count": 2,
   "metadata": {},
   "outputs": [
    {
     "name": "stdout",
     "output_type": "stream",
     "text": [
      "Current stack: deque([1, 2, 3])\n",
      "Pop: 3\n",
      "Peek: 2\n",
      "Current stack: deque([1, 2])\n",
      "Size: 2\n"
     ]
    }
   ],
   "source": [
    "from collections import deque\n",
    "\n",
    "class Stack:\n",
    "    def __init__(self):\n",
    "        self.items = deque()\n",
    "\n",
    "    def is_empty(self):\n",
    "        return len(self.items) == 0\n",
    "\n",
    "    def push(self, item):\n",
    "        self.items.append(item)\n",
    "\n",
    "    def pop(self):\n",
    "        if not self.is_empty():\n",
    "            return self.items.pop()\n",
    "        else:\n",
    "            raise IndexError(\"pop from an empty stack\")\n",
    "\n",
    "    def peek(self):\n",
    "        if not self.is_empty():\n",
    "            return self.items[-1]\n",
    "        else:\n",
    "            raise IndexError(\"peek from an empty stack\")\n",
    "\n",
    "    def size(self):\n",
    "        return len(self.items)\n",
    "\n",
    "# Example usage:\n",
    "stack = Stack()\n",
    "\n",
    "stack.push(1)\n",
    "stack.push(2)\n",
    "stack.push(3)\n",
    "\n",
    "print(\"Current stack:\", stack.items)\n",
    "print(\"Pop:\", stack.pop())\n",
    "print(\"Peek:\", stack.peek())\n",
    "print(\"Current stack:\", stack.items)\n",
    "print(\"Size:\", stack.size())"
   ]
  },
  {
   "cell_type": "markdown",
   "metadata": {},
   "source": [
    "Queue implementation using collections.deque:"
   ]
  },
  {
   "cell_type": "code",
   "execution_count": 16,
   "metadata": {},
   "outputs": [
    {
     "name": "stdout",
     "output_type": "stream",
     "text": [
      "Dequeued element: 1\n",
      "Current queue size: 2\n"
     ]
    }
   ],
   "source": [
    "from collections import deque\n",
    "\n",
    "class Queue:\n",
    "    def __init__(self):\n",
    "        self.items = deque()\n",
    "\n",
    "    def is_empty(self):\n",
    "        return len(self.items) == 0\n",
    "\n",
    "    def add_queue(self, item):\n",
    "        self.items.append(item)\n",
    "\n",
    "    def del_queue(self):\n",
    "        if not self.is_empty():\n",
    "            return self.items.popleft()  # Removes and returns from the left (front)\n",
    "        else:\n",
    "            raise IndexError(\"dequeue from an empty queue\")\n",
    "\n",
    "    def size(self):\n",
    "        return len(self.items)\n",
    "\n",
    "# Example usage:\n",
    "my_queue = Queue()\n",
    "\n",
    "my_queue.add_queue(1)\n",
    "my_queue.add_queue(2)\n",
    "my_queue.add_queue(3)\n",
    "\n",
    "dequeued_element = my_queue.del_queue()\n",
    "\n",
    "print(\"Dequeued element:\", dequeued_element)\n",
    "print(\"Current queue size:\", my_queue.size())"
   ]
  },
  {
   "cell_type": "markdown",
   "metadata": {},
   "source": [
    "\n",
    "Drawbacks of Stacks and Queues:\n",
    "\n",
    "If they are full, you cannot add any more elements to the stack/queue.\n",
    "\n",
    "Access to elements in the middle of the stack/queue is limited. Only the front and rear elements can be easily accessed.\n",
    "\n",
    "They do not support efficient searching, as you have to pop elements one by one until you find the element you are looking for."
   ]
  },
  {
   "cell_type": "markdown",
   "metadata": {},
   "source": [
    "A deque (pronounced \"deck\") in Python is a double-ended queue, which is a versatile data structure that supports adding and removing elements from both ends. The deque class is part of the collections module in Python and provides an implementation of a doubly-linked list.\n",
    "\n",
    "Here are some key characteristics and features of a deque:\n",
    "\n",
    "Double-Ended Operations:\n",
    "\n",
    "A deque allows you to efficiently perform operations on both ends of the sequence.\n",
    "\n",
    "You can use append() and appendleft() to add elements to the right and left, respectively.\n",
    "\n",
    "Similarly, pop() and popleft() remove and return elements from the right and left.\n",
    "\n",
    "Efficient Appends and Pops: Unlike lists, which may have performance issues when repeatedly appending or popping from the left, deques are designed to handle these operations efficiently.\n",
    "\n",
    "Memory Efficiency: Deques use a doubly-linked list under the hood, making them more memory-efficient than lists in scenarios where elements are frequently added or removed from the beginning."
   ]
  },
  {
   "cell_type": "code",
   "execution_count": 13,
   "metadata": {},
   "outputs": [
    {
     "name": "stdout",
     "output_type": "stream",
     "text": [
      "Starting: deque([1, 2, 3, 4])\n",
      "We append \"5\" to the end: deque([1, 2, 3, 4, 5])\n",
      "We append \"0\" in the beginning: deque([0, 1, 2, 3, 4, 5])\n",
      "We remove the last element: deque([0, 1, 2, 3, 4])\n",
      "We remove the first element: deque([1, 2, 3, 4])\n"
     ]
    }
   ],
   "source": [
    "from collections import deque\n",
    "\n",
    "# Creating a deque\n",
    "my_deque = deque([1, 2, 3, 4])\n",
    "\n",
    "print(f'Starting: {my_deque}')\n",
    "      \n",
    "# Adding elements\n",
    "my_deque.append(5)         # Add to the right\n",
    "print(f'We append \"5\" to the end: {my_deque}')\n",
    "\n",
    "my_deque.appendleft(0)     # Add to the left\n",
    "print(f'We append \"0\" in the beginning: {my_deque}')\n",
    "\n",
    "# Removing elements\n",
    "right_element = my_deque.pop()        # Remove and return from the right\n",
    "print(f'We remove the last element: {my_deque}')\n",
    "left_element = my_deque.popleft()     # Remove and return from the left\n",
    "print(f'We remove the first element: {my_deque}')\n"
   ]
  }
 ],
 "metadata": {
  "kernelspec": {
   "display_name": "Python 3",
   "language": "python",
   "name": "python3"
  },
  "language_info": {
   "codemirror_mode": {
    "name": "ipython",
    "version": 3
   },
   "file_extension": ".py",
   "mimetype": "text/x-python",
   "name": "python",
   "nbconvert_exporter": "python",
   "pygments_lexer": "ipython3",
   "version": "3.11.5"
  }
 },
 "nbformat": 4,
 "nbformat_minor": 2
}
