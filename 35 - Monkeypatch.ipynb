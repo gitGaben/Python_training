{
 "cells": [
  {
   "cell_type": "markdown",
   "metadata": {},
   "source": [
    "# Monkeypatch\n",
    "\n",
    "In the context of software testing, a monkeypatch is a technique used to dynamically modify or override functions or methods at runtime. The purpose of monkeypatching is often to replace or modify certain behaviors during testing without modifying the actual source code. It allows you to temporarily alter the behavior of functions or methods to suit the needs of your tests.\n",
    "\n",
    "Here's a typical scenario where monkeypatch can be useful:\n",
    "\n",
    "Let's say you have a function that relies on an external service, and you want to test this function in isolation without making actual network requests. Instead of modifying the function's code, you can use monkeypatch to temporarily replace the external service call with a mock or stub during testing.\n",
    "\n",
    "In Python, the pytest testing framework provides a built-in monkeypatch fixture that you can use to modify attributes, override functions, or set environment variables during tests."
   ]
  },
  {
   "cell_type": "code",
   "execution_count": 1,
   "metadata": {},
   "outputs": [
    {
     "name": "stdout",
     "output_type": "stream",
     "text": [
      "12\n",
      "7\n"
     ]
    }
   ],
   "source": [
    "import pytest\n",
    "import math_operation\n",
    "\n",
    "def custom_add2(x, y):\n",
    "    return x * y\n",
    "\n",
    "def test_addition_with_mocked_function2():\n",
    "    # Create a monkeypatch object\n",
    "    monkeypatch = pytest.MonkeyPatch()\n",
    "\n",
    "    # Use monkeypatch to set the 'add' function to the custom_add function\n",
    "    monkeypatch.setattr(math_operation, 'add', custom_add2)\n",
    "\n",
    "    # Call the 'add' function from the math_operation module, which is now modified\n",
    "    result = math_operation.add(3, 4)\n",
    "\n",
    "    # Print the result\n",
    "    print(result)  # This will print 12\n",
    "\n",
    "    # Undo the monkeypatch modification - Really important (If I wouldn't include it, then I couldn't revert it back later on.)\n",
    "    monkeypatch.undo()\n",
    "\n",
    "test_addition_with_mocked_function2()\n",
    "\n",
    "print(math_operation.add(3,4)) # Output: 7 (Because of monkeypatch.undo())"
   ]
  },
  {
   "cell_type": "markdown",
   "metadata": {},
   "source": [
    "In case you want to run pytest and monkeypatch as a standalone file, you can do it like this:"
   ]
  },
  {
   "cell_type": "code",
   "execution_count": null,
   "metadata": {},
   "outputs": [],
   "source": [
    "# monkeypatch.py\n",
    "\n",
    "import math_operation\n",
    "import pytest\n",
    "\n",
    "def custom_add(x, y):\n",
    "    return x * y\n",
    "\n",
    "@pytest.fixture\n",
    "def monkeypatched_add(monkeypatch):\n",
    "    monkeypatch.setattr(math_operation, 'add', custom_add)\n",
    "\n",
    "def test_addition_with_mocked_function(monkeypatched_add):\n",
    "    result = math_operation.add(3, 4)\n",
    "    assert result == 12  # 3 * 4 = 12\n",
    "\n",
    "if __name__ == '__main__':\n",
    "    # Run the tests using pytest\n",
    "    pytest.main([__file__])"
   ]
  },
  {
   "cell_type": "markdown",
   "metadata": {},
   "source": [
    "\n",
    "In pytest, the pytest.main() function is a convenient way to programmatically invoke the pytest testing framework from within a Python script. It allows you to run tests, collect and report results, and customize test execution programmatically."
   ]
  },
  {
   "cell_type": "markdown",
   "metadata": {},
   "source": [
    "In Python, \\_\\_name__ is a special built-in variable that is used to determine whether a Python script is being run as the main program or if it is being imported as a module into another script. The value of \\_\\_name__ depends on how the Python interpreter is executing the code.\n",
    "\n",
    "When a Python script is run, the interpreter sets the \\_\\_name__ variable based on the following rules:\n",
    "\n",
    "If the script is the main program being executed (not imported as a module), \\_\\_name__ is set to \"\\_\\_main__\".\n",
    "\n",
    "If the script is being imported as a module into another script, \\_\\_name__ is set to the name of the module (i.e., the filename without the .py extension).\n",
    "\n",
    "This distinction allows you to write code that can be both used as a standalone program and imported as a module into other programs without the code being executed unintentionally."
   ]
  },
  {
   "cell_type": "code",
   "execution_count": 1,
   "metadata": {},
   "outputs": [
    {
     "name": "stdout",
     "output_type": "stream",
     "text": [
      "Value of the __name__ :  __main__\n"
     ]
    }
   ],
   "source": [
    "# Code to define a function  \n",
    "def anything():  \n",
    "    print('Value of the __name__ : ', __name__)  \n",
    "      \n",
    "anything()  "
   ]
  },
  {
   "cell_type": "code",
   "execution_count": null,
   "metadata": {},
   "outputs": [],
   "source": [
    "print(f\"The value of __file__ is: {__file__}\")\n",
    "\n",
    "# Output: The value of __file__ is: /Users/kristongabor/Desktop/Python training/print_filepath.py"
   ]
  },
  {
   "cell_type": "markdown",
   "metadata": {},
   "source": [
    "In Python, \\_\\_file__ is a special variable that provides the path to the script or module that is currently being executed. The variable contains the absolute or relative path to the Python source file.\n",
    "\n",
    "Here's a brief explanation:\n",
    "\n",
    "When a Python script or module is being executed, \\_\\_file__ is set to the path of that script or module.\n",
    "\n",
    "If the script is being run as the main program, \\_\\_file__ will contain the absolute or relative path to the script.\n",
    "\n",
    "If the script is being imported as a module, \\_\\_file__ will contain the path to the module's source file."
   ]
  },
  {
   "cell_type": "markdown",
   "metadata": {},
   "source": [
    "Testing delattr:"
   ]
  },
  {
   "cell_type": "code",
   "execution_count": 7,
   "metadata": {},
   "outputs": [],
   "source": [
    "# my_module_test.py\n",
    "import pytest\n",
    "\n",
    "class A:\n",
    "        x = 1\n",
    "\n",
    "def test_delattr():\n",
    "    monkeypatch = pytest.MonkeyPatch()\n",
    "    monkeypatch.delattr(A, 'x')\n",
    "    assert not hasattr(A, 'x')\n",
    "    monkeypatch.undo()\n",
    "\n",
    "def test_attr():\n",
    "    assert A.x == 1\n",
    "\n",
    "if __name__ == '__main__':\n",
    "    # Run the tests using pytest\n",
    "    pytest.main([__file__])"
   ]
  },
  {
   "cell_type": "markdown",
   "metadata": {},
   "source": [
    "Consider the following scenarios:\n",
    "\n",
    "1. Modifying the behavior of a function or the property of a class for a test e.g. there is an API call or database connection you will not make for a test but you know what the expected output should be. Use monkeypatch.setattr to patch the function or property with your desired testing behavior. This can include your own functions. Use monkeypatch.delattr to remove the function or property for the test. \n",
    "\n",
    "2. Modifying the values of dictionaries e.g. you have a global configuration that you want to modify for certain test cases. Use monkeypatch.setitem to patch the dictionary for the test. monkeypatch.delitem can be used to remove items.\n",
    "\n",
    "3. Modifying environment variables for a test e.g. to test program behavior if an environment variable is missing, or to set multiple values to a known variable. monkeypatch.setenv and monkeypatch.delenv can be used for these patches.\n",
    "\n",
    "4. Use monkeypatch.setenv(\"PATH\", value, prepend=os.pathsep) to modify $PATH, and monkeypatch.chdir to change the context of the current working directory during a test.\n",
    "\n",
    "5. Use monkeypatch.syspath_prepend to modify sys.path which will also call pkg_resources.fixup_namespace_packages and importlib.invalidate_caches().\n",
    "\n",
    "6. Use monkeypatch.context to apply patches only in a specific scope, which can help control teardown of complex fixtures or patches to the stdlib.\n",
    "\n",
    "See the monkeypatch blog post for some introduction material and a discussion of its motivation."
   ]
  },
  {
   "cell_type": "markdown",
   "metadata": {},
   "source": [
    "In this example, monkeypatch.setattr is used to patch Path.home so that the known testing path Path(\"/abc\") is always used when the test is run. This removes any dependency on the running user for testing purposes. monkeypatch.setattr must be called before the function, which will use the patched function."
   ]
  },
  {
   "cell_type": "code",
   "execution_count": null,
   "metadata": {},
   "outputs": [],
   "source": [
    "# monkeypatch_2.py\n",
    "\n",
    "import pytest\n",
    "from pathlib import Path\n",
    "\n",
    "\n",
    "def getssh():\n",
    "    \"\"\"Simple function to return expanded homedir ssh path.\"\"\"\n",
    "    return Path.home() / \".ssh\"\n",
    "\n",
    "\n",
    "def test_getssh(monkeypatch):\n",
    "    # mocked return function to replace Path.home\n",
    "    # always return '/abc'\n",
    "    def mockreturn():\n",
    "        return Path(\"/abc\")\n",
    "\n",
    "    # Application of the monkeypatch to replace Path.home\n",
    "    # with the behavior of mockreturn defined above.\n",
    "    monkeypatch.setattr(Path, \"home\", mockreturn)\n",
    "\n",
    "    # Calling getssh() will use mockreturn in place of Path.home\n",
    "    # for this test with the monkeypatch.\n",
    "    x = getssh()\n",
    "    assert x == Path(\"/abc/.ssh\")\n",
    "\n",
    "y = getssh()\n",
    "print(y) # Output: /Users/kristongabor/.ssh\n",
    "\n",
    "if __name__ == '__main__':\n",
    "    # Run the tests using pytest\n",
    "    pytest.main([__file__])"
   ]
  }
 ],
 "metadata": {
  "kernelspec": {
   "display_name": "Python 3",
   "language": "python",
   "name": "python3"
  },
  "language_info": {
   "codemirror_mode": {
    "name": "ipython",
    "version": 3
   },
   "file_extension": ".py",
   "mimetype": "text/x-python",
   "name": "python",
   "nbconvert_exporter": "python",
   "pygments_lexer": "ipython3",
   "version": "3.11.5"
  }
 },
 "nbformat": 4,
 "nbformat_minor": 2
}
