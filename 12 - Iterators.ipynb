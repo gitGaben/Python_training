{
 "cells": [
  {
   "cell_type": "markdown",
   "metadata": {},
   "source": [
    "# Iterators"
   ]
  },
  {
   "cell_type": "markdown",
   "metadata": {},
   "source": [
    "An iterator in Python is an object that is used to iterate over iterable objects like lists, tuples, dicts, and sets. Using an iterator method, we can loop through an object and return its elements.\n",
    "\n",
    "Technically, a Python iterator object must implement two special methods, \\_\\_iter__() and \\_\\_next__(), collectively called the iterator protocol."
   ]
  },
  {
   "cell_type": "markdown",
   "metadata": {},
   "source": [
    "Built-in Iterators:\n",
    "\n",
    "Python provides built-in iterators for common data structures like lists, tuples, dictionaries, and strings. These objects have an \\_\\_iter__ method that returns an iterator."
   ]
  },
  {
   "cell_type": "code",
   "execution_count": 26,
   "metadata": {},
   "outputs": [
    {
     "name": "stdout",
     "output_type": "stream",
     "text": [
      "4\n",
      "7\n",
      "0\n"
     ]
    }
   ],
   "source": [
    "# Define a list\n",
    "\n",
    "my_list = [4, 7, 0]\n",
    "\n",
    "# Create an iterator from the list\n",
    "\n",
    "iterator = iter(my_list)\n",
    "\n",
    "# Get the first element of the iterator\n",
    "\n",
    "print(next(iterator))  # Output: 4\n",
    "\n",
    "# Get the second element of the iterator\n",
    "\n",
    "print(next(iterator))  # Output: 7\n",
    "\n",
    "# Get the third element of the iterator\n",
    "\n",
    "print(next(iterator))  # Output: 0\n",
    "\n",
    "# The upcoming for loop won't work, because we have already iterated through our object.\n",
    "\n",
    "for i in iterator:\n",
    "    print(i)\n"
   ]
  },
  {
   "cell_type": "code",
   "execution_count": 2,
   "metadata": {},
   "outputs": [
    {
     "name": "stdout",
     "output_type": "stream",
     "text": [
      "[4, 7, 0]\n"
     ]
    }
   ],
   "source": [
    "# define a list\n",
    "my_list = [4, 7, 0]\n",
    "\n",
    "# create an iterator from the list\n",
    "iterator = iter(my_list)\n",
    "\n",
    "print(list(iterator))"
   ]
  },
  {
   "cell_type": "code",
   "execution_count": 1,
   "metadata": {},
   "outputs": [
    {
     "name": "stdout",
     "output_type": "stream",
     "text": [
      "4\n",
      "7\n",
      "0\n"
     ]
    }
   ],
   "source": [
    "# define a list\n",
    "my_list = [4, 7, 0]\n",
    "\n",
    "# create an iterator from the list\n",
    "iterator = iter(my_list)\n",
    "\n",
    "for i in iterator:\n",
    "    print(i)\n",
    "\n",
    "# The second for loop won't work here either, because we have already went through our iterator.\n",
    "\n",
    "for i in iterator:\n",
    "    print(i)\n"
   ]
  },
  {
   "cell_type": "markdown",
   "metadata": {},
   "source": [
    "First we created an iterator from the list using the iter() method. And then used the next() function to retrieve the elements of the iterator in sequential order.\n",
    "\n",
    "When we reach the end and there is no more data to be returned, we will get the StopIteration Exception."
   ]
  },
  {
   "cell_type": "markdown",
   "metadata": {},
   "source": [
    "**Building Custom Iterators**\n",
    "\n",
    "Building an iterator from scratch is easy in Python. We just have to implement the \\_\\_iter__() and the \\_\\_next__() methods,\n",
    "\n",
    "\\_\\_iter__() returns the iterator object itself. If required, some initialization can be performed.\n",
    "\n",
    "\\_\\_next__() must return the next item in the sequence. On reaching the end, and in subsequent calls, it must raise StopIteration.\n",
    "\n",
    "Note that this is a more explicit way to create an iterator compared to using a generator function with yield."
   ]
  },
  {
   "cell_type": "code",
   "execution_count": 42,
   "metadata": {},
   "outputs": [
    {
     "name": "stdout",
     "output_type": "stream",
     "text": [
      "0\n",
      "10\n",
      "20\n",
      "30\n",
      "40\n",
      "50\n",
      "60\n",
      "70\n",
      "80\n",
      "90\n"
     ]
    }
   ],
   "source": [
    "class MyIterable:\n",
    "    def __init__(self, limit):\n",
    "        self.limit = limit\n",
    "        self.current = 0\n",
    "\n",
    "    def __iter__(self):\n",
    "        self.current = 0 # Ez itt felesleges, csak hogy szemléltessem, hogy mindig a next-be lépünk vissza.\n",
    "        return self\n",
    "    \n",
    "    def __next__(self):\n",
    "        if self.current < self.limit:\n",
    "            result = self.current\n",
    "            self.current += 10\n",
    "            return result\n",
    "        else:\n",
    "            raise StopIteration\n",
    "        \n",
    "my_iterable = MyIterable(limit=100)\n",
    "\n",
    "# Mintha 10x leírnám, hogy: print(next(my_iterable))\n",
    "for value in my_iterable:\n",
    "    print(value)\n"
   ]
  },
  {
   "cell_type": "code",
   "execution_count": 45,
   "metadata": {},
   "outputs": [
    {
     "name": "stdout",
     "output_type": "stream",
     "text": [
      "0\n",
      "10\n",
      "20\n",
      "30\n",
      "40\n",
      "50\n",
      "60\n",
      "70\n",
      "80\n",
      "90\n"
     ]
    }
   ],
   "source": [
    "class MyIterable:\n",
    "    def __init__(self, limit):\n",
    "        self.limit = limit\n",
    "        self.current = 0\n",
    "\n",
    "    def __iter__(self):\n",
    "        self.current = 0 # Ez itt felesleges, csak hogy szemléltessem, hogy mindig a next-be lépünk vissza.\n",
    "        return self\n",
    "    \n",
    "    def __next__(self):\n",
    "        if self.current < self.limit:\n",
    "            result = self.current\n",
    "            self.current += 10\n",
    "            return result\n",
    "        else:\n",
    "            raise StopIteration\n",
    "        \n",
    "my_iterable = MyIterable(limit=100)\n",
    "\n",
    "print(next(my_iterable))\n",
    "print(next(my_iterable))\n",
    "print(next(my_iterable))\n",
    "print(next(my_iterable))\n",
    "print(next(my_iterable))\n",
    "print(next(my_iterable))\n",
    "print(next(my_iterable))\n",
    "print(next(my_iterable))\n",
    "print(next(my_iterable))\n",
    "print(next(my_iterable))"
   ]
  },
  {
   "cell_type": "markdown",
   "metadata": {},
   "source": [
    "The purpose of returning self from \\_\\_iter__ is to make the object iterable. When you use an object in a for loop or with the iter() function, Python looks for the \\_\\_iter__ method. If \\_\\_iter__ returns an iterator object (which is self in this case), Python will use that iterator to iterate over the object.\n",
    "\n",
    "Itt mindig a next method-ba lépünk bele, amikor iteráljuk az eredményt. Ezért nem lesz a current 0 megint, akkor sem, ha az \\_\\_iter__() methodba tesszük bele, hogy self.current = 0."
   ]
  },
  {
   "cell_type": "markdown",
   "metadata": {},
   "source": [
    "In Python, to create iterators, we can use both regular functions and generators. Generators are written just like a normal function but we use yield() instead of return() for returning a result. It is more powerful as a tool to implement iterators. It is easy and more convenient to implement because it offers the evaluation of elements on demand. Unlike regular functions which on encountering a return statement terminates entirely, generators use a yield statement in which the state of the function is saved from the last call and can be picked up or resumed the next time we call a generator function. Another great advantage of the generator over a list is that it takes much less memory. "
   ]
  },
  {
   "cell_type": "markdown",
   "metadata": {},
   "source": [
    "The return and yield statements in Python serve different purposes, and they are used in different contexts. Here are the key differences:\n",
    "\n",
    "<br>\n",
    "\n",
    "**Return Statement:**\n",
    "\n",
    "Context: Used in regular functions.\n",
    "\n",
    "Function Termination: When a return statement is encountered, the function immediately terminates, and the specified value (if any) is returned to the caller.\n",
    "\n",
    "State: The state of the function, including local variables, is discarded after the return statement.\n",
    "\n",
    "<br>\n",
    "\n",
    "**Yield Statement:**\n",
    "\n",
    "Context: Used in generator functions or generator expressions.\n",
    "\n",
    "A generator function is a special kind of function that allows you to iterate over a potentially large sequence of data efficiently, generating values on-the-fly rather than storing them all in memory. When a function contains the yield statement, it turns the function into a generator. \n",
    "\n",
    "Function Termination: When a yield statement is encountered, the function is temporarily suspended, and the yielded value is returned to the caller. The function's state is retained, allowing it to be resumed later.\n",
    "\n",
    "State: The state of the function is maintained between calls, and local variables retain their values."
   ]
  },
  {
   "cell_type": "code",
   "execution_count": 41,
   "metadata": {},
   "outputs": [
    {
     "name": "stdout",
     "output_type": "stream",
     "text": [
      "0\n",
      "1\n",
      "2\n",
      "3\n",
      "4\n"
     ]
    }
   ],
   "source": [
    "def my_generator(limit):\n",
    "    current = 0\n",
    "    while current < limit:\n",
    "        yield current\n",
    "        current += 1\n",
    "\n",
    "# Example usage\n",
    "gen = my_generator(5)\n",
    "\n",
    "print(next(gen))\n",
    "print(next(gen))\n",
    "print(next(gen))\n",
    "print(next(gen))\n",
    "print(next(gen))"
   ]
  },
  {
   "cell_type": "markdown",
   "metadata": {},
   "source": [
    "Itt lényegében az történik, hogy megállunk az első futtatásnál a yield currentnél. Utána, mikor a következő value-t akarjuk lehívni még mindig a while loop-ban vagyunk benne és onnan folytatjuk. Így nincs arra lehetőség, hogy kilépjünk a while loop-ból és a current-et 0-vá tegyük."
   ]
  },
  {
   "cell_type": "code",
   "execution_count": 36,
   "metadata": {},
   "outputs": [
    {
     "name": "stdout",
     "output_type": "stream",
     "text": [
      "0\n",
      "1\n",
      "2\n",
      "3\n",
      "4\n"
     ]
    }
   ],
   "source": [
    "def my_generator(limit):\n",
    "    current = 0\n",
    "    while current < limit:\n",
    "        yield current\n",
    "        current += 1\n",
    "\n",
    "# Example usage\n",
    "gen = my_generator(5)\n",
    "\n",
    "for value in gen:\n",
    "    print(value)"
   ]
  },
  {
   "cell_type": "markdown",
   "metadata": {},
   "source": [
    "This above example wouldn't work with return. In order to use with return, we would have to create an artificial list:"
   ]
  },
  {
   "cell_type": "code",
   "execution_count": 37,
   "metadata": {},
   "outputs": [
    {
     "name": "stdout",
     "output_type": "stream",
     "text": [
      "0\n",
      "1\n",
      "2\n",
      "3\n",
      "4\n"
     ]
    }
   ],
   "source": [
    "def my_generator_return(limit):\n",
    "    result = []\n",
    "    current = 0\n",
    "    while current < limit:\n",
    "        result.append(current)\n",
    "        current += 1\n",
    "    return result\n",
    "\n",
    "# Example usage\n",
    "values = my_generator_return(5)\n",
    "\n",
    "for value in values:\n",
    "    print(value)"
   ]
  },
  {
   "cell_type": "code",
   "execution_count": 46,
   "metadata": {},
   "outputs": [
    {
     "name": "stdout",
     "output_type": "stream",
     "text": [
      "1\n",
      "1\n",
      "2\n"
     ]
    }
   ],
   "source": [
    "# Using return\n",
    "def simple_function():\n",
    "    return 1\n",
    "    # The function terminates after the return statement, and state is discarded\n",
    "\n",
    "result = simple_function()\n",
    "print(result)  # Output: 1\n",
    "\n",
    "# Using yield\n",
    "def generator_function():\n",
    "    yield 1\n",
    "    yield 2\n",
    "    # The function retains its state between calls\n",
    "\n",
    "gen = generator_function()\n",
    "print(next(gen))  # Output: 1\n",
    "print(next(gen))  # Output: 2"
   ]
  },
  {
   "cell_type": "markdown",
   "metadata": {},
   "source": [
    "The use of yield is beneficial when dealing with large datasets or when you want to create an efficient iterator without loading all the values into memory at once. Generators are particularly useful in scenarios where you don't need to store the entire sequence of values in memory, and you want to process the data iteratively."
   ]
  }
 ],
 "metadata": {
  "kernelspec": {
   "display_name": "Python 3",
   "language": "python",
   "name": "python3"
  },
  "language_info": {
   "codemirror_mode": {
    "name": "ipython",
    "version": 3
   },
   "file_extension": ".py",
   "mimetype": "text/x-python",
   "name": "python",
   "nbconvert_exporter": "python",
   "pygments_lexer": "ipython3",
   "version": "3.11.5"
  }
 },
 "nbformat": 4,
 "nbformat_minor": 2
}
