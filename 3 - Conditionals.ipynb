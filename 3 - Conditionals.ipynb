{
 "cells": [
  {
   "cell_type": "markdown",
   "metadata": {},
   "source": [
    "# Conditionals"
   ]
  },
  {
   "cell_type": "markdown",
   "metadata": {},
   "source": [
    "In Python, conditionals are used to control the flow of a program based on certain conditions. The most common conditional statements are if, elif (else if), and else. \n",
    "\n",
    "The 'if' statement is used for decision-making operations. It contains a body of code which runs only when the condition given in the if statement is true. If the condition is false, then the optional else statement runs which contains some code for the else condition.\n",
    "\n",
    "Here's a basic overview:"
   ]
  },
  {
   "cell_type": "markdown",
   "metadata": {},
   "source": [
    "1. 'if' statement"
   ]
  },
  {
   "cell_type": "code",
   "execution_count": 3,
   "metadata": {},
   "outputs": [
    {
     "name": "stdout",
     "output_type": "stream",
     "text": [
      "x is greater than 5\n"
     ]
    }
   ],
   "source": [
    "x = 10\n",
    "\n",
    "if x > 5:\n",
    "    print(\"x is greater than 5\")"
   ]
  },
  {
   "cell_type": "markdown",
   "metadata": {},
   "source": [
    "2. 'if'...'else' statement:\n",
    "\n"
   ]
  },
  {
   "cell_type": "code",
   "execution_count": 4,
   "metadata": {},
   "outputs": [
    {
     "name": "stdout",
     "output_type": "stream",
     "text": [
      "x is not greater than 5\n"
     ]
    }
   ],
   "source": [
    "x = 3\n",
    "\n",
    "if x > 5:\n",
    "    print(\"x is greater than 5\")\n",
    "else:\n",
    "    print(\"x is not greater than 5\")"
   ]
  },
  {
   "cell_type": "markdown",
   "metadata": {},
   "source": [
    "3. 'if'...'elif'...'else' statement:"
   ]
  },
  {
   "cell_type": "code",
   "execution_count": 5,
   "metadata": {},
   "outputs": [
    {
     "name": "stdout",
     "output_type": "stream",
     "text": [
      "x is less than 5\n"
     ]
    }
   ],
   "source": [
    "x = 3\n",
    "\n",
    "if x > 5:\n",
    "    print(\"x is greater than 5\")\n",
    "elif x == 5:\n",
    "    print(\"x is equal to 5\")\n",
    "else:\n",
    "    print(\"x is less than 5\")"
   ]
  },
  {
   "cell_type": "markdown",
   "metadata": {},
   "source": [
    "4. Nested if statements:"
   ]
  },
  {
   "cell_type": "code",
   "execution_count": 6,
   "metadata": {},
   "outputs": [
    {
     "name": "stdout",
     "output_type": "stream",
     "text": [
      "Both x and y are greater than their respective values\n"
     ]
    }
   ],
   "source": [
    "x = 10\n",
    "y = 5\n",
    "\n",
    "if x > 5:\n",
    "    if y > 2:\n",
    "        print(\"Both x and y are greater than their respective values\")"
   ]
  },
  {
   "cell_type": "markdown",
   "metadata": {},
   "source": [
    "5. Ternary conditional expression:"
   ]
  },
  {
   "cell_type": "code",
   "execution_count": 7,
   "metadata": {},
   "outputs": [
    {
     "name": "stdout",
     "output_type": "stream",
     "text": [
      "x is greater than 5\n"
     ]
    }
   ],
   "source": [
    "x = 10\n",
    "\n",
    "result = \"x is greater than 5\" if x > 5 else \"x is not greater than 5\"\n",
    "print(result)"
   ]
  },
  {
   "cell_type": "markdown",
   "metadata": {},
   "source": [
    "    Match:\n",
    "\n",
    "The match statement is designed to replace certain use cases where if, elif, and else statements are used for complex value matching.\n",
    "\n",
    "Here's a basic overview of how the match statement works:"
   ]
  },
  {
   "cell_type": "code",
   "execution_count": 11,
   "metadata": {},
   "outputs": [
    {
     "name": "stdout",
     "output_type": "stream",
     "text": [
      "Hello to you too!\n"
     ]
    }
   ],
   "source": [
    "command = 'Hello, World!'\n",
    "\n",
    "match command:\n",
    "    case 'Hello, World!':\n",
    "        print('Hello to you too!')\n",
    "    case 'Goodbye, World!':\n",
    "        print('See you later')\n",
    "    case other:\n",
    "        print('No match found')"
   ]
  },
  {
   "cell_type": "markdown",
   "metadata": {},
   "source": [
    "Let's consider a scenario where the match statement can be more expressive than using a series of if, elif, and else statements. Imagine you have a function that performs different operations based on the type and value of its argument. We'll use the example of a function that calculates the area of geometric shapes."
   ]
  },
  {
   "cell_type": "markdown",
   "metadata": {},
   "source": [
    "Using if, elif, and else:"
   ]
  },
  {
   "cell_type": "code",
   "execution_count": 15,
   "metadata": {},
   "outputs": [
    {
     "data": {
      "text/plain": [
       "12.56"
      ]
     },
     "execution_count": 15,
     "metadata": {},
     "output_type": "execute_result"
    }
   ],
   "source": [
    "def calculate_area(shape, dimension):\n",
    "    if shape == \"circle\":\n",
    "        return 3.14 * dimension ** 2\n",
    "    elif shape == \"rectangle\":\n",
    "        return dimension[0] * dimension[1]\n",
    "    elif shape == \"square\":\n",
    "        return dimension ** 2\n",
    "    else:\n",
    "        return \"Unsupported shape\"\n",
    "    \n",
    "calculate_area(\"circle\",2)"
   ]
  },
  {
   "cell_type": "markdown",
   "metadata": {},
   "source": [
    "Using match:"
   ]
  },
  {
   "cell_type": "code",
   "execution_count": 4,
   "metadata": {},
   "outputs": [
    {
     "data": {
      "text/plain": [
       "12.56"
      ]
     },
     "execution_count": 4,
     "metadata": {},
     "output_type": "execute_result"
    }
   ],
   "source": [
    "def calculate_area(shape, dimension):\n",
    "    match shape:\n",
    "        case \"circle\":\n",
    "            return 3.14 * dimension ** 2\n",
    "        case \"rectangle\":\n",
    "            return dimension[0] * dimension[1]\n",
    "        case \"square\":\n",
    "            return dimension ** 2\n",
    "        case _:\n",
    "            return \"Unsupported shape\"\n",
    "        \n",
    "calculate_area(\"circle\",2)"
   ]
  },
  {
   "cell_type": "markdown",
   "metadata": {},
   "source": [
    "In this example, the match statement provides a more elegant and readable way to handle different cases. It allows you to express the logic in a pattern-matching style, making the code more concise. Additionally, the use of a wildcard pattern (case _:) in the match statement serves as a catch-all for unsupported shapes, making the code more explicit and avoiding the need for an additional else statement.\n",
    "\n",
    "The match statement becomes particularly beneficial as the number of cases increases or when you're dealing with more complex patterns and conditions. It can make your code more readable and maintainable, especially in scenarios where patterns and conditions play a significant role in decision-making."
   ]
  }
 ],
 "metadata": {
  "kernelspec": {
   "display_name": "Python 3",
   "language": "python",
   "name": "python3"
  },
  "language_info": {
   "codemirror_mode": {
    "name": "ipython",
    "version": 3
   },
   "file_extension": ".py",
   "mimetype": "text/x-python",
   "name": "python",
   "nbconvert_exporter": "python",
   "pygments_lexer": "ipython3",
   "version": "3.11.5"
  }
 },
 "nbformat": 4,
 "nbformat_minor": 2
}
