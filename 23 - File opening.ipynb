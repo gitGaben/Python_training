{
 "cells": [
  {
   "cell_type": "markdown",
   "metadata": {},
   "source": [
    "# File opening"
   ]
  },
  {
   "cell_type": "markdown",
   "metadata": {},
   "source": [
    "In Python, you can open and manipulate files using the built-in open() function. The open() function returns a file object, and you can use various methods on this object to read or write data. "
   ]
  },
  {
   "cell_type": "markdown",
   "metadata": {},
   "source": [
    "Relative path:\n",
    "\n",
    "A relative path specifies the location of a file or directory with respect to the current working directory. The concept of a relative path is based on the assumption that you start from your current location (directory) and navigate to the target file or directory.\n",
    "\n",
    "<br>\n",
    "\n",
    "Current Working Directory (CWD): The current working directory is the directory from which your Python script is being executed. When you run a Python script, it starts in the current working directory.\n",
    "\n",
    "<br>\n",
    "\n",
    "Relative Path Syntax: In a relative path, you specify the location of a file or directory relative to your current working directory. The most common symbols used in relative paths are:\n",
    "\n",
    ". (dot): Represents the current directory.\n",
    "\n",
    ".. (double dot): Represents the parent directory.\n",
    "\n",
    "<br>\n",
    "\n",
    "Navigating the Directory Tree:\n",
    "\n",
    "When you use .. in a relative path, you are moving up one level in the directory tree. For example, if your current directory is project/scripts/ and you use ../data/example.txt, you are moving up to project/ and then into data/ to find example.txt.\n",
    "\n",
    "<br>\n",
    "\n",
    "Examples:\n",
    "\n",
    "file.txt: Refers to a file in the current directory.\n",
    "\n",
    "../data/file.txt: Refers to a file in the data directory, which is a sibling of the current directory.\n",
    "\n",
    "../../data/file.txt: Refers to a file in the data directory, which is a sibling of the parent directory of the current directory."
   ]
  },
  {
   "cell_type": "markdown",
   "metadata": {},
   "source": [
    "Opening a File for Reading:"
   ]
  },
  {
   "cell_type": "code",
   "execution_count": 21,
   "metadata": {},
   "outputs": [
    {
     "name": "stdout",
     "output_type": "stream",
     "text": [
      "This is a new file.This is appended content.\n",
      "This is appended content.\n",
      "This is a new file.This is appended content.\n",
      "This is appended content.\n"
     ]
    }
   ],
   "source": [
    "# Open a file for reading\n",
    "\n",
    "relative_path = './Data/example.txt'\n",
    "\n",
    "with open(relative_path, 'r') as file:\n",
    "    content = file.read()\n",
    "    print(content)\n",
    "    \n",
    "print(content)"
   ]
  },
  {
   "cell_type": "code",
   "execution_count": 30,
   "metadata": {},
   "outputs": [
    {
     "name": "stdout",
     "output_type": "stream",
     "text": [
      "/Users/kristongabor/Desktop/Python training\n",
      "/Users/kristongabor/Desktop/Python training/Data/example.txt\n"
     ]
    }
   ],
   "source": [
    "import os\n",
    "\n",
    "current_directory = os.getcwd()\n",
    "\n",
    "print(current_directory)\n",
    "\n",
    "relative_path = 'Data/example.txt'\n",
    "\n",
    "file_path = os.path.join(current_directory, relative_path)\n",
    "\n",
    "print(file_path)"
   ]
  },
  {
   "cell_type": "markdown",
   "metadata": {},
   "source": [
    "Absolute path:"
   ]
  },
  {
   "cell_type": "code",
   "execution_count": 25,
   "metadata": {},
   "outputs": [
    {
     "name": "stdout",
     "output_type": "stream",
     "text": [
      "This is a new file.This is appended content.\n",
      "This is appended content.\n"
     ]
    }
   ],
   "source": [
    "absolute_path = '/Users/kristongabor/Desktop/Python training/Data/example.txt'\n",
    "\n",
    "with open(absolute_path, 'r') as file:\n",
    "    content = file.read()\n",
    "    print(content)"
   ]
  },
  {
   "cell_type": "markdown",
   "metadata": {},
   "source": [
    "Specifying File Modes:\n",
    "The second argument in the open() function specifies the mode in which the file should be opened. Some commonly used modes include:\n",
    "\n",
    "'r': Read mode (default). Opens the file for reading.\n",
    "\n",
    "'w': Write mode. Opens the file for writing. Creates a new file or truncates the existing file to zero length.\n",
    "\n",
    "'a': Append mode. Opens the file for writing. Creates a new file if it doesn't exist, or appends to the existing file.\n",
    "\n",
    "'b': Binary mode. Reads or writes the file in binary mode (e.g., 'rb', 'wb').\n",
    "\n",
    "'x': Exclusive creation. Opens the file for exclusive creation and raises an error if the file already exists."
   ]
  },
  {
   "cell_type": "markdown",
   "metadata": {},
   "source": [
    "Opening a File for Writing:"
   ]
  },
  {
   "cell_type": "code",
   "execution_count": 9,
   "metadata": {},
   "outputs": [],
   "source": [
    "# Open a file for reading\n",
    "\n",
    "relative_path = './Data/example.txt'\n",
    "\n",
    "with open(relative_path, 'w') as file:\n",
    "    file.write('This is a new file.')"
   ]
  },
  {
   "cell_type": "markdown",
   "metadata": {},
   "source": [
    "Opening a File for Appending:"
   ]
  },
  {
   "cell_type": "code",
   "execution_count": 11,
   "metadata": {},
   "outputs": [],
   "source": [
    "# Open a file for appending\n",
    "\n",
    "relative_path = './Data/example.txt'\n",
    "\n",
    "with open(relative_path, 'a') as file:\n",
    "    file.write('\\nThis is appended content.')"
   ]
  },
  {
   "cell_type": "markdown",
   "metadata": {},
   "source": [
    "Reading Line by Line:"
   ]
  },
  {
   "cell_type": "code",
   "execution_count": 19,
   "metadata": {},
   "outputs": [
    {
     "name": "stdout",
     "output_type": "stream",
     "text": [
      "This is a new file.This is appended content.\n",
      "This is appended content.\n",
      "This is appended content.\n"
     ]
    }
   ],
   "source": [
    "# Open a file and read it line by line\n",
    "\n",
    "relative_path = './Data/example.txt'\n",
    "\n",
    "with open(relative_path, 'r') as file:\n",
    "    for line in file:\n",
    "        print(line.strip())  # strip() removes trailing newline characters"
   ]
  },
  {
   "cell_type": "markdown",
   "metadata": {},
   "source": [
    "If you want to read the file line by line into a list, you can use readlines()"
   ]
  },
  {
   "cell_type": "code",
   "execution_count": 24,
   "metadata": {},
   "outputs": [
    {
     "name": "stdout",
     "output_type": "stream",
     "text": [
      "This is a new file.This is appended content.\n",
      "This is appended content.\n",
      "['This is a new file.This is appended content.\\n', 'This is appended content.']\n",
      "['This is a new file.This is appended content.', 'This is appended content.']\n"
     ]
    }
   ],
   "source": [
    "relative_path = './Data/example.txt'\n",
    "\n",
    "with open(relative_path, 'r') as file:\n",
    "    lines = file.readlines()\n",
    "    new_lines = []\n",
    "    for line in lines:\n",
    "        print(line.strip())\n",
    "        new_lines.append(line.strip())\n",
    "\n",
    "print(lines)\n",
    "print(new_lines)"
   ]
  },
  {
   "cell_type": "markdown",
   "metadata": {},
   "source": [
    "Handling Exceptions:"
   ]
  },
  {
   "cell_type": "code",
   "execution_count": 31,
   "metadata": {},
   "outputs": [
    {
     "name": "stdout",
     "output_type": "stream",
     "text": [
      "File not found!\n"
     ]
    }
   ],
   "source": [
    "# Handling file opening exceptions\n",
    "try:\n",
    "    with open('nonexistent_file.txt', 'r') as file:\n",
    "        content = file.read()\n",
    "        print(content)\n",
    "except FileNotFoundError:\n",
    "    print('File not found!')\n",
    "except IOError:\n",
    "    print('Error reading the file.')"
   ]
  },
  {
   "cell_type": "markdown",
   "metadata": {},
   "source": [
    "A FileNotFoundError exception is caught if the specified file does not exist.\n",
    "\n",
    "An IOError exception is caught if there is an issue reading the file."
   ]
  }
 ],
 "metadata": {
  "kernelspec": {
   "display_name": "Python 3",
   "language": "python",
   "name": "python3"
  },
  "language_info": {
   "codemirror_mode": {
    "name": "ipython",
    "version": 3
   },
   "file_extension": ".py",
   "mimetype": "text/x-python",
   "name": "python",
   "nbconvert_exporter": "python",
   "pygments_lexer": "ipython3",
   "version": "3.11.5"
  }
 },
 "nbformat": 4,
 "nbformat_minor": 2
}
