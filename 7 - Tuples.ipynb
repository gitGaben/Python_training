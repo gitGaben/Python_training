{
 "cells": [
  {
   "cell_type": "markdown",
   "metadata": {},
   "source": [
    "# Tuples"
   ]
  },
  {
   "cell_type": "markdown",
   "metadata": {},
   "source": [
    "A tuple in Python is an immutable (you cannot change, add, or remove elements after the tuple is created) and ordered (you can access elements in the tuples based on their positions [indices]) collection of elements. \n",
    "\n",
    "Tuples can contain elements of different data types. They generally consume less memory than lists. If you have a collection of values that you don't need to modify, using a tuple can be more memory-efficient.\n",
    "\n",
    "Tuples can be used as dictionary keys because they are hashable (if all their elements are hashable). Lists, being mutable, cannot be used as dictionary keys."
   ]
  },
  {
   "cell_type": "code",
   "execution_count": 5,
   "metadata": {},
   "outputs": [
    {
     "name": "stdout",
     "output_type": "stream",
     "text": [
      "(1, 2, 3, 'apple', 'banana')\n",
      "1\n",
      "banana\n",
      "(1, 2)\n",
      "(1,)\n",
      "(3, 'apple', 'banana')\n",
      "('apple', 'banana')\n"
     ]
    }
   ],
   "source": [
    "# Creating a tuple\n",
    "\n",
    "my_tuple = (1, 2, 3, \"apple\", \"banana\")\n",
    "\n",
    "print(my_tuple) #Output: (1, 2, 3, 'apple', 'banana')\n",
    "\n",
    "\n",
    "# Accessing elements\n",
    "\n",
    "print(my_tuple[0])  # Accessing the first element (Output: 1)\n",
    "\n",
    "print(my_tuple[-1])  # Accessing the last element (Output: banana)\n",
    "\n",
    "\n",
    "# Slicing\n",
    "\n",
    "print(my_tuple[0:2]) # Get elements at index 0 and 1 (Output: (1, 2))\n",
    "\n",
    "print(my_tuple[:1]) # Get elements at index 0 (Output: (1))\n",
    "\n",
    "print(my_tuple[2:5]) # Get elements at index 2, 3 and 4 (Output: (2, 'apple', 'banana'))\n",
    "\n",
    "print(my_tuple[3:]) # Get elements at index 3 and everything after (Output: ['apple', 'banana'])\n"
   ]
  },
  {
   "cell_type": "code",
   "execution_count": 1,
   "metadata": {},
   "outputs": [
    {
     "name": "stdout",
     "output_type": "stream",
     "text": [
      "(1, 2, 3, 'apple', 'banana')\n",
      "True\n",
      "5\n",
      "(5, 3, 1, 2, 4)\n",
      "[1, 2, 3, 4, 5]\n",
      "(5, 4, 3, 2, 1)\n",
      "('banana', 'apple', 3, 2, 1)\n"
     ]
    }
   ],
   "source": [
    "my_tuple = (1, 2, 3, \"apple\", \"banana\")\n",
    "\n",
    "print(my_tuple)\n",
    "\n",
    "\n",
    "# Checking elements\n",
    "\n",
    "print(\"banana\" in my_tuple)  # Check if \"banana\" is in the tuple (Output: True)\n",
    "\n",
    "\n",
    "# Tuple length\n",
    "\n",
    "length = len(my_tuple)  # Get the length of the list\n",
    "\n",
    "print(length) # Output: 5\n",
    "\n",
    "\n",
    "# Sorting\n",
    "\n",
    "my_tuple_int = (5, 3, 1, 2, 4)\n",
    "\n",
    "print(my_tuple_int)\n",
    "\n",
    "sorted_tuple = tuple(sorted(my_tuple_int))\n",
    "\n",
    "# If I wouldn't use the tuple function, then it would convert it to list.\n",
    "\n",
    "print(sorted_tuple) # Output: (1, 2, 3, 4, 5)\n",
    "\n",
    "\n",
    "\n",
    "# Sorting in reverse:\n",
    "\n",
    "sorted_tuple_desc = tuple(sorted(my_tuple_int, reverse=True))\n",
    "\n",
    "print(sorted_tuple_desc) # Output: (5, 4, 3, 2, 1)\n",
    "\n",
    "\n",
    "\n",
    "# Reverse \n",
    "\n",
    "reversed_tuple = my_tuple[::-1]\n",
    "\n",
    "print(reversed_tuple)"
   ]
  },
  {
   "cell_type": "code",
   "execution_count": 22,
   "metadata": {},
   "outputs": [
    {
     "name": "stdout",
     "output_type": "stream",
     "text": [
      "1\n",
      "3\n",
      "(1, 2, 3, 4, 5, 6)\n",
      "0\n"
     ]
    }
   ],
   "source": [
    "# Count occurences of element:\n",
    "\n",
    "my_tuple = (1, 2, 3, \"apple\", \"banana\")\n",
    "\n",
    "count_apple = my_tuple.count(\"apple\")  # Count occurrences of \"apple\" in the list\n",
    "\n",
    "print(count_apple) # Output: 1\n",
    "\n",
    "\n",
    "\n",
    "# Index of the first occurence:\n",
    "\n",
    "index_apple = my_tuple.index(\"apple\")  # Get the index of the first occurrence of \"banana\"\n",
    "\n",
    "print(index_apple) # Output: 3\n",
    "\n",
    "\n",
    "\n",
    "# Deleting tuple\n",
    "\n",
    "del my_tuple\n",
    "\n",
    "\n",
    "\n",
    "# Tuple concatenation:\n",
    "\n",
    "tuple1 = (1, 2, 3)\n",
    "tuple2 = (4, 5, 6)\n",
    "\n",
    "combined_tuple = tuple1 + tuple2  # Concatenate two lists\n",
    "\n",
    "print(combined_tuple)"
   ]
  },
  {
   "cell_type": "code",
   "execution_count": 3,
   "metadata": {},
   "outputs": [
    {
     "name": "stdout",
     "output_type": "stream",
     "text": [
      "(1, 2, 3, 4)\n",
      "(1, 2, 3, 4)\n",
      "(1, 2, 3, 4)\n"
     ]
    }
   ],
   "source": [
    "# Copying\n",
    "\n",
    "original_tuple = (1, 2, 3, 4)\n",
    "\n",
    "copied_tuple_1 = tuple(original_tuple)\n",
    "copied_tuple_2 = original_tuple[:]\n",
    "\n",
    "# .copy() doesn't work for tuples\n",
    "\n",
    "print(original_tuple)     # Output: (1, 2, 3, 4)\n",
    "print(copied_tuple_1)     # Output: (1, 2, 3, 4)\n",
    "print(copied_tuple_2)     # Output: (1, 2, 3, 4)"
   ]
  }
 ],
 "metadata": {
  "kernelspec": {
   "display_name": "Python 3",
   "language": "python",
   "name": "python3"
  },
  "language_info": {
   "codemirror_mode": {
    "name": "ipython",
    "version": 3
   },
   "file_extension": ".py",
   "mimetype": "text/x-python",
   "name": "python",
   "nbconvert_exporter": "python",
   "pygments_lexer": "ipython3",
   "version": "3.11.5"
  }
 },
 "nbformat": 4,
 "nbformat_minor": 2
}
