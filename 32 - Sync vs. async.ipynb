{
 "cells": [
  {
   "cell_type": "markdown",
   "metadata": {},
   "source": [
    "# Sync vs. Async"
   ]
  },
  {
   "cell_type": "markdown",
   "metadata": {},
   "source": [
    "Asynchronous programming is a programming paradigm that allows tasks to be executed concurrently, without waiting for each task to complete before moving on to the next one. This is particularly useful in scenarios where tasks involve waiting for external resources, such as I/O operations (e.g., reading/writing to files, making network requests) or dealing with user input.\n",
    "\n",
    "The traditional synchronous (or blocking) programming model involves executing tasks one after the other, and if one task takes time to complete, it blocks the execution of subsequent tasks. This can result in inefficiency, especially when there are tasks that could be performed in parallel without waiting for each other.\n",
    "\n",
    "Asynchronous programming introduces the concept of asynchronous operations, which can be paused and resumed without blocking the overall program execution. In Python, the asyncio module provides a framework for asynchronous programming. "
   ]
  },
  {
   "cell_type": "markdown",
   "metadata": {},
   "source": [
    "Coroutines:\n",
    "\n",
    "Asynchronous programming in Python is often based on coroutines, which are special functions defined using the async def syntax.\n",
    "Coroutines can be paused using the await keyword without blocking the entire program.\n",
    "\n",
    "<br>\n",
    "\n",
    "Event Loop:\n",
    "\n",
    "An event loop is the central component in asynchronous programming. It schedules and manages the execution of asynchronous tasks (coroutines). The event loop allows tasks to yield control back to the loop when they encounter an await statement, and it can later resume their execution when the awaited operation is complete.\n",
    "\n",
    "<br>\n",
    "\n",
    "Non-blocking I/O:\n",
    "Asynchronous programming is particularly beneficial for I/O-bound operations. Instead of blocking while waiting for I/O (such as reading from a file or making a network request), the event loop can switch to another task. This allows the program to make progress on other tasks while waiting for I/O operations to complete.\n",
    "\n",
    "<br>\n",
    "\n",
    "Concurrency:\n",
    "\n",
    "Asynchronous programming enables concurrency, where multiple tasks appear to run in parallel. Tasks can be scheduled to run concurrently on a single thread, taking advantage of time spent waiting for I/O or other non-computational operations.\n",
    "\n",
    "<br>\n",
    "\n",
    "Async/Await Syntax:\n",
    "\n",
    "The async/await syntax makes it easier to write and understand asynchronous code. The async keyword is used to define a coroutine, and the await keyword is used to pause the coroutine until the awaited operation completes."
   ]
  },
  {
   "cell_type": "code",
   "execution_count": 2,
   "metadata": {},
   "outputs": [
    {
     "name": "stdout",
     "output_type": "stream",
     "text": [
      "Synchronous task 0\n",
      "Synchronous task 1\n",
      "Synchronous task 2\n",
      "Synchronous task 3\n",
      "Synchronous task 4\n"
     ]
    }
   ],
   "source": [
    "import time\n",
    "\n",
    "def synchronous_example():\n",
    "    for i in range(5):\n",
    "        print(f\"Synchronous task {i}\")\n",
    "        # Simulate some work\n",
    "        time.sleep(1)\n",
    "\n",
    "# Run the synchronous example\n",
    "synchronous_example()"
   ]
  },
  {
   "cell_type": "code",
   "execution_count": 15,
   "metadata": {},
   "outputs": [
    {
     "name": "stdout",
     "output_type": "stream",
     "text": [
      "Hello\n",
      "Hello\n",
      "Hello\n",
      "World!\n",
      "World!\n",
      "World!\n",
      "Hello\n",
      "Hello\n",
      "Hello\n",
      "World!\n",
      "World!\n",
      "World!\n"
     ]
    }
   ],
   "source": [
    "import asyncio\n",
    "import nest_asyncio\n",
    "\n",
    "nest_asyncio.apply()\n",
    "\n",
    "async def hello_world():\n",
    "    print(\"Hello\")\n",
    "    await asyncio.sleep(1)\n",
    "    print(\"World!\")\n",
    "\n",
    "\n",
    "# This function is marked as async and contains asynchronous operations. \n",
    "# The await asyncio.sleep(1) line simulates an asynchronous operation by pausing the execution of the coroutine \n",
    "# for 1 second without blocking the event loop. It tells the code to continue the loop and once the function can continue\n",
    "# then it should get back to it and proceed forward with the unfinished function.\n",
    "\n",
    "\n",
    "async def main():\n",
    "    await asyncio.gather(hello_world(), hello_world(), hello_world())\n",
    "\n",
    "\n",
    "# The main coroutine uses asyncio.gather to concurrently execute multiple instances of the hello_world coroutine. \n",
    "# This function demonstrates how to run multiple asynchronous tasks concurrently.\n",
    "\n",
    "\n",
    "if __name__ == \"__main__\":\n",
    "    asyncio.run(main())\n",
    "\n",
    "# Finally, the asyncio.run(main()) line is used to run the event loop and execute the asynchronous functions.\n",
    "\n",
    "# The more sophisticated way can be found below:\n",
    "\n",
    "if __name__ == \"__main__\":\n",
    "    \n",
    "    loop = asyncio.new_event_loop()\n",
    "    # This line creates a new event loop using asyncio.new_event_loop(). \n",
    "    # An event loop is the core component that manages and schedules the execution of asynchronous tasks.\n",
    "    \n",
    "    asyncio.set_event_loop(loop)\n",
    "    # This sets the newly created event loop as the current event loop. \n",
    "    # This step is necessary before running any asynchronous tasks using this loop.\n",
    "\n",
    "    try:\n",
    "        loop.run_until_complete(main())\n",
    "    finally:\n",
    "        loop.close()\n",
    "\n",
    "    # The try block runs the event loop until the main coroutine is complete. \n",
    "    # The finally block ensures that the event loop is closed afterward. \n",
    "    # The loop.close() call is essential to release any resources associated with the event loop."
   ]
  },
  {
   "cell_type": "markdown",
   "metadata": {},
   "source": [
    "Examples for synchronous web framworks: Flask, Django, Pyramid\n",
    "\n",
    "Examples for asynchronous web frameworks: gevent, aiohttp, Tornado, Sanic"
   ]
  }
 ],
 "metadata": {
  "kernelspec": {
   "display_name": "Python 3",
   "language": "python",
   "name": "python3"
  },
  "language_info": {
   "codemirror_mode": {
    "name": "ipython",
    "version": 3
   },
   "file_extension": ".py",
   "mimetype": "text/x-python",
   "name": "python",
   "nbconvert_exporter": "python",
   "pygments_lexer": "ipython3",
   "version": "3.11.5"
  }
 },
 "nbformat": 4,
 "nbformat_minor": 2
}
