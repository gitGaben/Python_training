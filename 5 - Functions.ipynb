{
 "cells": [
  {
   "cell_type": "markdown",
   "metadata": {},
   "source": [
    "# Functions"
   ]
  },
  {
   "cell_type": "markdown",
   "metadata": {},
   "source": [
    "In Python, a function is a block of reusable code that performs a specific task. Functions help in organizing and modularizing code, making it more readable, maintainable, and reusable.\n",
    "\n",
    "You can define a function using the def keyword, followed by the function name, parameters (if any), and a colon. Functions can take parameters, which are values passed to the function when it is called (you can add as many arguments as you want, just separate them with a comma). The function body is indented. \n",
    "\n",
    "In order to call a function, we have to use the function name followed by parenthesis, in which we can define the parameters (if necessary)."
   ]
  },
  {
   "cell_type": "code",
   "execution_count": 2,
   "metadata": {},
   "outputs": [
    {
     "name": "stdout",
     "output_type": "stream",
     "text": [
      "Hello, Alice!\n",
      "This function prints a greeting.\n"
     ]
    }
   ],
   "source": [
    "# Creating the function\n",
    "def greet(name):\n",
    "    \"\"\"This function prints a greeting.\"\"\"\n",
    "    print(f\"Hello, {name}!\")\n",
    "\n",
    "# Calling the function\n",
    "greet(\"Alice\")\n",
    "\n",
    "# Accessing the docstring\n",
    "docstring = greet.__doc__\n",
    "\n",
    "# Printing the docstring\n",
    "print(docstring)"
   ]
  },
  {
   "cell_type": "markdown",
   "metadata": {},
   "source": [
    "In the example above, greet is a function that takes one parameter (name) and prints a greeting. The string within triple quotes is called a docstring, which provides documentation for the function. We can access the docstring by using the function name and doc keyword with double underscore.\n",
    "\n",
    "In the below example we will define a function, which prints out the animal type and pet name given to it. The order of arguments will be important, since it will process the arguments in the same order, as the function was defined in the beginning.\n",
    "\n",
    "If we want to disregard the order of the arguments, we can use keywords as well."
   ]
  },
  {
   "cell_type": "code",
   "execution_count": 7,
   "metadata": {},
   "outputs": [
    {
     "name": "stdout",
     "output_type": "stream",
     "text": [
      "\n",
      "I have a hamster.\n",
      "My hamster's name is Harry.\n",
      "\n",
      "I have a harry.\n",
      "My harry's name is Hamster.\n",
      "\n",
      "I have a snake.\n",
      "My snake's name is Sanyi.\n"
     ]
    }
   ],
   "source": [
    "# Creating a function with 2 parameters\n",
    "def describe_pet(animal_type, pet_name):\n",
    "    \"\"\"Display information about a pet.\"\"\"\n",
    "    print(f\"\\nI have a {animal_type}.\")\n",
    "    print(\"My \" + animal_type + \"'s name is \" + pet_name.title() + \".\")\n",
    "\n",
    "# Calling the function\n",
    "describe_pet('hamster', 'harry') #Output: I have a hamster. My hamster's name is Harry\n",
    "describe_pet('harry', 'hamster') #Output: I have a harry. My harry's name is Hamster.\n",
    "\n",
    "#Calling the function with keywords\n",
    "describe_pet(pet_name='Sanyi', animal_type='snake')\n"
   ]
  },
  {
   "cell_type": "markdown",
   "metadata": {},
   "source": [
    "You can create functions with no content, but they cannot stay fully empty. To overcome this issue, we can write pass into the function's body.\n",
    "\n",
    "It serves as a placeholder where syntactically some code is required but no action is desired or necessary. It does nothing and allows the program to pass over that point without generating any syntax or runtime errors."
   ]
  },
  {
   "cell_type": "code",
   "execution_count": 30,
   "metadata": {},
   "outputs": [],
   "source": [
    "def my_function():\n",
    "    # To be implemented later\n",
    "    pass"
   ]
  },
  {
   "cell_type": "markdown",
   "metadata": {},
   "source": [
    "You can specify the expected data types for function parameters in the function signature. In Python, type hints in function signatures are primarily for documentation and tooling support (like IDEs), and they are not enforced at runtime by default. The interpreter won't raise an error if the types specified in the function signature don't match the actual types during runtime."
   ]
  },
  {
   "cell_type": "code",
   "execution_count": 43,
   "metadata": {},
   "outputs": [
    {
     "name": "stdout",
     "output_type": "stream",
     "text": [
      "x is a string: hello\n",
      "y is an integer: 42\n",
      "x is a string: 42\n",
      "y is an integer: 42\n"
     ]
    }
   ],
   "source": [
    "def example_function(x: str, y: int):\n",
    "    \"\"\"Example function with specified data types for parameters.\"\"\"\n",
    "    \n",
    "    # Rest of the function logic goes here\n",
    "    print(f\"x is a string: {x}\")\n",
    "    print(f\"y is an integer: {y}\")\n",
    "\n",
    "# Example usage\n",
    "example_function(\"hello\", 42)\n",
    "example_function(42, 42)\n"
   ]
  },
  {
   "cell_type": "markdown",
   "metadata": {},
   "source": [
    "You can provide default values for function parameters. If a value is not provided when the function is called, the default value is used. \n",
    "\n",
    "**You can only use the default parameter at the end of your arguments!**"
   ]
  },
  {
   "cell_type": "code",
   "execution_count": 19,
   "metadata": {},
   "outputs": [
    {
     "name": "stdout",
     "output_type": "stream",
     "text": [
      "\n",
      "I have a dog.\n",
      "My dog's name is Willie.\n",
      "\n",
      "I have a dog.\n",
      "My dog's name is Willie.\n",
      "\n",
      "I have a hamster.\n",
      "My hamster's name is Harry.\n"
     ]
    }
   ],
   "source": [
    "# Creating a function with a default value\n",
    "def describe_pet(pet_name, animal_type='dog'):\n",
    "    \"\"\"Display information about a pet.\"\"\"\n",
    "    print(f\"\\nI have a {animal_type}.\")\n",
    "    print(f\"My {animal_type}'s name is {pet_name.title()}.\")\n",
    "\n",
    "describe_pet('willie') # Output: I have a dog. My dog's name is Willie.\n",
    "describe_pet(pet_name='willie') # Output: I have a dog. My dog's name is Willie.\n",
    "describe_pet('harry','hamster') # Output: I have a hamster. My hamster's name is Harry."
   ]
  },
  {
   "cell_type": "markdown",
   "metadata": {},
   "source": [
    "**Functions can return a value using the return statement. The value returned by the function can be assigned to a variable or used directly.**"
   ]
  },
  {
   "cell_type": "code",
   "execution_count": 1,
   "metadata": {},
   "outputs": [
    {
     "name": "stdout",
     "output_type": "stream",
     "text": [
      "Jimi Hendrix\n"
     ]
    },
    {
     "data": {
      "text/plain": [
       "'Jimi Hendrix'"
      ]
     },
     "execution_count": 1,
     "metadata": {},
     "output_type": "execute_result"
    }
   ],
   "source": [
    "# Creating a function\n",
    "def get_formatted_name(first_name, last_name):\n",
    "    \"\"\"Return a full name, neatly formatted.\"\"\"\n",
    "    full_name = first_name + ' ' + last_name\n",
    "    return full_name.title()\n",
    "\n",
    "# Assign the function result to a variable\n",
    "musician = get_formatted_name('jimi', 'hendrix')\n",
    "\n",
    "# Print out the created variable\n",
    "print(musician)\n",
    "get_formatted_name('jimi', 'hendrix')"
   ]
  },
  {
   "cell_type": "markdown",
   "metadata": {},
   "source": [
    "**Truthy Values:** Values that are considered true when used in a boolean context. Examples include non-empty strings, non-zero numbers, and non-empty containers (lists, dictionaries, etc.).\n",
    "\n",
    "**Falsy Values:** Values that are considered false when used in a boolean context. Examples include empty strings (\"\"), the number 0, None, and empty containers.\n",
    "\n",
    "The if statement in Python is used to conditionally execute a block of code based on the truthiness or falsiness of an expression. If the expression evaluates to True, the code inside the if block is executed. Otherwise, if the expression is False, the code inside the else block (if present) is executed."
   ]
  },
  {
   "cell_type": "code",
   "execution_count": 46,
   "metadata": {},
   "outputs": [
    {
     "name": "stdout",
     "output_type": "stream",
     "text": [
      "Middle name is: a\n",
      "No middle name provided\n"
     ]
    }
   ],
   "source": [
    "middle_name = 'a'\n",
    "\n",
    "#if bool(middle_name) is True\n",
    "if middle_name:\n",
    "    # Code to be executed when middle_name is not an empty string or evaluates to True\n",
    "    print(f\"Middle name is: {middle_name}\")\n",
    "else:\n",
    "    # Code to be executed when middle_name is an empty string or evaluates to False\n",
    "    print(\"No middle name provided\")\n",
    "\n",
    "middle_name_test = ''\n",
    "\n",
    "if middle_name_test:\n",
    "    # Code to be executed when middle_name is not an empty string or evaluates to True\n",
    "    print(f\"Middle name is: {middle_name_test}\")\n",
    "else:\n",
    "    # Code to be executed when middle_name is an empty string or evaluates to False\n",
    "    print(\"No middle name provided\")"
   ]
  },
  {
   "cell_type": "markdown",
   "metadata": {},
   "source": [
    "In Python, we can create a function with an optional parameter by assigning an empty value to the parameter in the function definition. In the below example if a value is provided for middle_name when calling the function, it will be used. If not, the default value is an empty string.\n",
    "\n",
    "It behaves similarly like the default parameter, we have to put it to the end of our parameter list. If we have default values and optional values in the same function, they are interchangeable."
   ]
  },
  {
   "cell_type": "code",
   "execution_count": 28,
   "metadata": {},
   "outputs": [
    {
     "name": "stdout",
     "output_type": "stream",
     "text": [
      "Jimi Hendrix\n",
      "John Lee Hooker\n"
     ]
    }
   ],
   "source": [
    "# Creating a function with optional value\n",
    "def get_formatted_name(first_name, last_name, middle_name=''):\n",
    "    \"\"\"Return a full name, neatly formatted.\"\"\"\n",
    "    # Code to be executed when middle_name is not an empty string or evaluates to True\n",
    "    if middle_name:\n",
    "        full_name = first_name + ' ' + middle_name + ' ' + last_name\n",
    "    # Code to be executed when middle_name is an empty string or evaluates to False\n",
    "    else:\n",
    "        full_name = first_name + ' ' + last_name\n",
    "\n",
    "    return full_name.title()\n",
    "\n",
    "# Example 1\n",
    "musician = get_formatted_name('jimi', 'hendrix')\n",
    "print(musician) #Output: Jimi Hendrix\n",
    "\n",
    "# Example 2\n",
    "musician = get_formatted_name('john', 'hooker', 'lee')\n",
    "print(musician) #Output: John Lee Hooker"
   ]
  },
  {
   "cell_type": "markdown",
   "metadata": {},
   "source": [
    "When you define a function in Python, you don't explicitly specify the types of the parameters. Instead, you can pass any object of any type, and as long as the operations you perform inside the function are valid for that object, the function will work.\n",
    "\n",
    "Here's an example to illustrate this concept:"
   ]
  },
  {
   "cell_type": "code",
   "execution_count": 47,
   "metadata": {},
   "outputs": [
    {
     "name": "stdout",
     "output_type": "stream",
     "text": [
      "Data: Hello, World!\n",
      "Type of data: <class 'str'>\n",
      "Data: 42\n",
      "Type of data: <class 'int'>\n",
      "Data: [1, 2, 3]\n",
      "Type of data: <class 'list'>\n",
      "Data: {'name': 'Alice', 'age': 30}\n",
      "Type of data: <class 'dict'>\n"
     ]
    }
   ],
   "source": [
    "def print_data(data):\n",
    "    \"\"\"Print the data and its type.\"\"\"\n",
    "    print(f\"Data: {data}\")\n",
    "    print(f\"Type of data: {type(data)}\")\n",
    "\n",
    "# Example usage\n",
    "print_data(\"Hello, World!\")\n",
    "print_data(42)\n",
    "print_data([1, 2, 3])\n",
    "print_data({\"name\": \"Alice\", \"age\": 30})"
   ]
  },
  {
   "cell_type": "code",
   "execution_count": 48,
   "metadata": {},
   "outputs": [
    {
     "name": "stdout",
     "output_type": "stream",
     "text": [
      "apple\n",
      "banana\n",
      "cherry\n",
      "{'first': 'jimi', 'last': 'hendrix', 'age': 27}\n",
      "name: Alice\n",
      "age: 30\n",
      "city: Wonderland\n"
     ]
    }
   ],
   "source": [
    "# Creating a function\n",
    "def my_function(food):\n",
    "    for x in food:\n",
    "        print(x)\n",
    "\n",
    "# Defining a list\n",
    "fruits = [\"apple\", \"banana\", \"cherry\"]\n",
    "\n",
    "# Running the function with a list in its argument\n",
    "my_function(fruits)\n",
    "\n",
    "\n",
    "# Creating a function, which returns a dictionary\n",
    "def build_person(first_name, last_name, age=''):\n",
    "    \"\"\"Return a dictionary of information about a person.\"\"\"\n",
    "    person = {'first': first_name, 'last': last_name}\n",
    "    if age:\n",
    "        person['age'] = age\n",
    "    return person\n",
    "\n",
    "# Example usage\n",
    "musician = build_person('jimi', 'hendrix', age=27)\n",
    "print(musician) #Output: {'first': 'jimi', 'last': 'hendrix', 'age': 27}\n",
    "\n",
    "\n",
    "# Creating a function, which requires a dictionary as input\n",
    "def process_dictionary(input_dict):\n",
    "    \"\"\"Process and print information from the given dictionary.\"\"\"\n",
    "    for key, value in input_dict.items():\n",
    "        print(f\"{key}: {value}\")\n",
    "\n",
    "# Defining a dictionary\n",
    "my_dict = {'name': 'Alice', 'age': 30, 'city': 'Wonderland'}\n",
    "\n",
    "# Running the function with a dictionary in its argument\n",
    "process_dictionary(my_dict) #Output: name: Alice age: 30 city: Wonderland"
   ]
  },
  {
   "cell_type": "markdown",
   "metadata": {},
   "source": [
    "In Python, *args and **kwargs are used to allow a function to accept a variable number of arguments."
   ]
  },
  {
   "cell_type": "markdown",
   "metadata": {},
   "source": [
    "**(Arbitrary Arguments):**\n",
    "\n",
    "The *args syntax in a function definition allows it to accept any number of positional arguments. The term \"args\" is a convention, and you can choose any name, but the * is required. The arguments passed using *args are collected into a tuple."
   ]
  },
  {
   "cell_type": "code",
   "execution_count": 37,
   "metadata": {},
   "outputs": [
    {
     "name": "stdout",
     "output_type": "stream",
     "text": [
      "1\n",
      "2\n",
      "3\n",
      "four\n"
     ]
    }
   ],
   "source": [
    "def print_arguments(*args):\n",
    "    for arg in args:\n",
    "        print(arg)\n",
    "\n",
    "print_arguments(1, 2, 3, 'four')\n"
   ]
  },
  {
   "cell_type": "markdown",
   "metadata": {},
   "source": [
    "**(Arbitrary Keyword Arguments):**\n",
    "\n",
    "The **kwargs syntax in a function definition allows it to accept any number of keyword arguments. The term \"kwargs\" is a convention, and you can choose any name, but the ** is required. The keyword arguments passed using **kwargs are collected into a dictionary.\n",
    "\n"
   ]
  },
  {
   "cell_type": "code",
   "execution_count": 2,
   "metadata": {},
   "outputs": [
    {
     "name": "stdout",
     "output_type": "stream",
     "text": [
      "name: Alice\n",
      "name Alice\n",
      "age: 30\n",
      "age 30\n",
      "city: Wonderland\n",
      "city Wonderland\n"
     ]
    }
   ],
   "source": [
    "def print_keyword_arguments(**kwargs):\n",
    "    for key, value in kwargs.items():\n",
    "        print(f\"{key}: {value}\")\n",
    "        print(key, value)\n",
    "\n",
    "print_keyword_arguments(name='Alice', age=30, city='Wonderland')"
   ]
  },
  {
   "cell_type": "markdown",
   "metadata": {},
   "source": [
    "You can use both *args and **kwargs in the same function definition to accept a combination of positional and keyword arguments. The order of the arguments matter, you cannot use the keyword arguments before the simple arguments."
   ]
  },
  {
   "cell_type": "code",
   "execution_count": 53,
   "metadata": {},
   "outputs": [
    {
     "name": "stdout",
     "output_type": "stream",
     "text": [
      "1\n",
      "2\n",
      "3\n",
      "name: Alice\n",
      "age: 30\n",
      "city: Wonderland\n"
     ]
    }
   ],
   "source": [
    "def print_args_and_kwargs(*args, **kwargs):\n",
    "    # Print positional arguments (collected in a tuple)\n",
    "    for arg in args:\n",
    "        print(arg)\n",
    "    # Print keyword arguments (collected in a dictionary)\n",
    "    for key, value in kwargs.items():\n",
    "        print(f\"{key}: {value}\")\n",
    "\n",
    "print_args_and_kwargs(1, 2, 3, name='Alice', age=30, city='Wonderland')"
   ]
  }
 ],
 "metadata": {
  "kernelspec": {
   "display_name": "Python 3",
   "language": "python",
   "name": "python3"
  },
  "language_info": {
   "codemirror_mode": {
    "name": "ipython",
    "version": 3
   },
   "file_extension": ".py",
   "mimetype": "text/x-python",
   "name": "python",
   "nbconvert_exporter": "python",
   "pygments_lexer": "ipython3",
   "version": "3.11.5"
  }
 },
 "nbformat": 4,
 "nbformat_minor": 2
}
