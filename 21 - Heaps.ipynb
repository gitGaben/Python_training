{
 "cells": [
  {
   "cell_type": "markdown",
   "metadata": {},
   "source": [
    "# Heaps"
   ]
  },
  {
   "cell_type": "markdown",
   "metadata": {},
   "source": [
    "A tree-based data structure in which the value of a parent node is ordered in a certain way with respect to the value of its child node(s). A heap can be either a min heap (the value of a parent node is less than or equal to the value of its children) or a max heap (the value of a parent node is greater than or equal to the value of its children)."
   ]
  },
  {
   "cell_type": "markdown",
   "metadata": {},
   "source": [
    "Heap Operations:\n",
    "\n",
    "Insertion: Adds a new element to the heap while maintaining the heap property.\n",
    "\n",
    "Deletion: Removes the root element from the heap while maintaining the heap property.\n",
    "\n",
    "Heapify: Converts an array into a heap, ensuring that the heap property is satisfied.\n",
    "\n",
    "Extract Max/Min: Removes and returns the maximum (for Max Heap) or minimum (for Min Heap) element from the heap.\n",
    "\n",
    "Heap Sort: Uses a heap to implement an in-place sorting algorithm."
   ]
  },
  {
   "cell_type": "code",
   "execution_count": 3,
   "metadata": {},
   "outputs": [
    {
     "name": "stdout",
     "output_type": "stream",
     "text": [
      "Min Heap: [0, 2, 1, 3, 5, 4]\n",
      "Extracted Elements from Min Heap: [0, 1, 2, 3, 4, 5]\n"
     ]
    }
   ],
   "source": [
    "class MinHeap:\n",
    "    def __init__(self):\n",
    "        self.heap = []\n",
    "\n",
    "    def push(self, value):\n",
    "        self.heap.append(value)\n",
    "        self._heapify_up()\n",
    "\n",
    "    def pop(self):\n",
    "        if not self.heap:\n",
    "            raise IndexError(\"pop from an empty heap\")\n",
    "        root = self.heap[0]\n",
    "        last_element = self.heap.pop()\n",
    "        if self.heap:\n",
    "            self.heap[0] = last_element\n",
    "            self._heapify_down()\n",
    "        return root\n",
    "\n",
    "    def _heapify_up(self):\n",
    "        index = len(self.heap) - 1\n",
    "        while index > 0:\n",
    "            parent_index = (index - 1) // 2\n",
    "            if self.heap[index] < self.heap[parent_index]:\n",
    "                self.heap[index], self.heap[parent_index] = self.heap[parent_index], self.heap[index]\n",
    "                index = parent_index\n",
    "            else:\n",
    "                break\n",
    "\n",
    "    def _heapify_down(self):\n",
    "        index = 0\n",
    "        while True:\n",
    "            left_child_index = 2 * index + 1\n",
    "            right_child_index = 2 * index + 2\n",
    "            smallest = index\n",
    "\n",
    "            if left_child_index < len(self.heap) and self.heap[left_child_index] < self.heap[smallest]:\n",
    "                smallest = left_child_index\n",
    "\n",
    "            if right_child_index < len(self.heap) and self.heap[right_child_index] < self.heap[smallest]:\n",
    "                smallest = right_child_index\n",
    "\n",
    "            if smallest != index:\n",
    "                self.heap[index], self.heap[smallest] = self.heap[smallest], self.heap[index]\n",
    "                index = smallest\n",
    "            else:\n",
    "                break\n",
    "\n",
    "# Example usage of MinHeap\n",
    "min_heap = MinHeap()\n",
    "min_heap.push(3)\n",
    "min_heap.push(1)\n",
    "min_heap.push(4)\n",
    "min_heap.push(2)\n",
    "min_heap.push(5)\n",
    "min_heap.push(0)\n",
    "\n",
    "print(\"Min Heap:\", min_heap.heap)\n",
    "\n",
    "# Extracting elements from the Min Heap\n",
    "extracted_elements = []\n",
    "while min_heap.heap:\n",
    "    extracted_elements.append(min_heap.pop())\n",
    "\n",
    "print(\"Extracted Elements from Min Heap:\", extracted_elements)"
   ]
  },
  {
   "cell_type": "markdown",
   "metadata": {},
   "source": [
    "Interpreting Array as Min Heap:\n",
    "\n",
    "For a Min Heap, each node must be less than or equal to its children. The array is interpreted as a complete binary tree where the minimum value is at the root, and the values increase as you move down the tree.\n",
    "\n",
    "Array: [ 1, 3, 4, 6, 9, 8, 10 ]\n",
    "\n",
    "Interpretation:"
   ]
  },
  {
   "cell_type": "code",
   "execution_count": null,
   "metadata": {},
   "outputs": [],
   "source": [
    "#            1\n",
    "#          /   \\\n",
    "#         3     4\n",
    "#        / \\   / \\\n",
    "#       6   9 8  10\n"
   ]
  },
  {
   "cell_type": "code",
   "execution_count": 7,
   "metadata": {},
   "outputs": [
    {
     "name": "stdout",
     "output_type": "stream",
     "text": [
      "Max Heap: [8, 4, 7, 1, 2, 3, 5, 0]\n",
      "Extracted Elements from Max Heap: [8, 7, 5, 4, 3, 2, 1, 0]\n"
     ]
    }
   ],
   "source": [
    "class MaxHeap:\n",
    "    def __init__(self):\n",
    "        self.heap = []\n",
    "\n",
    "    def push(self, value):\n",
    "        self.heap.append(value)\n",
    "        self._heapify_up()\n",
    "\n",
    "    def pop(self):\n",
    "        if not self.heap:\n",
    "            raise IndexError(\"pop from an empty heap\")\n",
    "        root = self.heap[0]\n",
    "        last_element = self.heap.pop()\n",
    "        if self.heap:\n",
    "            self.heap[0] = last_element\n",
    "            self._heapify_down()\n",
    "        return root\n",
    "\n",
    "    def _heapify_up(self):\n",
    "        index = len(self.heap) - 1\n",
    "        while index > 0:\n",
    "            parent_index = (index - 1) // 2\n",
    "            if self.heap[index] > self.heap[parent_index]:\n",
    "                self.heap[index], self.heap[parent_index] = self.heap[parent_index], self.heap[index]\n",
    "                index = parent_index\n",
    "            else:\n",
    "                break\n",
    "\n",
    "    def _heapify_down(self):\n",
    "        index = 0\n",
    "        while True:\n",
    "            left_child_index = 2 * index + 1\n",
    "            right_child_index = 2 * index + 2\n",
    "            largest = index\n",
    "\n",
    "            if left_child_index < len(self.heap) and self.heap[left_child_index] > self.heap[largest]:\n",
    "                largest = left_child_index\n",
    "\n",
    "            if right_child_index < len(self.heap) and self.heap[right_child_index] > self.heap[largest]:\n",
    "                largest = right_child_index\n",
    "\n",
    "            if largest != index:\n",
    "                self.heap[index], self.heap[largest] = self.heap[largest], self.heap[index]\n",
    "                index = largest\n",
    "            else:\n",
    "                break\n",
    "\n",
    "# Example usage of MaxHeap\n",
    "max_heap = MaxHeap()\n",
    "max_heap.push(3)\n",
    "max_heap.push(1)\n",
    "max_heap.push(4)\n",
    "max_heap.push(2)\n",
    "max_heap.push(5)\n",
    "max_heap.push(8)\n",
    "max_heap.push(7)\n",
    "max_heap.push(0)\n",
    "\n",
    "print(\"Max Heap:\", max_heap.heap)\n",
    "\n",
    "# Extracting elements from the Max Heap\n",
    "extracted_elements = []\n",
    "while max_heap.heap:\n",
    "    extracted_elements.append(max_heap.pop())\n",
    "\n",
    "print(\"Extracted Elements from Max Heap:\", extracted_elements)\n"
   ]
  },
  {
   "cell_type": "markdown",
   "metadata": {},
   "source": [
    "Interpreting Array as Max Heap:\n",
    "\n",
    "For a Max Heap, each node must be greater than or equal to its children. The array is interpreted as a complete binary tree where the maximum value is at the root, and the values decrease as you move down the tree.\n",
    "\n",
    "Array: [ 10, 9, 4, 6, 3, 8, 1 ]\n",
    "\n",
    "Interpretation:"
   ]
  },
  {
   "cell_type": "code",
   "execution_count": null,
   "metadata": {},
   "outputs": [],
   "source": [
    "#            10\n",
    "#          /    \\\n",
    "#         9      4\n",
    "#        / \\    / \\\n",
    "#       6   3  8   1\n"
   ]
  },
  {
   "cell_type": "markdown",
   "metadata": {},
   "source": [
    "\n",
    "Insertion O(logn): Finding the exact position of the new element is performed in logn since it is only compared with the position of the parent nodes.\n",
    "\n",
    "Delete Min O(logn): After the minimum element is removed, the heap has to put the new root in place.\n",
    "\n",
    "Find Min O(1): This is possible because the heap data structure always has the minimum element on the root node.\n",
    "Heapify O(n): This operation rearranges all the nodes after deletion or insertion operation. The cost of this operation is n since all the elements have to be moved to keep the heap properties.\n",
    "\n",
    "Delete O(logn): A specific element from the heap can be removed in logn time."
   ]
  }
 ],
 "metadata": {
  "kernelspec": {
   "display_name": "Python 3",
   "language": "python",
   "name": "python3"
  },
  "language_info": {
   "codemirror_mode": {
    "name": "ipython",
    "version": 3
   },
   "file_extension": ".py",
   "mimetype": "text/x-python",
   "name": "python",
   "nbconvert_exporter": "python",
   "pygments_lexer": "ipython3",
   "version": "3.11.5"
  }
 },
 "nbformat": 4,
 "nbformat_minor": 2
}
