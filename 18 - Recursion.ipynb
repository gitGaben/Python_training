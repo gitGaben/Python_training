{
 "cells": [
  {
   "cell_type": "markdown",
   "metadata": {},
   "source": [
    "# Recursion"
   ]
  },
  {
   "cell_type": "markdown",
   "metadata": {},
   "source": [
    "Recursion is a programming concept where a function calls itself directly or indirectly to solve a problem in terms of smaller instances of the same problem. In other words, a recursive function is a function that performs a task in part and delegates the remaining task to a new invocation of itself. The process continues until a base case is reached, at which point the function returns a result without making further recursive calls.\n",
    "\n",
    "Recursion involves breaking a problem down into smaller subproblems until they’re small enough to manage. In programming, recursion is usually expressed by a function calling itself.\n",
    "\n",
    "Recursion uses more memory, because the recursive function adds to the stack with each recursive call, and keeps the values there until the call is finished. The recursive function uses LIFO (LAST IN FIRST OUT) \n",
    "\n",
    "<br>\n",
    "\n",
    "A recursive function typically has two main components:\n",
    "\n",
    "<br>\n",
    "\n",
    "**Base Case:**\n",
    "\n",
    "The base case defines the simplest scenario for which the function can provide a direct result without making further recursive calls. It prevents the function from infinitely calling itself.\n",
    "\n",
    "<br>\n",
    "\n",
    "**Recursive Case:**\n",
    "\n",
    "The recursive case defines how the problem is broken down into smaller sub-problems, and the function is called again with these sub-problems."
   ]
  },
  {
   "cell_type": "code",
   "execution_count": 3,
   "metadata": {},
   "outputs": [
    {
     "name": "stdout",
     "output_type": "stream",
     "text": [
      "Base case reached: factorial(0) = 1\n",
      "Calculating factorial(1) = 1 * factorial(0) = 1\n",
      "Calculating factorial(2) = 2 * factorial(1) = 2\n",
      "Calculating factorial(3) = 3 * factorial(2) = 6\n",
      "Calculating factorial(4) = 4 * factorial(3) = 24\n",
      "Calculating factorial(5) = 5 * factorial(4) = 120\n",
      "The factorial of 5 is: 120\n"
     ]
    }
   ],
   "source": [
    "def factorial(n):\n",
    "    # Base case\n",
    "    if n == 0:\n",
    "        print(f\"Base case reached: factorial({n}) = 1\")\n",
    "        return 1\n",
    "    else:\n",
    "        # Recursive case\n",
    "        result = n * factorial(n - 1)\n",
    "        print(f\"Calculating factorial({n}) = {n} * factorial({n-1}) = {result}\")\n",
    "        return result\n",
    "\n",
    "# Example usage:\n",
    "result = factorial(5)\n",
    "print(f\"The factorial of 5 is: {result}\")"
   ]
  },
  {
   "cell_type": "code",
   "execution_count": 4,
   "metadata": {},
   "outputs": [
    {
     "name": "stdout",
     "output_type": "stream",
     "text": [
      "Fibonacci(4) = 3\n"
     ]
    }
   ],
   "source": [
    "def fibonacci(n):\n",
    "    if n == 0 or n == 1:\n",
    "        return n\n",
    "    else:\n",
    "        return fibonacci(n - 1) + fibonacci(n - 2)\n",
    "\n",
    "result = fibonacci(4)\n",
    "print(\"Fibonacci(4) =\", result)"
   ]
  },
  {
   "cell_type": "markdown",
   "metadata": {},
   "source": [
    "Order of solving for fibonacci(4):\n",
    "\n",
    "fibonacci(4) calls fibonacci(3) and fibonacci(2).\n",
    "\n",
    "fibonacci(3) calls fibonacci(2) and fibonacci(1).\n",
    "\n",
    "fibonacci(2) calls fibonacci(1) and fibonacci(0).\n",
    "\n",
    "Base cases are reached: fibonacci(1) and fibonacci(0) return 1 and 0, respectively.\n",
    "\n",
    "Recursive calls are unwound: fibonacci(2) returns fibonacci(1) + fibonacci(0) = 1 + 0 = 1.\n",
    "\n",
    "Further unwinding: fibonacci(3) returns fibonacci(2) + fibonacci(1) = 1 + 1 = 2.\n",
    "\n",
    "Final result: fibonacci(4) returns fibonacci(3) + fibonacci(2) = 2 + 1 = 3."
   ]
  }
 ],
 "metadata": {
  "kernelspec": {
   "display_name": "Python 3",
   "language": "python",
   "name": "python3"
  },
  "language_info": {
   "codemirror_mode": {
    "name": "ipython",
    "version": 3
   },
   "file_extension": ".py",
   "mimetype": "text/x-python",
   "name": "python",
   "nbconvert_exporter": "python",
   "pygments_lexer": "ipython3",
   "version": "3.11.5"
  }
 },
 "nbformat": 4,
 "nbformat_minor": 2
}
