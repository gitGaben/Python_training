{
 "cells": [
  {
   "cell_type": "markdown",
   "metadata": {},
   "source": [
    "# Lambda"
   ]
  },
  {
   "cell_type": "markdown",
   "metadata": {},
   "source": [
    "In Python, a lambda function is a concise way to create anonymous or unnamed functions. Unlike regular functions defined using the def keyword, lambda functions are defined using the lambda keyword.\n",
    "\n",
    "A lambda function can take any number of arguments, but can only have one expression.\n",
    "\n",
    "<br>\n",
    "\n",
    "The basic syntax of a lambda function is:\n",
    "\n",
    "<br>\n",
    "\n",
    "**lambda arguments: expression**\n",
    "\n",
    "<br>\n",
    "\n",
    "lambda: Keyword indicating the creation of a lambda function.\n",
    "\n",
    "arguments: The input parameters for the function.\n",
    "\n",
    "expression: The computation or operation the function performs."
   ]
  },
  {
   "cell_type": "markdown",
   "metadata": {},
   "source": [
    "Example 1: Simple Lambda Function"
   ]
  },
  {
   "cell_type": "code",
   "execution_count": 3,
   "metadata": {},
   "outputs": [
    {
     "name": "stdout",
     "output_type": "stream",
     "text": [
      "15\n",
      "5\n",
      "5\n"
     ]
    }
   ],
   "source": [
    "# Defining lambda function\n",
    "\n",
    "x = lambda a : a + 10\n",
    "\n",
    "print(x(5)) # Output: 15\n",
    "\n",
    "\n",
    "\n",
    "# Regular function\n",
    "def add(x, y):\n",
    "    return x + y\n",
    "\n",
    "# Equivalent lambda function\n",
    "add_lambda = lambda x, y: x + y\n",
    "\n",
    "print(add(2, 3))           # Output: 5\n",
    "print(add_lambda(2, 3))    # Output: 5"
   ]
  },
  {
   "cell_type": "markdown",
   "metadata": {},
   "source": [
    "The power of lambda is better shown when you use them as an anonymous function inside another function.\n",
    "\n",
    "Say you have a function definition that takes one argument, and that argument will be multiplied with an unknown number:"
   ]
  },
  {
   "cell_type": "code",
   "execution_count": 4,
   "metadata": {},
   "outputs": [
    {
     "name": "stdout",
     "output_type": "stream",
     "text": [
      "22\n"
     ]
    }
   ],
   "source": [
    "def myfunc(n):\n",
    "  return lambda a : a * n\n",
    "\n",
    "mydoubler = myfunc(2)\n",
    "\n",
    "print(mydoubler(11))"
   ]
  },
  {
   "cell_type": "markdown",
   "metadata": {},
   "source": [
    "map() is a built-in function in Python that applies a specified function to all the items in an iterable (e.g., a list, tuple, or string) and returns an iterator that produces the results. The basic syntax of the map() function is:\n",
    "\n",
    "map(function, iterable, ...)\n",
    "\n",
    "function: A function that takes one or more arguments.\n",
    "\n",
    "iterable: An iterable (e.g., a list, tuple, or string) whose elements will be passed to the function.\n",
    "\n",
    "\n",
    "map() applies the given function to each item in the iterable, and it returns an iterator over the results."
   ]
  },
  {
   "cell_type": "code",
   "execution_count": 7,
   "metadata": {},
   "outputs": [
    {
     "name": "stdout",
     "output_type": "stream",
     "text": [
      "[5, 7, 9]\n"
     ]
    }
   ],
   "source": [
    "# Using map with two iterables\n",
    "numbers1 = [1, 2, 3]\n",
    "\n",
    "numbers2 = [4, 5, 6]\n",
    "\n",
    "sums = map(lambda x, y: x + y, numbers1, numbers2)\n",
    "\n",
    "print(list(sums))\n",
    "# Output: [5, 7, 9]"
   ]
  },
  {
   "cell_type": "markdown",
   "metadata": {},
   "source": [
    "''.join() is a method in Python that joins together the elements of an iterable (such as a list, tuple, or string) into a single string. The join() method is called on a string, and it takes an iterable as its argument. It returns a new string that is the concatenation of the elements in the iterable, separated by the string on which the join() method was called.\n",
    "\n",
    "The join() method is particularly useful when you want to concatenate a large number of strings efficiently, as it performs better than repeated string concatenation using the + operator.\n",
    "\n",
    "<br>\n",
    "\n",
    "**separator_string.join(iterable)**\n",
    "\n",
    "<br>\n",
    "\n",
    "separator_string: The string that will be used to separate the elements in the iterable.\n",
    "\n",
    "iterable: The iterable whose elements will be joined together."
   ]
  },
  {
   "cell_type": "code",
   "execution_count": 19,
   "metadata": {},
   "outputs": [
    {
     "name": "stdout",
     "output_type": "stream",
     "text": [
      "Hello world !\n",
      "123\n",
      "P-y-t-h-o-n\n",
      "P-y-t-h-o-n\n"
     ]
    }
   ],
   "source": [
    "words = ['Hello', 'world', '!']\n",
    "\n",
    "joined_string = ' '.join(words)\n",
    "\n",
    "print(joined_string)\n",
    "# Output: \"Hello world !\"\n",
    "\n",
    "\n",
    "numbers = ['1', '2', '3']\n",
    "\n",
    "joined_numbers = ''.join(numbers)\n",
    "\n",
    "print(joined_numbers)\n",
    "# Output: \"123\"\n",
    "\n",
    "\n",
    "text = \"Python\"\n",
    "\n",
    "concatenated_text = '-'.join([char for char in text])\n",
    "\n",
    "concatenated_text_2 = '-'.join(text)\n",
    "\n",
    "print(concatenated_text)\n",
    "print(concatenated_text_2)\n",
    "\n",
    "# It goes through the characters 1 by 1\n",
    "\n",
    "# Output: \"P-y-t-h-o-n\""
   ]
  },
  {
   "cell_type": "markdown",
   "metadata": {},
   "source": [
    "filter() is another built-in function in Python that is used to filter elements from an iterable (e.g., a list) based on a specified function (or a lambda function). It returns an iterator containing only the elements for which the function returns True.\n",
    "\n",
    "<br>\n",
    "\n",
    "**filter(function, iterable)**\n",
    "\n",
    "<br>\n",
    "\n",
    "function: A function that tests each element of the iterable. If None, it simply returns the elements that are true.\n",
    "\n",
    "iterable: An iterable (e.g., a list, tuple, or string) whose elements will be tested by the function."
   ]
  },
  {
   "cell_type": "code",
   "execution_count": 14,
   "metadata": {},
   "outputs": [
    {
     "name": "stdout",
     "output_type": "stream",
     "text": [
      "<filter object at 0x10424d0c0>\n",
      "[2, 4, 6, 8]\n",
      "[1, 2, 3, 4]\n",
      "['apple', 'banana', 'orange']\n"
     ]
    }
   ],
   "source": [
    "# Example 1: Filtering Even Numbers\n",
    "\n",
    "numbers = [1, 2, 3, 4, 5, 6, 7, 8, 9]\n",
    "\n",
    "# Using filter to keep only even numbers\n",
    "even_numbers = filter(lambda x: x % 2 == 0, numbers)\n",
    "\n",
    "print(list(even_numbers))\n",
    "# Output: [2, 4, 6, 8]\n",
    "\n",
    "\n",
    "# Example 2: Filtering Positive Numbers\n",
    "\n",
    "numbers = [-2, -1, 0, 1, 2, 3, 4]\n",
    "\n",
    "\n",
    "# Using filter to keep only positive numbers\n",
    "positive_numbers = filter(lambda x: x > 0, numbers)\n",
    "\n",
    "print(list(positive_numbers))\n",
    "# Output: [1, 2, 3, 4]\n",
    "\n",
    "\n",
    "# Example 3: Filtering Non-Empty Strings\n",
    "\n",
    "words = ['', 'apple', 'banana', '', 'orange']\n",
    "\n",
    "# Using filter to keep only non-empty strings\n",
    "non_empty_words = filter(lambda x: x != '', words)\n",
    "\n",
    "print(list(non_empty_words))\n",
    "# Output: ['apple', 'banana', 'orange']"
   ]
  },
  {
   "cell_type": "code",
   "execution_count": 13,
   "metadata": {},
   "outputs": [
    {
     "name": "stdout",
     "output_type": "stream",
     "text": [
      "[6 7 8 9]\n"
     ]
    }
   ],
   "source": [
    "import numpy as np\n",
    "\n",
    "x_numbers = np.array([1, 2, 3, 4, 5, 6, 7, 8, 9])\n",
    "\n",
    "y_numbers = x_numbers > 5\n",
    "\n",
    "asd = x_numbers[y_numbers]\n",
    "\n",
    "print(asd)"
   ]
  },
  {
   "cell_type": "code",
   "execution_count": 21,
   "metadata": {},
   "outputs": [
    {
     "name": "stdout",
     "output_type": "stream",
     "text": [
      "[(4, 1), (2, 3), (1, 5), (3, 7)]\n",
      "[1, 4, 9, 16, 25]\n",
      "['H', 'E', 'L', 'L', 'O']\n",
      "H-E-L-L-O\n",
      "['H', 'E', 'L', 'L', 'O']\n",
      "H-E-L-L-O\n"
     ]
    }
   ],
   "source": [
    "# Sorting a list of tuples based on the second element\n",
    "pairs = [(1, 5), (2, 3), (4, 1), (3, 7)]\n",
    "\n",
    "sorted_pairs = sorted(pairs, key=lambda x: x[1])\n",
    "\n",
    "print(sorted_pairs)\n",
    "# Output: [(4, 1), (2, 3), (1, 5), (3, 7)]\n",
    "\n",
    "\n",
    "# Using map with lambda to square each element of a list\n",
    "numbers = [1, 2, 3, 4, 5]\n",
    "\n",
    "squared_numbers = list(map(lambda x: x**2, numbers))\n",
    "\n",
    "print(squared_numbers)\n",
    "# Output: [1, 4, 9, 16, 25]\n",
    "\n",
    "\n",
    "text = \"hello\"\n",
    "uppercase_text = map(lambda x: x.upper(), text)\n",
    "\n",
    "uppercase_text_2 = map(lambda x: x.title(), text)\n",
    "\n",
    "y = list(uppercase_text)\n",
    "\n",
    "print(y) # Output: ['H', 'E', 'L', 'L', 'O']\n",
    "\n",
    "print('-'.join(y)) # Output: H-E-L-L-O\n",
    "\n",
    "y2 = list(uppercase_text_2)\n",
    "\n",
    "print(y2) # Output: ['H', 'E', 'L', 'L', 'O']\n",
    "\n",
    "print('-'.join(y2)) # Output: H-E-L-L-O\n",
    "\n",
    "# The map() goes through the characters 1 by 1, that is why the title function makes all of the letters capital."
   ]
  }
 ],
 "metadata": {
  "kernelspec": {
   "display_name": "Python 3",
   "language": "python",
   "name": "python3"
  },
  "language_info": {
   "codemirror_mode": {
    "name": "ipython",
    "version": 3
   },
   "file_extension": ".py",
   "mimetype": "text/x-python",
   "name": "python",
   "nbconvert_exporter": "python",
   "pygments_lexer": "ipython3",
   "version": "3.11.5"
  }
 },
 "nbformat": 4,
 "nbformat_minor": 2
}
